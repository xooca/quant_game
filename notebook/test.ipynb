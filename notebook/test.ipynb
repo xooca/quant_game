{
 "cells": [
  {
   "cell_type": "code",
   "execution_count": 1,
   "metadata": {},
   "outputs": [],
   "source": [
    "import sys,os\n",
    "sys.path.append(\"/Users/prabhatkumar/Library/CloudStorage/GoogleDrive-888prabhat@gmail.com/My Drive/Work/trading/\")"
   ]
  },
  {
   "cell_type": "code",
   "execution_count": 2,
   "metadata": {},
   "outputs": [],
   "source": [
    "import data.features.duckdb_utils as du\n",
    "import duckdb"
   ]
  },
  {
   "cell_type": "code",
   "execution_count": 3,
   "metadata": {},
   "outputs": [],
   "source": [
    "con = duckdb.connect(database='/Volumes/Seagate/database/development/test', read_only=False)"
   ]
  },
  {
   "cell_type": "code",
   "execution_count": 4,
   "metadata": {},
   "outputs": [
    {
     "name": "stdout",
     "output_type": "stream",
     "text": [
      "create schema sql is CREATE SCHEMA IF NOT EXISTS tester\n"
     ]
    }
   ],
   "source": [
    "du.create_schema(con,schema_name='tester')"
   ]
  },
  {
   "cell_type": "code",
   "execution_count": 5,
   "metadata": {},
   "outputs": [],
   "source": [
    "import pandas as pd\n",
    "df = pd.read_csv(\"/Users/prabhatkumar/Library/CloudStorage/GoogleDrive-888prabhat@gmail.com/My Drive/Work/trading/data_files/banknifty/2022-10-06/training/train.csv\")"
   ]
  },
  {
   "cell_type": "code",
   "execution_count": 12,
   "metadata": {},
   "outputs": [],
   "source": [
    "df = df.rename(columns={'Unnamed: 0':'timestamp'})"
   ]
  },
  {
   "cell_type": "code",
   "execution_count": 13,
   "metadata": {},
   "outputs": [
    {
     "data": {
      "text/plain": [
       "Index(['timestamp', 'momentum_ADX', 'momentum_ADXR', 'momentum_APO',\n",
       "       'momentum_BOP', 'momentum_CCI', 'momentum_CMO', 'momentum_DX',\n",
       "       'momentum_MACDEXT', 'momentum_MACDEXT_SIGNAL',\n",
       "       ...\n",
       "       'PDR_high_low_price_deviation_min_second_col_1230_0130',\n",
       "       'PDR_high_low_price_deviation_min_second_col_0230_1530',\n",
       "       'label_-15_1min_close', 'label_-30_1min_close', 'label_-60_1min_close',\n",
       "       'label_-45_1min_close', 'label_-15_1min_close_SL',\n",
       "       'label_-30_1min_close_SL', 'label_-60_1min_close_SL',\n",
       "       'label_-45_1min_close_SL'],\n",
       "      dtype='object', length=1482)"
      ]
     },
     "execution_count": 13,
     "metadata": {},
     "output_type": "execute_result"
    }
   ],
   "source": [
    "df.columns"
   ]
  },
  {
   "cell_type": "code",
   "execution_count": 24,
   "metadata": {},
   "outputs": [],
   "source": [
    "def create_table(connection,table_name,create_table_arg,df=None):\n",
    "    if 'select_sql' in create_table_arg and (create_table_arg.get('replace')==False or create_table_arg.get('replace') is None):\n",
    "        sql = f\"CREATE TABLE IF NOT EXISTS {table_name} AS {create_table_arg.get('select_sql')}\"\n",
    "    if 'table_column_arg' in create_table_arg and (create_table_arg.get('replace')==False or create_table_arg.get('replace') is None):\n",
    "        sql = f\"CREATE TABLE IF NOT EXISTS {table_name} ({create_table_arg.get('table_column_arg')})\"\n",
    "    if 'select_sql' in create_table_arg and create_table_arg.get('replace')==True:\n",
    "        sql = f\"CREATE OR REPLACE TABLE {table_name} AS {create_table_arg.get('select_sql')}\"\n",
    "    if 'table_column_arg' in create_table_arg and create_table_arg.get('replace')==True:\n",
    "        sql = f\"CREATE OR REPLACE TABLE {table_name} ({create_table_arg.get('table_column_arg')})\"  \n",
    "    if  df is not None and create_table_arg.get('replace')==True:\n",
    "        sql = f\"CREATE OR REPLACE TABLE {table_name} AS select * from df\"  \n",
    "    if  df is not None and create_table_arg.get('replace')==False:\n",
    "        sql = f\"CREATE TABLE {table_name} AS select * from df\" \n",
    "    print(f\"create table sql is {sql}\")\n",
    "    connection.execute(sql)"
   ]
  },
  {
   "cell_type": "code",
   "execution_count": 25,
   "metadata": {},
   "outputs": [
    {
     "name": "stdout",
     "output_type": "stream",
     "text": [
      "create table sql is CREATE OR REPLACE TABLE tester.mytable1 AS select * from df\n"
     ]
    }
   ],
   "source": [
    "create_table(con,table_name='tester.mytable1',create_table_arg={'replace':True},df=df)"
   ]
  },
  {
   "cell_type": "code",
   "execution_count": 21,
   "metadata": {},
   "outputs": [],
   "source": [
    "df1 = du.load_table_df(con,table_name='tester.mytable1')"
   ]
  },
  {
   "cell_type": "code",
   "execution_count": 23,
   "metadata": {},
   "outputs": [
    {
     "data": {
      "text/plain": [
       "((377921, 1482), (377921, 1482))"
      ]
     },
     "execution_count": 23,
     "metadata": {},
     "output_type": "execute_result"
    }
   ],
   "source": [
    "df.shape,df1.shape"
   ]
  },
  {
   "cell_type": "code",
   "execution_count": 9,
   "metadata": {},
   "outputs": [],
   "source": [
    "all_cols = df.columns.to_list()\n",
    "\n",
    "col1 = ['Unnamed: 0'] + all_cols[1:10] \n",
    "col2 = ['Unnamed: 0'] + all_cols[11:20] \n",
    "col3 = ['Unnamed: 0'] + all_cols[21:30] \n",
    "col4 = ['Unnamed: 0'] + all_cols[31:40] \n",
    "col5 = ['Unnamed: 0'] + all_cols[41:50] "
   ]
  },
  {
   "cell_type": "code",
   "execution_count": 12,
   "metadata": {},
   "outputs": [
    {
     "data": {
      "text/plain": [
       "1"
      ]
     },
     "execution_count": 12,
     "metadata": {},
     "output_type": "execute_result"
    }
   ],
   "source": [
    "a1 = {'a':1,'b':2}\n",
    "a1.get('a')"
   ]
  },
  {
   "cell_type": "code",
   "execution_count": 3,
   "metadata": {},
   "outputs": [
    {
     "data": {
      "text/plain": [
       "<duckdb.DuckDBPyConnection at 0x7fa8c0cba9b0>"
      ]
     },
     "execution_count": 3,
     "metadata": {},
     "output_type": "execute_result"
    }
   ],
   "source": [
    "con.execute(\"create schema testing\")\n"
   ]
  },
  {
   "cell_type": "code",
   "execution_count": 1,
   "metadata": {},
   "outputs": [
    {
     "data": {
      "text/html": [
       "<div>\n",
       "<style scoped>\n",
       "    .dataframe tbody tr th:only-of-type {\n",
       "        vertical-align: middle;\n",
       "    }\n",
       "\n",
       "    .dataframe tbody tr th {\n",
       "        vertical-align: top;\n",
       "    }\n",
       "\n",
       "    .dataframe thead th {\n",
       "        text-align: right;\n",
       "    }\n",
       "</style>\n",
       "<table border=\"1\" class=\"dataframe\">\n",
       "  <thead>\n",
       "    <tr style=\"text-align: right;\">\n",
       "      <th></th>\n",
       "      <th>files</th>\n",
       "      <th>status</th>\n",
       "    </tr>\n",
       "  </thead>\n",
       "  <tbody>\n",
       "    <tr>\n",
       "      <th>0</th>\n",
       "      <td>a</td>\n",
       "      <td>loaded</td>\n",
       "    </tr>\n",
       "    <tr>\n",
       "      <th>1</th>\n",
       "      <td>b</td>\n",
       "      <td>loaded</td>\n",
       "    </tr>\n",
       "    <tr>\n",
       "      <th>2</th>\n",
       "      <td>c</td>\n",
       "      <td>loaded</td>\n",
       "    </tr>\n",
       "  </tbody>\n",
       "</table>\n",
       "</div>"
      ],
      "text/plain": [
       "  files  status\n",
       "0     a  loaded\n",
       "1     b  loaded\n",
       "2     c  loaded"
      ]
     },
     "execution_count": 1,
     "metadata": {},
     "output_type": "execute_result"
    }
   ],
   "source": [
    "import pandas as pd\n",
    "z = {'files':['a','b','c'],'status':['loaded','loaded','loaded']}\n",
    "pd.DataFrame(z)\n"
   ]
  },
  {
   "cell_type": "code",
   "execution_count": 4,
   "metadata": {},
   "outputs": [
    {
     "data": {
      "text/plain": [
       "<duckdb.DuckDBPyConnection at 0x7fa8c0cba9b0>"
      ]
     },
     "execution_count": 4,
     "metadata": {},
     "output_type": "execute_result"
    }
   ],
   "source": [
    "con.execute(f'''\n",
    "    CREATE TABLE s1.bank_nifty_ticker(\n",
    "    instrument_token VARCHAR, \n",
    "    volume DECIMAL(8,2), \n",
    "    last_price DECIMAL(8,2),\n",
    "    average_price DECIMAL(8,2),\n",
    "    last_quantity INTEGER,\n",
    "    buy_quantity INTEGER,\n",
    "    sell_quantity INTEGER,\n",
    "    last_trade_time DATE\n",
    "    )\n",
    "    ''')\n",
    "\n"
   ]
  },
  {
   "cell_type": "code",
   "execution_count": 5,
   "metadata": {},
   "outputs": [
    {
     "ename": "CatalogException",
     "evalue": "Catalog Error: Table with name \"bank_nifty_ticker\" already exists!",
     "output_type": "error",
     "traceback": [
      "\u001b[0;31m---------------------------------------------------------------------------\u001b[0m",
      "\u001b[0;31mCatalogException\u001b[0m                          Traceback (most recent call last)",
      "\u001b[0;32m/var/folders/tm/0f_tx6g13kl1s2jzyqttkdm40000gn/T/ipykernel_2959/1317577068.py\u001b[0m in \u001b[0;36m<module>\u001b[0;34m\u001b[0m\n\u001b[0;32m----> 1\u001b[0;31m con.execute(f'''\n\u001b[0m\u001b[1;32m      2\u001b[0m     CREATE TABLE main.bank_nifty_ticker(\n\u001b[1;32m      3\u001b[0m     \u001b[0minstrument_token\u001b[0m \u001b[0mVARCHAR\u001b[0m\u001b[0;34m,\u001b[0m\u001b[0;34m\u001b[0m\u001b[0;34m\u001b[0m\u001b[0m\n\u001b[1;32m      4\u001b[0m     \u001b[0mvolume\u001b[0m \u001b[0mDECIMAL\u001b[0m\u001b[0;34m(\u001b[0m\u001b[0;36m8\u001b[0m\u001b[0;34m,\u001b[0m\u001b[0;36m2\u001b[0m\u001b[0;34m)\u001b[0m\u001b[0;34m,\u001b[0m\u001b[0;34m\u001b[0m\u001b[0;34m\u001b[0m\u001b[0m\n\u001b[1;32m      5\u001b[0m     \u001b[0mlast_price\u001b[0m \u001b[0mDECIMAL\u001b[0m\u001b[0;34m(\u001b[0m\u001b[0;36m8\u001b[0m\u001b[0;34m,\u001b[0m\u001b[0;36m2\u001b[0m\u001b[0;34m)\u001b[0m\u001b[0;34m,\u001b[0m\u001b[0;34m\u001b[0m\u001b[0;34m\u001b[0m\u001b[0m\n",
      "\u001b[0;31mCatalogException\u001b[0m: Catalog Error: Table with name \"bank_nifty_ticker\" already exists!"
     ]
    }
   ],
   "source": [
    "con.execute(f'''\n",
    "    CREATE TABLE main.bank_nifty_ticker(\n",
    "    instrument_token VARCHAR, \n",
    "    volume DECIMAL(8,2), \n",
    "    last_price DECIMAL(8,2),\n",
    "    average_price DECIMAL(8,2),\n",
    "    last_quantity INTEGER,\n",
    "    buy_quantity INTEGER,\n",
    "    sell_quantity INTEGER,\n",
    "    last_trade_time DATE\n",
    "    )\n",
    "    ''')\n",
    "\n"
   ]
  },
  {
   "cell_type": "code",
   "execution_count": 8,
   "metadata": {},
   "outputs": [
    {
     "data": {
      "text/plain": [
       "<duckdb.DuckDBPyConnection at 0x7fe87946d9b0>"
      ]
     },
     "execution_count": 8,
     "metadata": {},
     "output_type": "execute_result"
    }
   ],
   "source": [
    "con.execute('''\n",
    "INSERT into main.bank_nifty_ticker VALUES\n",
    "('test', 20.0, 30.0,40,12,34,45,'2020-01-01')\n",
    "''')"
   ]
  },
  {
   "cell_type": "code",
   "execution_count": 9,
   "metadata": {},
   "outputs": [
    {
     "data": {
      "text/html": [
       "<div>\n",
       "<style scoped>\n",
       "    .dataframe tbody tr th:only-of-type {\n",
       "        vertical-align: middle;\n",
       "    }\n",
       "\n",
       "    .dataframe tbody tr th {\n",
       "        vertical-align: top;\n",
       "    }\n",
       "\n",
       "    .dataframe thead th {\n",
       "        text-align: right;\n",
       "    }\n",
       "</style>\n",
       "<table border=\"1\" class=\"dataframe\">\n",
       "  <thead>\n",
       "    <tr style=\"text-align: right;\">\n",
       "      <th></th>\n",
       "      <th>instrument_token</th>\n",
       "      <th>volume</th>\n",
       "      <th>last_price</th>\n",
       "      <th>average_price</th>\n",
       "      <th>last_quantity</th>\n",
       "      <th>buy_quantity</th>\n",
       "      <th>sell_quantity</th>\n",
       "      <th>last_trade_time</th>\n",
       "    </tr>\n",
       "  </thead>\n",
       "  <tbody>\n",
       "    <tr>\n",
       "      <th>0</th>\n",
       "      <td>test</td>\n",
       "      <td>20.0</td>\n",
       "      <td>30.0</td>\n",
       "      <td>40.0</td>\n",
       "      <td>12</td>\n",
       "      <td>34</td>\n",
       "      <td>45</td>\n",
       "      <td>2020-01-01</td>\n",
       "    </tr>\n",
       "  </tbody>\n",
       "</table>\n",
       "</div>"
      ],
      "text/plain": [
       "  instrument_token  volume  last_price  average_price  last_quantity  \\\n",
       "0             test    20.0        30.0           40.0             12   \n",
       "\n",
       "   buy_quantity  sell_quantity last_trade_time  \n",
       "0            34             45      2020-01-01  "
      ]
     },
     "execution_count": 9,
     "metadata": {},
     "output_type": "execute_result"
    }
   ],
   "source": [
    "con.execute(\"SELECT * FROM main.bank_nifty_ticker\").df()\n"
   ]
  },
  {
   "cell_type": "code",
   "execution_count": 9,
   "metadata": {},
   "outputs": [
    {
     "ename": "SyntaxError",
     "evalue": "invalid syntax (3161159488.py, line 1)",
     "output_type": "error",
     "traceback": [
      "\u001b[0;36m  File \u001b[0;32m\"/var/folders/tm/0f_tx6g13kl1s2jzyqttkdm40000gn/T/ipykernel_4484/3161159488.py\"\u001b[0;36m, line \u001b[0;32m1\u001b[0m\n\u001b[0;31m    results = con.execute(\"SELECT Column1, momentum_ADX, momentum_ADXR, momentum_APO, momentum_BOP, momentum_CCI, momentum_CMO, momentum_DX, momentum_MACDEXT, momentum_MACDEXT_SIGNAL, momentum_MACDEXT_HIST, momentum_MACDFIX, momentum_MACDFIX_SIGNAL, momentum_MACDFIX_HIST, momentum_MINUS_DM, momentum_MOM, momentum_PLUS_DI, momentum_PLUS_DM, momentum_PPO, momentum_ROC, momentum_ROCP, momentum_ROCR, momentum_ROCR100, momentum_RSI, momentum_SLOWK, momentum_SLOWD, momentum_FASTK, momentum_FASTD, momentum_STOCHRSI_FASTK, momentum_STOCHRSI_FASTD, momentum_TRIX, momentum_ULTOSC, momentum_WILLR, volatile_ATR, volatile_NATR, volatile_TRANGE, pattern_2_crows, pattern_3_black_crows, pattern_3_inside_updown, pattern_3_line_strike, pattern_3_outside_updown, pattern_3_stars_south, pattern_3_adv_white_soldier, pattern_advance_block, pattern_belt_hold, pattern_breakaway, pattern_closing_marubozu, \"pattern_concealing_baby_swallow \", \"pattern_counter_attack \", \"pattern_doji \", \"pattern_doji_star \", \"pattern_dragonfly_doji \", \"pattern_engulfing_pattern \", pattern_evening_doji_star, pattern_evening_star, pattern_updown_gapside_white_lines, pattern_gravestone_doji, pattern_hammer, pattern_hanging_man, pattern_harami, pattern_harami_cross, pattern_high_wave_candle, pattern_hikkake, pattern_modified_hikkake, pattern_homing_pigeon, pattern_in_neck, pattern_inverted_hammer, pattern_kicking, pattern_kicking_bullbear_morubozu, pattern_ladder_bottom, pattern_long_leg_doji, pattern_long_line_candle, pattern_morubozu, pattern_matching_low, pattern_mat_holding, pattern_on_neck, pattern_piercing, pattern_rickshaw_man, pattern_separating_lines, pattern_shooting_star, pattern_short_line, pattern_spinning_top, pattern_stalled, pattern_stick_sandwich, pattern_takuri, pattern_tasuki_gap, pattern_thrusting_pattern, pattern_tristar_pattern, pattern_unique_3_river, pattern_upside_gap_2_crows, pattern_updown_gap_3_method, CUC_transform_AVGPRICE, CUC_transform_MEDPRICE, CUC_transform_TYPPRICE, CUC_transform_WCLPRICE, CUC_overlap_double_exp_moving_avg, CUC_overlap_exp_moving_avg, CUC_overlap_hilbert_transform, CUC_overlap_kaufman_adaptive_moving_avg, CUC_overlap_moving_avg, CUC_overlap_midpoint, CUC_overlap_midpoint_price, CUC_overlap_simple_moving_avg, CUC_overlap_triangular_moving_average, CUC_overlap_weighted_moving_average, PerChg_transform_AVGPRICE_15_None, PerChg_transform_MEDPRICE_15_None, PerChg_transform_TYPPRICE_15_None, PerChg_transform_WCLPRICE_15_None, PerChg_overlap_double_exp_moving_avg_15_None, PerChg_overlap_exp_moving_avg_15_None, PerChg_overlap_hilbert_transform_15_None, PerChg_overlap_kaufman_adaptive_moving_avg_15_None, PerChg_overlap_moving_avg_15_None, PerChg_overlap_midpoint_15_None, PerChg_overlap_midpoint_price_15_None, PerChg_overlap_simple_moving_avg_15_None, PerChg_overlap_triangular_moving_average_15_None, PerChg_overlap_weighted_moving_average_15_None, PerChg_transform_AVGPRICE_30_None, PerChg_transform_MEDPRICE_30_None, PerChg_transform_TYPPRICE_30_None, PerChg_transform_WCLPRICE_30_None, PerChg_overlap_double_exp_moving_avg_30_None, PerChg_overlap_exp_moving_avg_30_None, PerChg_overlap_hilbert_transform_30_None, PerChg_overlap_kaufman_adaptive_moving_avg_30_None, PerChg_overlap_moving_avg_30_None, PerChg_overlap_midpoint_30_None, PerChg_overlap_midpoint_price_30_None, PerChg_overlap_simple_moving_avg_30_None, PerChg_overlap_triangular_moving_average_30_None, PerChg_overlap_weighted_moving_average_30_None, PerChg_transform_AVGPRICE_45_None, PerChg_transform_MEDPRICE_45_None, PerChg_transform_TYPPRICE_45_None, PerChg_transform_WCLPRICE_45_None, PerChg_overlap_double_exp_moving_avg_45_None, PerChg_overlap_exp_moving_avg_45_None, PerChg_overlap_hilbert_transform_45_None, PerChg_overlap_kaufman_adaptive_moving_avg_45_None, PerChg_overlap_moving_avg_45_None, PerChg_overlap_midpoint_45_None, PerChg_overlap_midpoint_price_45_None, PerChg_overlap_simple_moving_avg_45_None, PerChg_overlap_triangular_moving_average_45_None, PerChg_overlap_weighted_moving_average_45_None, PerChg_transform_AVGPRICE_60_None, PerChg_transform_MEDPRICE_60_None, PerChg_transform_TYPPRICE_60_None, PerChg_transform_WCLPRICE_60_None, PerChg_overlap_double_exp_moving_avg_60_None, PerChg_overlap_exp_moving_avg_60_None, PerChg_overlap_hilbert_transform_60_None, PerChg_overlap_kaufman_adaptive_moving_avg_60_None, PerChg_overlap_moving_avg_60_None, PerChg_overlap_midpoint_60_None, PerChg_overlap_midpoint_price_60_None, PerChg_overlap_simple_moving_avg_60_None, PerChg_overlap_triangular_moving_average_60_None, PerChg_overlap_weighted_moving_average_60_None, ABER_ATR_5_15, ADX_14, DMP_14, DMN_14, AMATe_LR_8_21_2, AMATe_SR_8_21_2, AO_5_34, APO_12_26, AROOND_14, AROONU_14, AROONOSC_14, ATRr_14, \"BBB_5_2.0\", \"BBP_5_2.0\", BIAS_SMA_26, BOP, AR_26, BR_26, \"CCI_14_0.015\", CDL_2CROWS, CDL_3BLACKCROWS, CDL_3INSIDE, CDL_3LINESTRIKE, CDL_3OUTSIDE, CDL_3STARSINSOUTH, CDL_3WHITESOLDIERS, CDL_ABANDONEDBABY, CDL_ADVANCEBLOCK, CDL_BELTHOLD, CDL_BREAKAWAY, CDL_CLOSINGMARUBOZU, CDL_CONCEALBABYSWALL, CDL_COUNTERATTACK, CDL_DARKCLOUDCOVER, \"CDL_DOJI_10_0.1\", CDL_DOJISTAR, CDL_DRAGONFLYDOJI, CDL_ENGULFING, CDL_EVENINGDOJISTAR, CDL_EVENINGSTAR, CDL_GAPSIDESIDEWHITE, CDL_GRAVESTONEDOJI, CDL_HAMMER, CDL_HANGINGMAN, CDL_HARAMI, CDL_HARAMICROSS, CDL_HIGHWAVE, CDL_HIKKAKE, CDL_HIKKAKEMOD, CDL_HOMINGPIGEON, CDL_IDENTICAL3CROWS, CDL_INNECK, CDL_INSIDE, CDL_INVERTEDHAMMER, CDL_KICKING, CDL_KICKINGBYLENGTH, CDL_LADDERBOTTOM, CDL_LONGLEGGEDDOJI, CDL_LONGLINE, CDL_MARUBOZU, CDL_MATCHINGLOW, CDL_MATHOLD, CDL_MORNINGDOJISTAR, CDL_MORNINGSTAR, CDL_ONNECK, CDL_PIERCING, CDL_RICKSHAWMAN, CDL_RISEFALL3METHODS, CDL_SEPARATINGLINES, CDL_SHOOTINGSTAR, CDL_SHORTLINE, CDL_SPINNINGTOP, CDL_STALLEDPATTERN, CDL_STICKSANDWICH, CDL_TAKURI, CDL_TASUKIGAP, CDL_THRUSTING, CDL_TRISTAR, CDL_UNIQUE3RIVER, CDL_UPSIDEGAP2CROWS, CDL_XSIDEGAP3METHODS, open_Z_30_1, high_Z_30_1, low_Z_30_1, close_Z_30_1, CFO_9, CG_10, CHOP_14_1_100, CMO_14, COPC_11_14_10, CTI_12, DEC_1, DPO_20, EBSW_40_10, ENTP_10, ER_10, BULLP_13, BEARP_13, FISHERT_9_1, FISHERTs_9_1, INC_1, INERTIA_20_14, K_9_3, D_9_3, J_9_3, KST_10_15_20_30_10_10_10_15, KSTs_9, KURT_30, LOGRET_1, MACD_12_26_9, MACDh_12_26_9, MACDs_12_26_9, MAD_30, MASSI_9_25, MOM_10, NATR_14, PDIST, PCTRET_1, PGO_14, PPO_12_26_9, PPOh_12_26_9, PPOs_12_26_9, \"PSARaf_0.02_0.2\", \"PSARr_0.02_0.2\", PSL_12, \"QQE_14_5_4.236\", \"QQE_14_5_4.236_RSIMA\", \"QQEl_14_5_4.236\", \"QQEs_14_5_4.236\", QS_10, ROC_10, RSI_14, RSX_14, RVGI_14_4, RVGIs_14_4, RVI_14, SKEW_30, SLOPE_1, SMI_5_20_5, SMIs_5_20_5, SMIo_5_20_5, \"SQZ_20_2.0_20_1.5\", SQZ_ON, SQZ_OFF, SQZ_NO, \"SQZPRO_20_2.0_20_2_1.5_1\", SQZPRO_ON_WIDE, SQZPRO_ON_NORMAL, SQZPRO_ON_NARROW, SQZPRO_OFF, SQZPRO_NO, \"STC_10_12_26_0.5\", \"STCmacd_10_12_26_0.5\", \"STCstoch_10_12_26_0.5\", STDEV_30, STOCHk_14_3_3, STOCHd_14_3_3, STOCHRSIk_14_14_3_3, STOCHRSId_14_14_3_3, \"SUPERTd_7_3.0\", \"THERMO_20_2_0.5\", \"THERMOma_20_2_0.5\", \"THERMOl_20_2_0.5\", \"THERMOs_20_2_0.5\", TOS_STDEVALL_L_2, TOS_STDEVALL_L_3, TRIX_30_9, TRIXs_30_9, TRUERANGE_1, TSI_13_25_13, TSIs_13_25_13, TTM_TRND_6, UI_14, UO_7_14_28, VAR_30, VHF_28, VTXP_14, VTXM_14, WILLR_14, ZS_30, CUC_ABER_ZG_5_15, CUC_ABER_SG_5_15, CUC_ABER_XG_5_15, CUC_ACCBL_20, CUC_ACCBM_20, CUC_ACCBU_20, \"CUC_ALMA_10_6.0_0.85\", \"CUC_BBL_5_2.0\", \"CUC_BBM_5_2.0\", \"CUC_BBU_5_2.0\", CUC_CKSPl_10_3_20, CUC_CKSPs_10_3_20, CUC_LDECAY_5, CUC_DEMA_10, CUC_DCL_20_20, CUC_DCM_20_20, CUC_DCU_20_20, CUC_EMA_10, CUC_FWMA_10, CUC_HA_open, CUC_HA_high, CUC_HA_low, CUC_HA_close, CUC_HILO_13_21, CUC_HILOl_13_21, CUC_HILOs_13_21, CUC_HL2, CUC_HLC3, CUC_HMA_10, CUC_HWM, CUC_HWU, CUC_HWL, \"CUC_HWMA_0.2_0.1_0.1\", CUC_ISA_9, CUC_ISB_26, CUC_ITS_9, CUC_IKS_26, CUC_ICS_26, CUC_JMA_7_0, CUC_KAMA_10_2_30, CUC_KCLe_20_2, CUC_KCBe_20_2, CUC_KCUe_20_2, CUC_LR_14, CUC_MCGD_10, CUC_MEDIAN_30, CUC_MIDPOINT_2, CUC_MIDPRICE_2, CUC_OHLC4, \"CUC_PSARl_0.02_0.2\", \"CUC_PSARs_0.02_0.2\", CUC_PWMA_10, \"CUC_QTL_30_0.5\", CUC_RMA_10, CUC_SINWMA_14, CUC_SMA_10, CUC_SSF_10_2, \"CUC_SUPERT_7_3.0\", \"CUC_SUPERTl_7_3.0\", \"CUC_SUPERTs_7_3.0\", CUC_SWMA_10, \"CUC_T3_10_0.7\", CUC_TEMA_10, CUC_TOS_STDEVALL_LR, CUC_TOS_STDEVALL_L_1, CUC_TOS_STDEVALL_U_1, CUC_TOS_STDEVALL_U_2, CUC_TOS_STDEVALL_U_3, CUC_TRIMA_10, CUC_VIDYA_14, CUC_WCP, CUC_WMA_10, CUC_ZL_EMA_10, PerChg_ABER_ZG_5_15_15_None, PerChg_ABER_SG_5_15_15_None, PerChg_ABER_XG_5_15_15_None, PerChg_ACCBL_20_15_None, PerChg_ACCBM_20_15_None, PerChg_ACCBU_20_15_None, \"PerChg_ALMA_10_6.0_0.85_15_None\", \"PerChg_BBL_5_2.0_15_None\", \"PerChg_BBM_5_2.0_15_None\", \"PerChg_BBU_5_2.0_15_None\", PerChg_CKSPl_10_3_20_15_None, PerChg_CKSPs_10_3_20_15_None, PerChg_LDECAY_5_15_None, PerChg_DEMA_10_15_None, PerChg_DCL_20_20_15_None, PerChg_DCM_20_20_15_None, PerChg_DCU_20_20_15_None, PerChg_EMA_10_15_None, PerChg_FWMA_10_15_None, PerChg_HA_open_15_None, PerChg_HA_high_15_None, PerChg_HA_low_15_None, PerChg_HA_close_15_None, PerChg_HILO_13_21_15_None, PerChg_HILOl_13_21_15_None, PerChg_HILOs_13_21_15_None, PerChg_HL2_15_None, PerChg_HLC3_15_None, PerChg_HMA_10_15_None, PerChg_HWM_15_None, PerChg_HWU_15_None, PerChg_HWL_15_None, \"PerChg_HWMA_0.2_0.1_0.1_15_None\", PerChg_ISA_9_15_None, PerChg_ISB_26_15_None, PerChg_ITS_9_15_None, PerChg_IKS_26_15_None, PerChg_ICS_26_15_None, PerChg_JMA_7_0_15_None, PerChg_KAMA_10_2_30_15_None, PerChg_KCLe_20_2_15_None, PerChg_KCBe_20_2_15_None, PerChg_KCUe_20_2_15_None, PerChg_LR_14_15_None, PerChg_MCGD_10_15_None, PerChg_MEDIAN_30_15_None, PerChg_MIDPOINT_2_15_None, PerChg_MIDPRICE_2_15_None, PerChg_OHLC4_15_None, \"PerChg_PSARl_0.02_0.2_15_None\", \"PerChg_PSARs_0.02_0.2_15_None\", PerChg_PWMA_10_15_None, \"PerChg_QTL_30_0.5_15_None\", PerChg_RMA_10_15_None, PerChg_SINWMA_14_15_None, PerChg_SMA_10_15_None, PerChg_SSF_10_2_15_None, \"PerChg_SUPERT_7_3.0_15_None\", \"PerChg_SUPERTl_7_3.0_15_None\", \"PerChg_SUPERTs_7_3.0_15_None\", PerChg_SWMA_10_15_None, \"PerChg_T3_10_0.7_15_None\", PerChg_TEMA_10_15_None, PerChg_TOS_STDEVALL_LR_15_None, PerChg_TOS_STDEVALL_L_1_15_None, PerChg_TOS_STDEVALL_U_1_15_None, PerChg_TOS_STDEVALL_U_2_15_None, PerChg_TOS_STDEVALL_U_3_15_None, PerChg_TRIMA_10_15_None, PerChg_VIDYA_14_15_None, PerChg_WCP_15_None, PerChg_WMA_10_15_None, PerChg_ZL_EMA_10_15_None, PerChg_ABER_ZG_5_15_30_None, PerChg_ABER_SG_5_15_30_None, PerChg_ABER_XG_5_15_30_None, PerChg_ACCBL_20_30_None, PerChg_ACCBM_20_30_None, PerChg_ACCBU_20_30_None, \"PerChg_ALMA_10_6.0_0.85_30_None\", \"PerChg_BBL_5_2.0_30_None\", \"PerChg_BBM_5_2.0_30_None\", \"PerChg_BBU_5_2.0_30_None\", PerChg_CKSPl_10_3_20_30_None, PerChg_CKSPs_10_3_20_30_None, PerChg_LDECAY_5_30_None, PerChg_DEMA_10_30_None, PerChg_DCL_20_20_30_None, PerChg_DCM_20_20_30_None, PerChg_DCU_20_20_30_None, PerChg_EMA_10_30_None, PerChg_FWMA_10_30_None, PerChg_HA_open_30_None, PerChg_HA_high_30_None, PerChg_HA_low_30_None, PerChg_HA_close_30_None, PerChg_HILO_13_21_30_None, PerChg_HILOl_13_21_30_None, PerChg_HILOs_13_21_30_None, PerChg_HL2_30_None, PerChg_HLC3_30_None, PerChg_HMA_10_30_None, PerChg_HWM_30_None, PerChg_HWU_30_None, PerChg_HWL_30_None, \"PerChg_HWMA_0.2_0.1_0.1_30_None\", PerChg_ISA_9_30_None, PerChg_ISB_26_30_None, PerChg_ITS_9_30_None, PerChg_IKS_26_30_None, PerChg_ICS_26_30_None, PerChg_JMA_7_0_30_None, PerChg_KAMA_10_2_30_30_None, PerChg_KCLe_20_2_30_None, PerChg_KCBe_20_2_30_None, PerChg_KCUe_20_2_30_None, PerChg_LR_14_30_None, PerChg_MCGD_10_30_None, PerChg_MEDIAN_30_30_None, PerChg_MIDPOINT_2_30_None, PerChg_MIDPRICE_2_30_None, PerChg_OHLC4_30_None, \"PerChg_PSARl_0.02_0.2_30_None\", \"PerChg_PSARs_0.02_0.2_30_None\", PerChg_PWMA_10_30_None, \"PerChg_QTL_30_0.5_30_None\", PerChg_RMA_10_30_None, PerChg_SINWMA_14_30_None, PerChg_SMA_10_30_None, PerChg_SSF_10_2_30_None, \"PerChg_SUPERT_7_3.0_30_None\", \"PerChg_SUPERTl_7_3.0_30_None\", \"PerChg_SUPERTs_7_3.0_30_None\", PerChg_SWMA_10_30_None, \"PerChg_T3_10_0.7_30_None\", PerChg_TEMA_10_30_None, PerChg_TOS_STDEVALL_LR_30_None, PerChg_TOS_STDEVALL_L_1_30_None, PerChg_TOS_STDEVALL_U_1_30_None, PerChg_TOS_STDEVALL_U_2_30_None, PerChg_TOS_STDEVALL_U_3_30_None, PerChg_TRIMA_10_30_None, PerChg_VIDYA_14_30_None, PerChg_WCP_30_None, PerChg_WMA_10_30_None, PerChg_ZL_EMA_10_30_None, PerChg_ABER_ZG_5_15_45_None, PerChg_ABER_SG_5_15_45_None, PerChg_ABER_XG_5_15_45_None, PerChg_ACCBL_20_45_None, PerChg_ACCBM_20_45_None, PerChg_ACCBU_20_45_None, \"PerChg_ALMA_10_6.0_0.85_45_None\", \"PerChg_BBL_5_2.0_45_None\", \"PerChg_BBM_5_2.0_45_None\", \"PerChg_BBU_5_2.0_45_None\", PerChg_CKSPl_10_3_20_45_None, PerChg_CKSPs_10_3_20_45_None, PerChg_LDECAY_5_45_None, PerChg_DEMA_10_45_None, PerChg_DCL_20_20_45_None, PerChg_DCM_20_20_45_None, PerChg_DCU_20_20_45_None, PerChg_EMA_10_45_None, PerChg_FWMA_10_45_None, PerChg_HA_open_45_None, PerChg_HA_high_45_None, PerChg_HA_low_45_None, PerChg_HA_close_45_None, PerChg_HILO_13_21_45_None, PerChg_HILOl_13_21_45_None, PerChg_HILOs_13_21_45_None, PerChg_HL2_45_None, PerChg_HLC3_45_None, PerChg_HMA_10_45_None, PerChg_HWM_45_None, PerChg_HWU_45_None, PerChg_HWL_45_None, \"PerChg_HWMA_0.2_0.1_0.1_45_None\", PerChg_ISA_9_45_None, PerChg_ISB_26_45_None, PerChg_ITS_9_45_None, PerChg_IKS_26_45_None, PerChg_ICS_26_45_None, PerChg_JMA_7_0_45_None, PerChg_KAMA_10_2_30_45_None, PerChg_KCLe_20_2_45_None, PerChg_KCBe_20_2_45_None, PerChg_KCUe_20_2_45_None, PerChg_LR_14_45_None, PerChg_MCGD_10_45_None, PerChg_MEDIAN_30_45_None, PerChg_MIDPOINT_2_45_None, PerChg_MIDPRICE_2_45_None, PerChg_OHLC4_45_None, \"PerChg_PSARl_0.02_0.2_45_None\", \"PerChg_PSARs_0.02_0.2_45_None\", PerChg_PWMA_10_45_None, \"PerChg_QTL_30_0.5_45_None\", PerChg_RMA_10_45_None, PerChg_SINWMA_14_45_None, PerChg_SMA_10_45_None, PerChg_SSF_10_2_45_None, \"PerChg_SUPERT_7_3.0_45_None\", \"PerChg_SUPERTl_7_3.0_45_None\", \"PerChg_SUPERTs_7_3.0_45_None\", PerChg_SWMA_10_45_None, \"PerChg_T3_10_0.7_45_None\", PerChg_TEMA_10_45_None, PerChg_TOS_STDEVALL_LR_45_None, PerChg_TOS_STDEVALL_L_1_45_None, PerChg_TOS_STDEVALL_U_1_45_None, PerChg_TOS_STDEVALL_U_2_45_None, PerChg_TOS_STDEVALL_U_3_45_None, PerChg_TRIMA_10_45_None, PerChg_VIDYA_14_45_None, PerChg_WCP_45_None, PerChg_WMA_10_45_None, PerChg_ZL_EMA_10_45_None, PerChg_ABER_ZG_5_15_60_None, PerChg_ABER_SG_5_15_60_None, PerChg_ABER_XG_5_15_60_None, PerChg_ACCBL_20_60_None, PerChg_ACCBM_20_60_None, PerChg_ACCBU_20_60_None, \"PerChg_ALMA_10_6.0_0.85_60_None\", \"PerChg_BBL_5_2.0_60_None\", \"PerChg_BBM_5_2.0_60_None\", \"PerChg_BBU_5_2.0_60_None\", PerChg_CKSPl_10_3_20_60_None, PerChg_CKSPs_10_3_20_60_None, PerChg_LDECAY_5_60_None, PerChg_DEMA_10_60_None, PerChg_DCL_20_20_60_None, PerChg_DCM_20_20_60_None, PerChg_DCU_20_20_60_None, PerChg_EMA_10_60_None, PerChg_FWMA_10_60_None, PerChg_HA_open_60_None, PerChg_HA_high_60_None, PerChg_HA_low_60_None, PerChg_HA_close_60_None, PerChg_HILO_13_21_60_None, PerChg_HILOl_13_21_60_None, PerChg_HILOs_13_21_60_None, PerChg_HL2_60_None, PerChg_HLC3_60_None, PerChg_HMA_10_60_None, PerChg_HWM_60_None, PerChg_HWU_60_None, PerChg_HWL_60_None, \"PerChg_HWMA_0.2_0.1_0.1_60_None\", PerChg_ISA_9_60_None, PerChg_ISB_26_60_None, PerChg_ITS_9_60_None, PerChg_IKS_26_60_None, PerChg_ICS_26_60_None, PerChg_JMA_7_0_60_None, PerChg_KAMA_10_2_30_60_None, PerChg_KCLe_20_2_60_None, PerChg_KCBe_20_2_60_None, PerChg_KCUe_20_2_60_None, PerChg_LR_14_60_None, PerChg_MCGD_10_60_None, PerChg_MEDIAN_30_60_None, PerChg_MIDPOINT_2_60_None, PerChg_MIDPRICE_2_60_None, PerChg_OHLC4_60_None, \"PerChg_PSARl_0.02_0.2_60_None\", \"PerChg_PSARs_0.02_0.2_60_None\", PerChg_PWMA_10_60_None, \"PerChg_QTL_30_0.5_60_None\", PerChg_RMA_10_60_None, PerChg_SINWMA_14_60_None, PerChg_SMA_10_60_None, PerChg_SSF_10_2_60_None, \"PerChg_SUPERT_7_3.0_60_None\", \"PerChg_SUPERTl_7_3.0_60_None\", \"PerChg_SUPERTs_7_3.0_60_None\", PerChg_SWMA_10_60_None, \"PerChg_T3_10_0.7_60_None\", PerChg_TEMA_10_60_None, PerChg_TOS_STDEVALL_LR_60_None, PerChg_TOS_STDEVALL_L_1_60_None, PerChg_TOS_STDEVALL_U_1_60_None, PerChg_TOS_STDEVALL_U_2_60_None, PerChg_TOS_STDEVALL_U_3_60_None, PerChg_TRIMA_10_60_None, PerChg_VIDYA_14_60_None, PerChg_WCP_60_None, PerChg_WMA_10_60_None, PerChg_ZL_EMA_10_60_None, tavolatility_bbw, tavolatility_bbp, tavolatility_bbhi, tavolatility_bbli, tavolatility_kcw, tavolatility_kcp, tavolatility_kchi, tavolatility_kcli, tavolatility_dcw, tavolatility_dcp, tatrend_macd, tatrend_macd_signal, tatrend_macd_diff, tatrend_vortex_ind_pos, tatrend_vortex_ind_neg, tatrend_vortex_ind_diff, tatrend_trix, tatrend_mass_index, tatrend_dpo, tatrend_kst, tatrend_kst_sig, tatrend_kst_diff, tatrend_stc, tamomentum_rsi, tamomentum_stoch_rsi, tamomentum_stoch_rsi_k, tamomentum_stoch_rsi_d, tamomentum_tsi, tamomentum_uo, tamomentum_stoch, tamomentum_stoch_signal, tamomentum_wr, tamomentum_ao, tamomentum_roc, tamomentum_ppo, tamomentum_ppo_signal, tamomentum_ppo_hist, taothers_dr, taothers_dlr, taothers_cr, CUC_tavolatility_bbm, CUC_tavolatility_bbh, CUC_tavolatility_bbl, CUC_tavolatility_kcc, CUC_tavolatility_kch, CUC_tavolatility_kcl, CUC_tavolatility_dcl, CUC_tavolatility_dch, CUC_tavolatility_dcm, CUC_tatrend_sma_fast, CUC_tatrend_sma_slow, CUC_tatrend_ema_fast, CUC_tatrend_ema_slow, CUC_tatrend_ichimoku_conv, CUC_tatrend_ichimoku_base, CUC_tatrend_ichimoku_a, CUC_tatrend_ichimoku_b, PerChg_tavolatility_bbm_15_None, PerChg_tavolatility_bbh_15_None, PerChg_tavolatility_bbl_15_None, PerChg_tavolatility_kcc_15_None, PerChg_tavolatility_kch_15_None, PerChg_tavolatility_kcl_15_None, PerChg_tavolatility_dcl_15_None, PerChg_tavolatility_dch_15_None, PerChg_tavolatility_dcm_15_None, PerChg_tatrend_sma_fast_15_None, PerChg_tatrend_sma_slow_15_None, PerChg_tatrend_ema_fast_15_None, PerChg_tatrend_ema_slow_15_None, PerChg_tatrend_ichimoku_conv_15_None, PerChg_tatrend_ichimoku_base_15_None, PerChg_tatrend_ichimoku_a_15_None, PerChg_tatrend_ichimoku_b_15_None, PerChg_tavolatility_bbm_30_None, PerChg_tavolatility_bbh_30_None, PerChg_tavolatility_bbl_30_None, PerChg_tavolatility_kcc_30_None, PerChg_tavolatility_kch_30_None, PerChg_tavolatility_kcl_30_None, PerChg_tavolatility_dcl_30_None, PerChg_tavolatility_dch_30_None, PerChg_tavolatility_dcm_30_None, PerChg_tatrend_sma_fast_30_None, PerChg_tatrend_sma_slow_30_None, PerChg_tatrend_ema_fast_30_None, PerChg_tatrend_ema_slow_30_None, PerChg_tatrend_ichimoku_conv_30_None, PerChg_tatrend_ichimoku_base_30_None, PerChg_tatrend_ichimoku_a_30_None, PerChg_tatrend_ichimoku_b_30_None, PerChg_tavolatility_bbm_45_None, PerChg_tavolatility_bbh_45_None, PerChg_tavolatility_bbl_45_None, PerChg_tavolatility_kcc_45_None, PerChg_tavolatility_kch_45_None, PerChg_tavolatility_kcl_45_None, PerChg_tavolatility_dcl_45_None, PerChg_tavolatility_dch_45_None, PerChg_tavolatility_dcm_45_None, PerChg_tatrend_sma_fast_45_None, PerChg_tatrend_sma_slow_45_None, PerChg_tatrend_ema_fast_45_None, PerChg_tatrend_ema_slow_45_None, PerChg_tatrend_ichimoku_conv_45_None, PerChg_tatrend_ichimoku_base_45_None, PerChg_tatrend_ichimoku_a_45_None, PerChg_tatrend_ichimoku_b_45_None, PerChg_tavolatility_bbm_60_None, PerChg_tavolatility_bbh_60_None, PerChg_tavolatility_bbl_60_None, PerChg_tavolatility_kcc_60_None, PerChg_tavolatility_kch_60_None, PerChg_tavolatility_kcl_60_None, PerChg_tavolatility_dcl_60_None, PerChg_tavolatility_dch_60_None, PerChg_tavolatility_dcm_60_None, PerChg_tatrend_sma_fast_60_None, PerChg_tatrend_sma_slow_60_None, PerChg_tatrend_ema_fast_60_None, PerChg_tatrend_ema_slow_60_None, PerChg_tatrend_ichimoku_conv_60_None, PerChg_tatrend_ichimoku_base_60_None, PerChg_tatrend_ichimoku_a_60_None, PerChg_tatrend_ichimoku_b_60_None, close_10min_30min_mean_mean_rolling_values, open_10min_30min_mean_mean_rolling_values, high_10min_30min_mean_mean_rolling_values, low_10min_30min_mean_mean_rolling_values, close_10min_30min_max_max_rolling_values, open_10min_30min_max_max_rolling_values, high_10min_30min_max_max_rolling_values, low_10min_30min_max_max_rolling_values, close_5min_30min_max_max_rolling_values, open_5min_30min_max_max_rolling_values, high_5min_30min_max_max_rolling_values, low_5min_30min_max_max_rolling_values, close_15min_60min_max_max_rolling_values, open_15min_60min_max_max_rolling_values, high_15min_60min_max_max_rolling_values, low_15min_60min_max_max_rolling_values, last_tick_close_10, last_tick_open_10, last_tick_high_10, last_tick_low_10, last_tick_close_15, last_tick_open_15, last_tick_high_15, last_tick_low_15, last_tick_close_30, last_tick_open_30, last_tick_high_30, last_tick_low_30, last_tick_close_60, last_tick_open_60, last_tick_high_60, last_tick_low_60, last_tick_close_90, last_tick_open_90, last_tick_high_90, last_tick_low_90, last_tick_close_120, last_tick_open_120, last_tick_high_120, last_tick_low_120, Zscore_close_10, Zscore_open_10, Zscore_high_10, Zscore_low_10, Zscore_close_15, Zscore_open_15, Zscore_high_15, Zscore_low_15, Zscore_close_30, Zscore_open_30, Zscore_high_30, Zscore_low_30, Zscore_close_60, Zscore_open_60, Zscore_high_60, Zscore_low_60, Log_close, Log_open, Log_high, Log_low, \"Log_close.1\", \"Log_open.1\", \"Log_high.1\", \"Log_low.1\", PerChg_close_10_None, PerChg_open_10_None, PerChg_high_10_None, PerChg_low_10_None, PerChg_close_15_None, PerChg_open_15_None, PerChg_high_15_None, PerChg_low_15_None, PerChg_close_30_None, PerChg_open_30_None, PerChg_high_30_None, PerChg_low_30_None, PerChg_close_60_None, PerChg_open_60_None, PerChg_high_60_None, PerChg_low_60_None, PerChg_close_90_None, PerChg_open_90_None, PerChg_high_90_None, PerChg_low_90_None, PerChg_close_120_None, PerChg_open_120_None, PerChg_high_120_None, PerChg_low_120_None, RRNK_close_10_None, RRNK_open_10_None, RRNK_high_10_None, RRNK_low_10_None, RRNK_close_15_None, RRNK_open_15_None, RRNK_high_15_None, RRNK_low_15_None, RRNK_close_30_None, RRNK_open_30_None, RRNK_high_30_None, RRNK_low_30_None, RRNK_close_60_None, RRNK_open_60_None, RRNK_high_60_None, RRNK_low_60_None, RRNK_close_90_None, RRNK_open_90_None, RRNK_high_90_None, RRNK_low_90_None, RRNK_close_120_None, RRNK_open_120_None, RRNK_high_120_None, RRNK_low_120_None, BINT_close_10_None_5, BINT_open_10_None_5, BINT_high_10_None_5, BINT_low_10_None_5, BINT_close_15_None_5, BINT_open_15_None_5, BINT_high_15_None_5, BINT_low_15_None_5, BINT_close_30_None_5, BINT_open_30_None_5, BINT_high_30_None_5, BINT_low_30_None_5, BINT_close_60_None_5, BINT_open_60_None_5, BINT_high_60_None_5, BINT_low_60_None_5, BINT_close_90_None_5, BINT_open_90_None_5, BINT_high_90_None_5, BINT_low_90_None_5, BINT_close_120_None_5, BINT_open_120_None_5, BINT_high_120_None_5, BINT_low_120_None_5, PNT_close_10_None_DIFF, PNT_open_10_None_DIFF, PNT_high_10_None_DIFF, PNT_low_10_None_DIFF, PNT_close_15_None_DIFF, PNT_open_15_None_DIFF, PNT_high_15_None_DIFF, PNT_low_15_None_DIFF, PNT_close_30_None_DIFF, PNT_open_30_None_DIFF, PNT_high_30_None_DIFF, PNT_low_30_None_DIFF, PNT_close_60_None_DIFF, PNT_open_60_None_DIFF, PNT_high_60_None_DIFF, PNT_low_60_None_DIFF, PNT_close_90_None_DIFF, PNT_open_90_None_DIFF, PNT_high_90_None_DIFF, PNT_low_90_None_DIFF, PNT_close_120_None_DIFF, PNT_open_120_None_DIFF, PNT_high_120_None_DIFF, PNT_low_120_None_DIFF, RR_close_10_None_DIFF, RR_close_10_None_MAXDIFF, RR_close_10_None_MINDIFF, RR_close_10_None_MEANDIFF, RR_close_10_None_MAXMIN, RR_open_10_None_DIFF, RR_open_10_None_MAXDIFF, RR_open_10_None_MINDIFF, RR_open_10_None_MEANDIFF, RR_open_10_None_MAXMIN, RR_high_10_None_DIFF, RR_high_10_None_MAXDIFF, RR_high_10_None_MINDIFF, RR_high_10_None_MEANDIFF, RR_high_10_None_MAXMIN, RR_low_10_None_DIFF, RR_low_10_None_MAXDIFF, RR_low_10_None_MINDIFF, RR_low_10_None_MEANDIFF, RR_low_10_None_MAXMIN, RR_close_15_None_DIFF, RR_close_15_None_MAXDIFF, RR_close_15_None_MINDIFF, RR_close_15_None_MEANDIFF, RR_close_15_None_MAXMIN, RR_open_15_None_DIFF, RR_open_15_None_MAXDIFF, RR_open_15_None_MINDIFF, RR_open_15_None_MEANDIFF, RR_open_15_None_MAXMIN, RR_high_15_None_DIFF, RR_high_15_None_MAXDIFF, RR_high_15_None_MINDIFF, RR_high_15_None_MEANDIFF, RR_high_15_None_MAXMIN, RR_low_15_None_DIFF, RR_low_15_None_MAXDIFF, RR_low_15_None_MINDIFF, RR_low_15_None_MEANDIFF, RR_low_15_None_MAXMIN, RR_close_30_None_DIFF, RR_close_30_None_MAXDIFF, RR_close_30_None_MINDIFF, RR_close_30_None_MEANDIFF, RR_close_30_None_MAXMIN, RR_open_30_None_DIFF, RR_open_30_None_MAXDIFF, RR_open_30_None_MINDIFF, RR_open_30_None_MEANDIFF, RR_open_30_None_MAXMIN, RR_high_30_None_DIFF, RR_high_30_None_MAXDIFF, RR_high_30_None_MINDIFF, RR_high_30_None_MEANDIFF, RR_high_30_None_MAXMIN, RR_low_30_None_DIFF, RR_low_30_None_MAXDIFF, RR_low_30_None_MINDIFF, RR_low_30_None_MEANDIFF, RR_low_30_None_MAXMIN, RR_close_60_None_DIFF, RR_close_60_None_MAXDIFF, RR_close_60_None_MINDIFF, RR_close_60_None_MEANDIFF, RR_close_60_None_MAXMIN, RR_open_60_None_DIFF, RR_open_60_None_MAXDIFF, RR_open_60_None_MINDIFF, RR_open_60_None_MEANDIFF, RR_open_60_None_MAXMIN, RR_high_60_None_DIFF, RR_high_60_None_MAXDIFF, RR_high_60_None_MINDIFF, RR_high_60_None_MEANDIFF, RR_high_60_None_MAXMIN, RR_low_60_None_DIFF, RR_low_60_None_MAXDIFF, RR_low_60_None_MINDIFF, RR_low_60_None_MEANDIFF, RR_low_60_None_MAXMIN, RR_close_90_None_DIFF, RR_close_90_None_MAXDIFF, RR_close_90_None_MINDIFF, RR_close_90_None_MEANDIFF, RR_close_90_None_MAXMIN, RR_open_90_None_DIFF, RR_open_90_None_MAXDIFF, RR_open_90_None_MINDIFF, RR_open_90_None_MEANDIFF, RR_open_90_None_MAXMIN, RR_high_90_None_DIFF, RR_high_90_None_MAXDIFF, RR_high_90_None_MINDIFF, RR_high_90_None_MEANDIFF, RR_high_90_None_MAXMIN, RR_low_90_None_DIFF, RR_low_90_None_MAXDIFF, RR_low_90_None_MINDIFF, RR_low_90_None_MEANDIFF, RR_low_90_None_MAXMIN, RR_close_120_None_DIFF, RR_close_120_None_MAXDIFF, RR_close_120_None_MINDIFF, RR_close_120_None_MEANDIFF, RR_close_120_None_MAXMIN, RR_open_120_None_DIFF, RR_open_120_None_MAXDIFF, RR_open_120_None_MINDIFF, RR_open_120_None_MEANDIFF, RR_open_120_None_MAXMIN, RR_high_120_None_DIFF, RR_high_120_None_MAXDIFF, RR_high_120_None_MINDIFF, RR_high_120_None_MEANDIFF, RR_high_120_None_MAXMIN, RR_low_120_None_DIFF, RR_low_120_None_MAXDIFF, RR_low_120_None_MINDIFF, RR_low_120_None_MEANDIFF, RR_low_120_None_MAXMIN, RRLB_close_10_None_DIFF, RRLB_close_10_None_MAXDIFF, RRLB_close_10_None_MINDIFF, RRLB_close_10_None_MEANDIFF, RRLB_close_10_None_MAXMAX, RRLB_close_10_None_MINMIN, RRLB_open_10_None_DIFF, RRLB_open_10_None_MAXDIFF, RRLB_open_10_None_MINDIFF, RRLB_open_10_None_MEANDIFF, RRLB_open_10_None_MAXMAX, RRLB_open_10_None_MINMIN, RRLB_high_10_None_DIFF, RRLB_high_10_None_MAXDIFF, RRLB_high_10_None_MINDIFF, RRLB_high_10_None_MEANDIFF, RRLB_high_10_None_MAXMAX, RRLB_high_10_None_MINMIN, RRLB_low_10_None_DIFF, RRLB_low_10_None_MAXDIFF, RRLB_low_10_None_MINDIFF, RRLB_low_10_None_MEANDIFF, RRLB_low_10_None_MAXMAX, RRLB_low_10_None_MINMIN, RRLB_close_15_None_DIFF, RRLB_close_15_None_MAXDIFF, RRLB_close_15_None_MINDIFF, RRLB_close_15_None_MEANDIFF, RRLB_close_15_None_MAXMAX, RRLB_close_15_None_MINMIN, RRLB_open_15_None_DIFF, RRLB_open_15_None_MAXDIFF, RRLB_open_15_None_MINDIFF, RRLB_open_15_None_MEANDIFF, RRLB_open_15_None_MAXMAX, RRLB_open_15_None_MINMIN, RRLB_high_15_None_DIFF, RRLB_high_15_None_MAXDIFF, RRLB_high_15_None_MINDIFF, RRLB_high_15_None_MEANDIFF, RRLB_high_15_None_MAXMAX, RRLB_high_15_None_MINMIN, RRLB_low_15_None_DIFF, RRLB_low_15_None_MAXDIFF, RRLB_low_15_None_MINDIFF, RRLB_low_15_None_MEANDIFF, RRLB_low_15_None_MAXMAX, RRLB_low_15_None_MINMIN, RRLB_close_30_None_DIFF, RRLB_close_30_None_MAXDIFF, RRLB_close_30_None_MINDIFF, RRLB_close_30_None_MEANDIFF, RRLB_close_30_None_MAXMAX, RRLB_close_30_None_MINMIN, RRLB_open_30_None_DIFF, RRLB_open_30_None_MAXDIFF, RRLB_open_30_None_MINDIFF, RRLB_open_30_None_MEANDIFF, RRLB_open_30_None_MAXMAX, RRLB_open_30_None_MINMIN, RRLB_high_30_None_DIFF, RRLB_high_30_None_MAXDIFF, RRLB_high_30_None_MINDIFF, RRLB_high_30_None_MEANDIFF, RRLB_high_30_None_MAXMAX, RRLB_high_30_None_MINMIN, RRLB_low_30_None_DIFF, RRLB_low_30_None_MAXDIFF, RRLB_low_30_None_MINDIFF, RRLB_low_30_None_MEANDIFF, RRLB_low_30_None_MAXMAX, RRLB_low_30_None_MINMIN, RRLB_close_60_None_DIFF, RRLB_close_60_None_MAXDIFF, RRLB_close_60_None_MINDIFF, RRLB_close_60_None_MEANDIFF, RRLB_close_60_None_MAXMAX, RRLB_close_60_None_MINMIN, RRLB_open_60_None_DIFF, RRLB_open_60_None_MAXDIFF, RRLB_open_60_None_MINDIFF, RRLB_open_60_None_MEANDIFF, RRLB_open_60_None_MAXMAX, RRLB_open_60_None_MINMIN, RRLB_high_60_None_DIFF, RRLB_high_60_None_MAXDIFF, RRLB_high_60_None_MINDIFF, RRLB_high_60_None_MEANDIFF, RRLB_high_60_None_MAXMAX, RRLB_high_60_None_MINMIN, RRLB_low_60_None_DIFF, RRLB_low_60_None_MAXDIFF, RRLB_low_60_None_MINDIFF, RRLB_low_60_None_MEANDIFF, RRLB_low_60_None_MAXMAX, RRLB_low_60_None_MINMIN, RRLB_close_90_None_DIFF, RRLB_close_90_None_MAXDIFF, RRLB_close_90_None_MINDIFF, RRLB_close_90_None_MEANDIFF, RRLB_close_90_None_MAXMAX, RRLB_close_90_None_MINMIN, RRLB_open_90_None_DIFF, RRLB_open_90_None_MAXDIFF, RRLB_open_90_None_MINDIFF, RRLB_open_90_None_MEANDIFF, RRLB_open_90_None_MAXMAX, RRLB_open_90_None_MINMIN, RRLB_high_90_None_DIFF, RRLB_high_90_None_MAXDIFF, RRLB_high_90_None_MINDIFF, RRLB_high_90_None_MEANDIFF, RRLB_high_90_None_MAXMAX, RRLB_high_90_None_MINMIN, RRLB_low_90_None_DIFF, RRLB_low_90_None_MAXDIFF, RRLB_low_90_None_MINDIFF, RRLB_low_90_None_MEANDIFF, RRLB_low_90_None_MAXMAX, RRLB_low_90_None_MINMIN, RRLB_close_120_None_DIFF, RRLB_close_120_None_MAXDIFF, RRLB_close_120_None_MINDIFF, RRLB_close_120_None_MEANDIFF, RRLB_close_120_None_MAXMAX, RRLB_close_120_None_MINMIN, RRLB_open_120_None_DIFF, RRLB_open_120_None_MAXDIFF, RRLB_open_120_None_MINDIFF, RRLB_open_120_None_MEANDIFF, RRLB_open_120_None_MAXMAX, RRLB_open_120_None_MINMIN, RRLB_high_120_None_DIFF, RRLB_high_120_None_MAXDIFF, RRLB_high_120_None_MINDIFF, RRLB_high_120_None_MEANDIFF, RRLB_high_120_None_MAXMAX, RRLB_high_120_None_MINMIN, RRLB_low_120_None_DIFF, RRLB_low_120_None_MAXDIFF, RRLB_low_120_None_MINDIFF, RRLB_low_120_None_MEANDIFF, RRLB_low_120_None_MAXMAX, RRLB_low_120_None_MINMIN, RRLBC_close_10_None_DIFF, RRLBC_close_10_None_MAXDIFF, RRLBC_close_10_None_MINDIFF, RRLBC_close_10_None_MEANDIFF, RRLBC_close_10_None_MAXMIN, RRLBC_close_10_None_MINMAX, RRLBC_open_10_None_DIFF, RRLBC_open_10_None_MAXDIFF, RRLBC_open_10_None_MINDIFF, RRLBC_open_10_None_MEANDIFF, RRLBC_open_10_None_MAXMIN, RRLBC_open_10_None_MINMAX, RRLBC_high_10_None_DIFF, RRLBC_high_10_None_MAXDIFF, RRLBC_high_10_None_MINDIFF, RRLBC_high_10_None_MEANDIFF, RRLBC_high_10_None_MAXMIN, RRLBC_high_10_None_MINMAX, RRLBC_low_10_None_DIFF, RRLBC_low_10_None_MAXDIFF, RRLBC_low_10_None_MINDIFF, RRLBC_low_10_None_MEANDIFF, RRLBC_low_10_None_MAXMIN, RRLBC_low_10_None_MINMAX, RRLBC_close_15_None_DIFF, RRLBC_close_15_None_MAXDIFF, RRLBC_close_15_None_MINDIFF, RRLBC_close_15_None_MEANDIFF, RRLBC_close_15_None_MAXMIN, RRLBC_close_15_None_MINMAX, RRLBC_open_15_None_DIFF, RRLBC_open_15_None_MAXDIFF, RRLBC_open_15_None_MINDIFF, RRLBC_open_15_None_MEANDIFF, RRLBC_open_15_None_MAXMIN, RRLBC_open_15_None_MINMAX, RRLBC_high_15_None_DIFF, RRLBC_high_15_None_MAXDIFF, RRLBC_high_15_None_MINDIFF, RRLBC_high_15_None_MEANDIFF, RRLBC_high_15_None_MAXMIN, RRLBC_high_15_None_MINMAX, RRLBC_low_15_None_DIFF, RRLBC_low_15_None_MAXDIFF, RRLBC_low_15_None_MINDIFF, RRLBC_low_15_None_MEANDIFF, RRLBC_low_15_None_MAXMIN, RRLBC_low_15_None_MINMAX, RRLBC_close_30_None_DIFF, RRLBC_close_30_None_MAXDIFF, RRLBC_close_30_None_MINDIFF, RRLBC_close_30_None_MEANDIFF, RRLBC_close_30_None_MAXMIN, RRLBC_close_30_None_MINMAX, RRLBC_open_30_None_DIFF, RRLBC_open_30_None_MAXDIFF, RRLBC_open_30_None_MINDIFF, RRLBC_open_30_None_MEANDIFF, RRLBC_open_30_None_MAXMIN, RRLBC_open_30_None_MINMAX, RRLBC_high_30_None_DIFF, RRLBC_high_30_None_MAXDIFF, RRLBC_high_30_None_MINDIFF, RRLBC_high_30_None_MEANDIFF, RRLBC_high_30_None_MAXMIN, RRLBC_high_30_None_MINMAX, RRLBC_low_30_None_DIFF, RRLBC_low_30_None_MAXDIFF, RRLBC_low_30_None_MINDIFF, RRLBC_low_30_None_MEANDIFF, RRLBC_low_30_None_MAXMIN, RRLBC_low_30_None_MINMAX, RRLBC_close_60_None_DIFF, RRLBC_close_60_None_MAXDIFF, RRLBC_close_60_None_MINDIFF, RRLBC_close_60_None_MEANDIFF, RRLBC_close_60_None_MAXMIN, RRLBC_close_60_None_MINMAX, RRLBC_open_60_None_DIFF, RRLBC_open_60_None_MAXDIFF, RRLBC_open_60_None_MINDIFF, RRLBC_open_60_None_MEANDIFF, RRLBC_open_60_None_MAXMIN, RRLBC_open_60_None_MINMAX, RRLBC_high_60_None_DIFF, RRLBC_high_60_None_MAXDIFF, RRLBC_high_60_None_MINDIFF, RRLBC_high_60_None_MEANDIFF, RRLBC_high_60_None_MAXMIN, RRLBC_high_60_None_MINMAX, RRLBC_low_60_None_DIFF, RRLBC_low_60_None_MAXDIFF, RRLBC_low_60_None_MINDIFF, RRLBC_low_60_None_MEANDIFF, RRLBC_low_60_None_MAXMIN, RRLBC_low_60_None_MINMAX, RRLBC_close_90_None_DIFF, RRLBC_close_90_None_MAXDIFF, RRLBC_close_90_None_MINDIFF, RRLBC_close_90_None_MEANDIFF, RRLBC_close_90_None_MAXMIN, RRLBC_close_90_None_MINMAX, RRLBC_open_90_None_DIFF, RRLBC_open_90_None_MAXDIFF, RRLBC_open_90_None_MINDIFF, RRLBC_open_90_None_MEANDIFF, RRLBC_open_90_None_MAXMIN, RRLBC_open_90_None_MINMAX, RRLBC_high_90_None_DIFF, RRLBC_high_90_None_MAXDIFF, RRLBC_high_90_None_MINDIFF, RRLBC_high_90_None_MEANDIFF, RRLBC_high_90_None_MAXMIN, RRLBC_high_90_None_MINMAX, RRLBC_low_90_None_DIFF, RRLBC_low_90_None_MAXDIFF, RRLBC_low_90_None_MINDIFF, RRLBC_low_90_None_MEANDIFF, RRLBC_low_90_None_MAXMIN, RRLBC_low_90_None_MINMAX, RRLBC_close_120_None_DIFF, RRLBC_close_120_None_MAXDIFF, RRLBC_close_120_None_MINDIFF, RRLBC_close_120_None_MEANDIFF, RRLBC_close_120_None_MAXMIN, RRLBC_close_120_None_MINMAX, RRLBC_open_120_None_DIFF, RRLBC_open_120_None_MAXDIFF, RRLBC_open_120_None_MINDIFF, RRLBC_open_120_None_MEANDIFF, RRLBC_open_120_None_MAXMIN, RRLBC_open_120_None_MINMAX, RRLBC_high_120_None_DIFF, RRLBC_high_120_None_MAXDIFF, RRLBC_high_120_None_MINDIFF, RRLBC_high_120_None_MEANDIFF, RRLBC_high_120_None_MAXMIN, RRLBC_high_120_None_MINMAX, RRLBC_low_120_None_DIFF, RRLBC_low_120_None_MAXDIFF, RRLBC_low_120_None_MINDIFF, RRLBC_low_120_None_MEANDIFF, RRLBC_low_120_None_MAXMIN, RRLBC_low_120_None_MINMAX, close_10min_morethan_max_last_tick__x, open_10min_morethan_max_last_tick__x, high_10min_morethan_max_last_tick__x, low_10min_morethan_max_last_tick__x, close_10min_morethan_max_last_tick__y, open_10min_morethan_max_last_tick__y, high_10min_morethan_max_last_tick__y, low_10min_morethan_max_last_tick__y, close_30min_morethan_max_last_tick__x, open_30min_morethan_max_last_tick__x, high_30min_morethan_max_last_tick__x, low_30min_morethan_max_last_tick__x, close_30min_morethan_max_last_tick__y, open_30min_morethan_max_last_tick__y, high_30min_morethan_max_last_tick__y, low_30min_morethan_max_last_tick__y, close_60min_morethan_max_last_tick__x, open_60min_morethan_max_last_tick__x, high_60min_morethan_max_last_tick__x, low_60min_morethan_max_last_tick__x, close_60min_morethan_max_last_tick__y, open_60min_morethan_max_last_tick__y, high_60min_morethan_max_last_tick__y, low_60min_morethan_max_last_tick__y, close_120min_morethan_max_last_tick__x, open_120min_morethan_max_last_tick__x, high_120min_morethan_max_last_tick__x, low_120min_morethan_max_last_tick__x, close_120min_morethan_max_last_tick__y, open_120min_morethan_max_last_tick__y, high_120min_morethan_max_last_tick__y, low_120min_morethan_max_last_tick__y, PVDR_close_d_x, PVDR_close_d_MAX_MIN_x, PVDR_open_d_x, PVDR_open_d_MAX_MIN_x, PVDR_high_d_x, PVDR_high_d_MAX_MIN_x, PVDR_low_d_x, PVDR_low_d_MAX_MIN_x, PVDR_close_d_y, PVDR_close_d_MAX_MIN_y, PVDR_open_d_y, PVDR_open_d_MAX_MIN_y, PVDR_high_d_y, PVDR_high_d_MAX_MIN_y, PVDR_low_d_y, PVDR_low_d_MAX_MIN_y, PVDR_close_d, PVDR_close_d_MAX_MIN, PVDR_open_d, PVDR_open_d_MAX_MIN, PVDR_high_d, PVDR_high_d_MAX_MIN, PVDR_low_d, PVDR_low_d_MAX_MIN, PVDR_close_w, PVDR_close_w_MAX_MIN, PVDR_open_w, PVDR_open_w_MAX_MIN, PVDR_high_w, PVDR_high_w_MAX_MIN, PVDR_low_w, PVDR_low_w_MAX_MIN, \"GOMC_{col}\", PDR_open_close_price_deviation_min_second_col_0900_1030, PDR_open_close_price_deviation_min_second_col_1030_1130, PDR_open_close_price_deviation_min_second_col_1130_1230, PDR_open_close_price_deviation_min_second_col_1230_0130, PDR_open_close_price_deviation_min_second_col_0230_1530, PDR_high_low_price_deviation_min_second_col_0900_1030, PDR_high_low_price_deviation_min_second_col_1030_1130, PDR_high_low_price_deviation_min_second_col_1130_1230, PDR_high_low_price_deviation_min_second_col_1230_0130, PDR_high_low_price_deviation_min_second_col_0230_1530, \"label_-15_1min_close\", \"label_-30_1min_close\", \"label_-60_1min_close\", \"label_-45_1min_close\", \"label_-15_1min_close_SL\", \"label_-30_1min_close_SL\", \"label_-60_1min_close_SL\", \"label_-45_1min_close_SL\"\u001b[0m\n\u001b[0m                                                                                                                                                                                                                                                                                                                                                                                                                                                                                                                                                                                                                                                                                                                                                                                                                                                                                                                              ^\u001b[0m\n\u001b[0;31mSyntaxError\u001b[0m\u001b[0;31m:\u001b[0m invalid syntax\n"
     ]
    }
   ],
   "source": []
  },
  {
   "cell_type": "code",
   "execution_count": null,
   "metadata": {},
   "outputs": [],
   "source": []
  }
 ],
 "metadata": {
  "kernelspec": {
   "display_name": "Python 3.9.13 ('base')",
   "language": "python",
   "name": "python3"
  },
  "language_info": {
   "codemirror_mode": {
    "name": "ipython",
    "version": 3
   },
   "file_extension": ".py",
   "mimetype": "text/x-python",
   "name": "python",
   "nbconvert_exporter": "python",
   "pygments_lexer": "ipython3",
   "version": "3.9.13"
  },
  "orig_nbformat": 4,
  "vscode": {
   "interpreter": {
    "hash": "40d3a090f54c6569ab1632332b64b2c03c39dcf918b08424e98f38b5ae0af88f"
   }
  }
 },
 "nbformat": 4,
 "nbformat_minor": 2
}
