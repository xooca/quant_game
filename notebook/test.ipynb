{
 "cells": [
  {
   "cell_type": "code",
   "execution_count": 1,
   "metadata": {},
   "outputs": [],
   "source": [
    "import os\n",
    "from hydra import initialize, initialize_config_module, initialize_config_dir, compose\n",
    "from omegaconf import OmegaConf"
   ]
  },
  {
   "cell_type": "code",
   "execution_count": 2,
   "metadata": {},
   "outputs": [],
   "source": [
    "path = '../config/config.yaml'\n",
    "hydra_config = OmegaConf.load(path)"
   ]
  },
  {
   "cell_type": "code",
   "execution_count": 3,
   "metadata": {},
   "outputs": [
    {
     "name": "stdout",
     "output_type": "stream",
     "text": [
      "model:\n",
      "  autogluon:\n",
      "    evaluation1:\n",
      "      eval_metric1: accuracy\n",
      "    model1:\n",
      "      model_save_path1: null\n",
      "    optimization1:\n",
      "      generic1:\n",
      "        time_limit1: 120\n",
      "        num_trials1: 5\n",
      "        search_strategy1: auto\n",
      "      nnoption1:\n",
      "        num_epochs1: 10\n",
      "        learning_rate1: 871\n",
      "data:\n",
      "  read_start_date: '2011-01-01'\n",
      "  read_end_date: None\n",
      "  save_start_date: '2011-02-01'\n",
      "  save_end_date: None\n",
      "  ohlc_column:\n",
      "  - close\n",
      "  - open\n",
      "  - high\n",
      "  - low\n",
      "  selected_columns:\n",
      "  - close\n",
      "  - open\n",
      "  - high\n",
      "  - low\n",
      "  technical_indicator_col_pattern:\n",
      "  - momentum\n",
      "  - volatile\n",
      "  - transform\n",
      "  - pattern\n",
      "  - overlap\n",
      "  label_generator_col: close\n",
      "  ta_pipe2_exclude:\n",
      "  - pvo\n",
      "  - vwap\n",
      "  - vwma\n",
      "  - ad\n",
      "  - adosc\n",
      "  - aobv\n",
      "  - cmf\n",
      "  - efi\n",
      "  - eom\n",
      "  - kvo\n",
      "  - mfi\n",
      "  - nvi\n",
      "  - obv\n",
      "  - pvi\n",
      "  - pvol\n",
      "  - pvr\n",
      "  - pvt\n",
      "\n"
     ]
    }
   ],
   "source": [
    "with initialize(version_base=None, config_path=\"../config\"):\n",
    "#cfg = compose(config_name=\"config\",overrides=[\"autogluon.optimization.generic.time_limit=133\"])\n",
    "    cfg=compose(overrides= [\"+model=autogluon\", \"+data=data\"])\n",
    "    print(OmegaConf.to_yaml(cfg))"
   ]
  },
  {
   "cell_type": "code",
   "execution_count": 11,
   "metadata": {},
   "outputs": [
    {
     "data": {
      "text/plain": [
       "['close', 'open', 'high', 'low']"
      ]
     },
     "execution_count": 11,
     "metadata": {},
     "output_type": "execute_result"
    }
   ],
   "source": [
    "cfg.data.ohlc_column"
   ]
  },
  {
   "cell_type": "code",
   "execution_count": 5,
   "metadata": {},
   "outputs": [
    {
     "data": {
      "text/plain": [
       "{'data': {'evaluation': {'eval_metric': 'accuracy'}, 'model': {'model_save_path': None}, 'optimization': {'generic': {'time_limit': 120, 'num_trials': 5, 'search_strategy': 'auto'}, 'nnoption': {'num_epochs': 10, 'learning_rate': 871}}}}"
      ]
     },
     "execution_count": 5,
     "metadata": {},
     "output_type": "execute_result"
    }
   ],
   "source": [
    "cfg.data"
   ]
  }
 ],
 "metadata": {
  "kernelspec": {
   "display_name": "Python 3.8.2 ('ee')",
   "language": "python",
   "name": "python3"
  },
  "language_info": {
   "codemirror_mode": {
    "name": "ipython",
    "version": 3
   },
   "file_extension": ".py",
   "mimetype": "text/x-python",
   "name": "python",
   "nbconvert_exporter": "python",
   "pygments_lexer": "ipython3",
   "version": "3.8.2"
  },
  "orig_nbformat": 4,
  "vscode": {
   "interpreter": {
    "hash": "86b787b86fc8737571dbbe615f9354f8802ff0be8a4942a430c73649cedfecfe"
   }
  }
 },
 "nbformat": 4,
 "nbformat_minor": 2
}
