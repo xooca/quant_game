{
 "cells": [
  {
   "cell_type": "code",
   "execution_count": 1,
   "metadata": {
    "tags": []
   },
   "outputs": [
    {
     "output_type": "stream",
     "name": "stdout",
     "text": "[*********************100%***********************]  1 of 1 completed\n"
    }
   ],
   "source": [
    "# =============================================================================\n",
    "# Import OHLCV data and transform it to Renko\n",
    "# Author : Mayank Rasu (http://rasuquant.com/wp/)\n",
    "\n",
    "# Please report bug/issues in the Q&A section\n",
    "# =============================================================================\n",
    "\n",
    "# Import necesary libraries\n",
    "import yfinance as yf\n",
    "import datetime as dt\n",
    "from stocktrends import Renko\n",
    "\n",
    "################################PLEASE READ ME####################################\n",
    "#Stocktrends' author has renamed get_bricks() function to get_ohlc_data()\n",
    "#therefore you may get error when trying to run line 43 below\n",
    "#if that is the case please comment out line 43 and remove # sign from line 44 and rerun\n",
    "##################################################################################\n",
    "\n",
    "# Download historical data for required stocks\n",
    "ticker = \"AAPL\"\n",
    "ohlcv = yf.download(ticker,dt.date.today()-dt.timedelta(1825),dt.datetime.today())\n",
    "\n",
    "def ATR(DF,n):\n",
    "    \"function to calculate True Range and Average True Range\"\n",
    "    df = DF.copy()\n",
    "    df['H-L']=abs(df['High']-df['Low'])\n",
    "    df['H-PC']=abs(df['High']-df['Adj Close'].shift(1))\n",
    "    df['L-PC']=abs(df['Low']-df['Adj Close'].shift(1))\n",
    "    df['TR']=df[['H-L','H-PC','L-PC']].max(axis=1,skipna=False)\n",
    "    df['ATR'] = df['TR'].rolling(n).mean()\n",
    "    df2 = df.drop(['H-L','H-PC','L-PC'],axis=1)\n",
    "    return df2\n",
    "\n",
    "def renko_DF(DF):\n",
    "    \"function to convert ohlc data into renko bricks\"\n",
    "    df = DF.copy()\n",
    "    df.reset_index(inplace=True)\n",
    "    df = df.iloc[:,[0,1,2,3,5,6]]\n",
    "    df.rename(columns = {\"Date\" : \"date\", \"High\" : \"high\",\"Low\" : \"low\", \"Open\" : \"open\",\"Adj Close\" : \"close\", \"Volume\" : \"volume\"}, inplace = True)\n",
    "    df2 = Renko(df)\n",
    "    df2.brick_size = round(ATR(DF,120)[\"ATR\"][-1],0)\n",
    "    renko_df = df2.get_ohlc_data() #if using older version of the library please use get_bricks() instead\n",
    "    return renko_df\n",
    "\n",
    "\n",
    "renko_data = renko_DF(ohlcv)"
   ]
  },
  {
   "cell_type": "code",
   "execution_count": 13,
   "metadata": {},
   "outputs": [
    {
     "output_type": "execute_result",
     "data": {
      "text/plain": "(61, 6)"
     },
     "metadata": {},
     "execution_count": 13
    }
   ],
   "source": [
    "renko_data.shape"
   ]
  },
  {
   "cell_type": "code",
   "execution_count": 14,
   "metadata": {},
   "outputs": [
    {
     "output_type": "execute_result",
     "data": {
      "text/plain": "(1259, 6)"
     },
     "metadata": {},
     "execution_count": 14
    }
   ],
   "source": [
    "ohlcv.shape"
   ]
  }
 ],
 "metadata": {
  "language_info": {
   "codemirror_mode": {
    "name": "ipython",
    "version": 3
   },
   "file_extension": ".py",
   "mimetype": "text/x-python",
   "name": "python",
   "nbconvert_exporter": "python",
   "pygments_lexer": "ipython3",
   "version": 3
  },
  "orig_nbformat": 2,
  "kernelspec": {
   "name": "python_defaultSpec_1594489506445",
   "display_name": "Python 3.7.2 64-bit"
  }
 },
 "nbformat": 4,
 "nbformat_minor": 2
}