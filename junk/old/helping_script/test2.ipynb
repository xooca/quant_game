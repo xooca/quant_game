{
 "cells": [
  {
   "cell_type": "code",
   "execution_count": 7,
   "metadata": {
    "tags": []
   },
   "outputs": [
    {
     "output_type": "error",
     "ename": "ModuleNotFoundError",
     "evalue": "No module named 'signals'",
     "traceback": [
      "\u001b[1;31m---------------------------------------------------------------------------\u001b[0m",
      "\u001b[1;31mModuleNotFoundError\u001b[0m                       Traceback (most recent call last)",
      "\u001b[1;32m<ipython-input-7-9ff50daa18bd>\u001b[0m in \u001b[0;36m<module>\u001b[1;34m\u001b[0m\n\u001b[0;32m     12\u001b[0m \u001b[1;32mimport\u001b[0m \u001b[0mstatsmodels\u001b[0m\u001b[1;33m.\u001b[0m\u001b[0mapi\u001b[0m \u001b[1;32mas\u001b[0m \u001b[0msm\u001b[0m\u001b[1;33m\u001b[0m\u001b[1;33m\u001b[0m\u001b[0m\n\u001b[0;32m     13\u001b[0m \u001b[1;32mfrom\u001b[0m \u001b[0mstocktrends\u001b[0m \u001b[1;32mimport\u001b[0m \u001b[0mRenko\u001b[0m\u001b[1;33m\u001b[0m\u001b[1;33m\u001b[0m\u001b[0m\n\u001b[1;32m---> 14\u001b[1;33m \u001b[1;32mfrom\u001b[0m \u001b[0msignals\u001b[0m \u001b[1;32mimport\u001b[0m \u001b[0mmomentum_signals\u001b[0m\u001b[1;33m\u001b[0m\u001b[1;33m\u001b[0m\u001b[0m\n\u001b[0m\u001b[0;32m     15\u001b[0m \u001b[0mfile\u001b[0m \u001b[1;33m=\u001b[0m \u001b[1;34mr\"C:\\Users\\8prab\\Google Drive\\Work\\xooca-git\\trading_related\\BHARTIARTL.NS\\hist_2010-01-01_2020-06-19.csv\"\u001b[0m\u001b[1;33m\u001b[0m\u001b[1;33m\u001b[0m\u001b[0m\n",
      "\u001b[1;31mModuleNotFoundError\u001b[0m: No module named 'signals'"
     ]
    }
   ],
   "source": [
    "# Import necesary libraries\n",
    "import yfinance as yf\n",
    "import datetime as dt\n",
    "import datetime as dt\n",
    "import statsmodels.api as sm\n",
    "import matplotlib.pyplot as plt\n",
    "import numpy as np\n",
    "import pandas as pd\n",
    "import pandas as pd\n",
    "import numpy as np\n",
    "import datetime as dt\n",
    "import statsmodels.api as sm\n",
    "from stocktrends import Renko\n",
    "from signals import momentum_signals\n",
    "file = r\"C:\\Users\\8prab\\Google Drive\\Work\\xooca-git\\trading_related\\BHARTIARTL.NS\\hist_2010-01-01_2020-06-19.csv\""
   ]
  },
  {
   "cell_type": "code",
   "execution_count": 2,
   "metadata": {},
   "outputs": [],
   "source": [
    "df = pd.read_csv(file,encoding='latin-1',index_col=['Unnamed: 0'])"
   ]
  },
  {
   "cell_type": "code",
   "execution_count": 3,
   "metadata": {},
   "outputs": [
    {
     "output_type": "execute_result",
     "data": {
      "text/plain": [
       "               Open    High     Low  Close* Adj. close**       Volume\n",
       "09-Apr-2010  286.47  290.60  281.88  282.71       266.75    63,64,752\n",
       "08-Apr-2010  292.90  295.19  284.64  287.30       271.08    67,50,418\n",
       "07-Apr-2010  291.06  299.14  288.03  294.18       277.58    56,64,078\n",
       "06-Apr-2010  291.52  292.71  286.29  290.56       274.16    40,53,513\n",
       "05-Apr-2010  281.88  292.12  277.75  290.19       273.81  1,05,43,536\n",
       "...             ...     ...     ...     ...          ...          ...\n",
       "01-Apr-2020  440.00  440.00  412.40  421.35       421.35    94,69,123\n",
       "31-Mar-2020  441.00  447.00  424.00  440.90       440.90  1,67,45,069\n",
       "30-Mar-2020  443.85  449.30  428.00  431.05       431.05  1,00,22,553\n",
       "27-Mar-2020  470.70  474.80  437.50  448.95       448.95  1,60,76,572\n",
       "26-Mar-2020  426.50  493.45  420.25  470.70       470.70  2,18,91,559\n",
       "\n",
       "[2093 rows x 6 columns]"
      ],
      "text/html": "<div>\n<style scoped>\n    .dataframe tbody tr th:only-of-type {\n        vertical-align: middle;\n    }\n\n    .dataframe tbody tr th {\n        vertical-align: top;\n    }\n\n    .dataframe thead th {\n        text-align: right;\n    }\n</style>\n<table border=\"1\" class=\"dataframe\">\n  <thead>\n    <tr style=\"text-align: right;\">\n      <th></th>\n      <th>Open</th>\n      <th>High</th>\n      <th>Low</th>\n      <th>Close*</th>\n      <th>Adj. close**</th>\n      <th>Volume</th>\n    </tr>\n  </thead>\n  <tbody>\n    <tr>\n      <th>09-Apr-2010</th>\n      <td>286.47</td>\n      <td>290.60</td>\n      <td>281.88</td>\n      <td>282.71</td>\n      <td>266.75</td>\n      <td>63,64,752</td>\n    </tr>\n    <tr>\n      <th>08-Apr-2010</th>\n      <td>292.90</td>\n      <td>295.19</td>\n      <td>284.64</td>\n      <td>287.30</td>\n      <td>271.08</td>\n      <td>67,50,418</td>\n    </tr>\n    <tr>\n      <th>07-Apr-2010</th>\n      <td>291.06</td>\n      <td>299.14</td>\n      <td>288.03</td>\n      <td>294.18</td>\n      <td>277.58</td>\n      <td>56,64,078</td>\n    </tr>\n    <tr>\n      <th>06-Apr-2010</th>\n      <td>291.52</td>\n      <td>292.71</td>\n      <td>286.29</td>\n      <td>290.56</td>\n      <td>274.16</td>\n      <td>40,53,513</td>\n    </tr>\n    <tr>\n      <th>05-Apr-2010</th>\n      <td>281.88</td>\n      <td>292.12</td>\n      <td>277.75</td>\n      <td>290.19</td>\n      <td>273.81</td>\n      <td>1,05,43,536</td>\n    </tr>\n    <tr>\n      <th>...</th>\n      <td>...</td>\n      <td>...</td>\n      <td>...</td>\n      <td>...</td>\n      <td>...</td>\n      <td>...</td>\n    </tr>\n    <tr>\n      <th>01-Apr-2020</th>\n      <td>440.00</td>\n      <td>440.00</td>\n      <td>412.40</td>\n      <td>421.35</td>\n      <td>421.35</td>\n      <td>94,69,123</td>\n    </tr>\n    <tr>\n      <th>31-Mar-2020</th>\n      <td>441.00</td>\n      <td>447.00</td>\n      <td>424.00</td>\n      <td>440.90</td>\n      <td>440.90</td>\n      <td>1,67,45,069</td>\n    </tr>\n    <tr>\n      <th>30-Mar-2020</th>\n      <td>443.85</td>\n      <td>449.30</td>\n      <td>428.00</td>\n      <td>431.05</td>\n      <td>431.05</td>\n      <td>1,00,22,553</td>\n    </tr>\n    <tr>\n      <th>27-Mar-2020</th>\n      <td>470.70</td>\n      <td>474.80</td>\n      <td>437.50</td>\n      <td>448.95</td>\n      <td>448.95</td>\n      <td>1,60,76,572</td>\n    </tr>\n    <tr>\n      <th>26-Mar-2020</th>\n      <td>426.50</td>\n      <td>493.45</td>\n      <td>420.25</td>\n      <td>470.70</td>\n      <td>470.70</td>\n      <td>2,18,91,559</td>\n    </tr>\n  </tbody>\n</table>\n<p>2093 rows × 6 columns</p>\n</div>"
     },
     "metadata": {},
     "execution_count": 3
    }
   ],
   "source": [
    "df"
   ]
  },
  {
   "cell_type": "code",
   "execution_count": 4,
   "metadata": {},
   "outputs": [
    {
     "output_type": "error",
     "ename": "Exception",
     "evalue": "input array type is not double",
     "traceback": [
      "\u001b[1;31m---------------------------------------------------------------------------\u001b[0m",
      "\u001b[1;31mException\u001b[0m                                 Traceback (most recent call last)",
      "\u001b[1;32m<ipython-input-4-8c99e4ceda91>\u001b[0m in \u001b[0;36m<module>\u001b[1;34m\u001b[0m\n\u001b[0;32m      7\u001b[0m     \u001b[1;34m'volume'\u001b[0m\u001b[1;33m:\u001b[0m \u001b[0mnp\u001b[0m\u001b[1;33m.\u001b[0m\u001b[0marray\u001b[0m\u001b[1;33m(\u001b[0m\u001b[0mdf\u001b[0m\u001b[1;33m[\u001b[0m\u001b[1;34m'Volume'\u001b[0m\u001b[1;33m]\u001b[0m\u001b[1;33m)\u001b[0m\u001b[1;33m\u001b[0m\u001b[1;33m\u001b[0m\u001b[0m\n\u001b[0;32m      8\u001b[0m }\n\u001b[1;32m----> 9\u001b[1;33m \u001b[0moutput\u001b[0m \u001b[1;33m=\u001b[0m \u001b[0mSMA\u001b[0m\u001b[1;33m(\u001b[0m\u001b[0minputs\u001b[0m\u001b[1;33m,\u001b[0m \u001b[0mtimeperiod\u001b[0m\u001b[1;33m=\u001b[0m\u001b[1;36m25\u001b[0m\u001b[1;33m)\u001b[0m \u001b[1;31m# calculate on close prices by default\u001b[0m\u001b[1;33m\u001b[0m\u001b[1;33m\u001b[0m\u001b[0m\n\u001b[0m\u001b[0;32m     10\u001b[0m \u001b[1;31m#output = SMA(inputs, timeperiod=25, price='open') # calculate on opens\u001b[0m\u001b[1;33m\u001b[0m\u001b[1;33m\u001b[0m\u001b[1;33m\u001b[0m\u001b[0m\n",
      "\u001b[1;32m_abstract.pxi\u001b[0m in \u001b[0;36mtalib._ta_lib.Function.__call__\u001b[1;34m()\u001b[0m\n",
      "\u001b[1;32m_abstract.pxi\u001b[0m in \u001b[0;36mtalib._ta_lib.Function.__call_function\u001b[1;34m()\u001b[0m\n",
      "\u001b[1;32m~\\.conda\\envs\\conda3.7.2\\lib\\site-packages\\talib\\__init__.py\u001b[0m in \u001b[0;36mwrapper\u001b[1;34m(*args, **kwargs)\u001b[0m\n\u001b[0;32m     25\u001b[0m \u001b[1;33m\u001b[0m\u001b[0m\n\u001b[0;32m     26\u001b[0m             \u001b[1;32mif\u001b[0m \u001b[0mindex\u001b[0m \u001b[1;32mis\u001b[0m \u001b[1;32mNone\u001b[0m\u001b[1;33m:\u001b[0m\u001b[1;33m\u001b[0m\u001b[1;33m\u001b[0m\u001b[0m\n\u001b[1;32m---> 27\u001b[1;33m                 \u001b[1;32mreturn\u001b[0m \u001b[0mfunc\u001b[0m\u001b[1;33m(\u001b[0m\u001b[1;33m*\u001b[0m\u001b[0margs\u001b[0m\u001b[1;33m,\u001b[0m \u001b[1;33m**\u001b[0m\u001b[0mkwargs\u001b[0m\u001b[1;33m)\u001b[0m\u001b[1;33m\u001b[0m\u001b[1;33m\u001b[0m\u001b[0m\n\u001b[0m\u001b[0;32m     28\u001b[0m \u001b[1;33m\u001b[0m\u001b[0m\n\u001b[0;32m     29\u001b[0m             \u001b[1;31m# Use Series' float64 values if pandas, else use values as passed\u001b[0m\u001b[1;33m\u001b[0m\u001b[1;33m\u001b[0m\u001b[1;33m\u001b[0m\u001b[0m\n",
      "\u001b[1;32m_func.pxi\u001b[0m in \u001b[0;36mtalib._ta_lib.SMA\u001b[1;34m()\u001b[0m\n",
      "\u001b[1;32m_func.pxi\u001b[0m in \u001b[0;36mtalib._ta_lib.check_array\u001b[1;34m()\u001b[0m\n",
      "\u001b[1;31mException\u001b[0m: input array type is not double"
     ]
    }
   ],
   "source": [
    "from talib.abstract import *\n",
    "inputs = {\n",
    "    'open': np.array(df['Open']),\n",
    "    'high': np.array(df['High']),\n",
    "    'low': np.array(df['Low']),\n",
    "    'close': np.array(df['Close*']),\n",
    "    'volume': np.array(df['Volume'])\n",
    "}\n",
    "output = SMA(inputs, timeperiod=25) # calculate on close prices by default\n",
    "#output = SMA(inputs, timeperiod=25, price='open') # calculate on opens"
   ]
  },
  {
   "cell_type": "code",
   "execution_count": 5,
   "metadata": {},
   "outputs": [
    {
     "output_type": "execute_result",
     "data": {
      "text/plain": [
       "array(['286.47', '292.90', '291.06', ..., '443.85', '470.70', '426.50'],\n",
       "      dtype=object)"
      ]
     },
     "metadata": {},
     "execution_count": 5
    }
   ],
   "source": [
    "np.array(df['Open'])"
   ]
  },
  {
   "cell_type": "code",
   "execution_count": 6,
   "metadata": {},
   "outputs": [
    {
     "output_type": "execute_result",
     "data": {
      "text/plain": [
       "array([0.21079355, 0.31520061, 0.1415485 , 0.5776051 , 0.09713636,\n",
       "       0.92247833, 0.90372242, 0.60003721, 0.44639716, 0.53192807,\n",
       "       0.07825677, 0.53375275, 0.05145896, 0.49026858, 0.76477539,\n",
       "       0.19435274, 0.3716176 , 0.47007946, 0.81651848, 0.16324662,\n",
       "       0.46827888, 0.23067051, 0.26563278, 0.89288331, 0.71314477,\n",
       "       0.38805942, 0.7331028 , 0.88153698, 0.32394455, 0.82828624,\n",
       "       0.52460925, 0.37090481, 0.17278667, 0.88376262, 0.97974744,\n",
       "       0.44167047, 0.21914929, 0.78502398, 0.26088931, 0.93290961,\n",
       "       0.70538553, 0.5191886 , 0.62775706, 0.21130212, 0.06248358,\n",
       "       0.24682621, 0.25966045, 0.51407079, 0.22968238, 0.16842323,\n",
       "       0.03773623, 0.398247  , 0.10128631, 0.79434818, 0.87731647,\n",
       "       0.54742605, 0.59869385, 0.87580599, 0.37603137, 0.54661856,\n",
       "       0.78399056, 0.24338935, 0.24171494, 0.80879699, 0.74015283,\n",
       "       0.87915383, 0.99138473, 0.89784905, 0.08301372, 0.70274316,\n",
       "       0.58839205, 0.17897888, 0.89485087, 0.99919249, 0.77455851,\n",
       "       0.41064916, 0.59026516, 0.24953224, 0.56442251, 0.67471421,\n",
       "       0.91537856, 0.66842745, 0.83629548, 0.94230245, 0.57563063,\n",
       "       0.56829644, 0.414291  , 0.25508999, 0.5821742 , 0.09424383,\n",
       "       0.84940552, 0.37817932, 0.39576711, 0.797667  , 0.30337824,\n",
       "       0.32396946, 0.92550657, 0.11771316, 0.68298296, 0.73646913])"
      ]
     },
     "metadata": {},
     "execution_count": 6
    }
   ],
   "source": [
    "np.random.random(100)"
   ]
  },
  {
   "cell_type": "code",
   "execution_count": 19,
   "metadata": {},
   "outputs": [],
   "source": [
    "def MACD(DF,a,b,c):\n",
    "    \"\"\"function to calculate MACD\n",
    "       typical values a = 12; b =26, c =9\"\"\"\n",
    "    df = DF.copy()\n",
    "    df = df[df['Open']!='-']\n",
    "    df['High'] = df['High'].astype('float')\n",
    "    df['Low'] = df['Low'].astype('float')\n",
    "    df['Adj. close**'] = df['Adj. close**'].astype('float')\n",
    "    df[\"MA_Fast\"]=df[\"Adj. close**\"].ewm(span=a,min_periods=a).mean()\n",
    "    df[\"MA_Slow\"]=df[\"Adj. close**\"].ewm(span=b,min_periods=b).mean()\n",
    "    df[\"MACD\"]=df[\"MA_Fast\"]-df[\"MA_Slow\"]\n",
    "    df[\"Signal\"]=df[\"MACD\"].ewm(span=c,min_periods=c).mean()\n",
    "    #Signal-MACD : Negative is Bearish and Positive is Bullish\n",
    "    df[\"Signal-MACD\"] = df[\"Signal\"] - df[\"MACD\"]\n",
    "    df.dropna(inplace=True)\n",
    "    return df\n",
    "\n",
    "# Visualization - plotting MACD/signal along with close price and volume for last 100 data points\n",
    "df = MACD(df, 12, 26, 9)"
   ]
  },
  {
   "cell_type": "code",
   "execution_count": 20,
   "metadata": {},
   "outputs": [
    {
     "output_type": "execute_result",
     "data": {
      "text/plain": "       Unnamed: 0    Open    High     Low  Close*  Adj. close**       Volume  \\\n33    18-Feb-2010  256.17  261.13  253.42  258.83        244.22    76,41,742   \n34    17-Feb-2010  251.03  258.70  251.03  256.31        241.84  1,75,69,953   \n35    16-Feb-2010  262.60  265.81  247.31  249.38        235.30  4,90,59,303   \n36    15-Feb-2010  291.06  291.06  261.13  262.23        247.43  2,06,63,298   \n37    11-Feb-2010  289.68  291.89  285.32  288.77        272.47    36,73,279   \n...           ...     ...     ...     ...     ...           ...          ...   \n2088  01-Apr-2020  440.00  440.00  412.40  421.35        421.35    94,69,123   \n2089  31-Mar-2020  441.00  447.00  424.00  440.90        440.90  1,67,45,069   \n2090  30-Mar-2020  443.85  449.30  428.00  431.05        431.05  1,00,22,553   \n2091  27-Mar-2020  470.70  474.80  437.50  448.95        448.95  1,60,76,572   \n2092  26-Mar-2020  426.50  493.45  420.25  470.70        470.70  2,18,91,559   \n\n         MA_Fast     MA_Slow       MACD     Signal  Signal-MACD        RSI  \n33    245.998725  251.164068  -5.165344  -4.981367     0.183977        NaN  \n34    245.357067  250.423295  -5.066228  -5.000380     0.065847        NaN  \n35    243.806035  249.228209  -5.422174  -5.092667     0.329508        NaN  \n36    244.364723  249.086809  -4.722086  -5.013081    -0.290996        NaN  \n37    248.696193  250.917170  -2.220978  -4.422175    -2.201198        NaN  \n...          ...         ...        ...        ...          ...        ...  \n2088  472.981740  490.610426 -17.628686  -8.650115     8.978571  25.993528  \n2089  468.046088  486.928172 -18.882084 -10.696509     8.185576  35.277679  \n2090  462.354382  482.789049 -20.434666 -12.644140     7.790526  32.984369  \n2091  460.292170  480.282452 -19.990283 -14.113369     5.876914  40.691445  \n2092  461.893374  479.572641 -17.679267 -14.826548     2.852718  48.593349  \n\n[2052 rows x 13 columns]",
      "text/html": "<div>\n<style scoped>\n    .dataframe tbody tr th:only-of-type {\n        vertical-align: middle;\n    }\n\n    .dataframe tbody tr th {\n        vertical-align: top;\n    }\n\n    .dataframe thead th {\n        text-align: right;\n    }\n</style>\n<table border=\"1\" class=\"dataframe\">\n  <thead>\n    <tr style=\"text-align: right;\">\n      <th></th>\n      <th>Unnamed: 0</th>\n      <th>Open</th>\n      <th>High</th>\n      <th>Low</th>\n      <th>Close*</th>\n      <th>Adj. close**</th>\n      <th>Volume</th>\n      <th>MA_Fast</th>\n      <th>MA_Slow</th>\n      <th>MACD</th>\n      <th>Signal</th>\n      <th>Signal-MACD</th>\n      <th>RSI</th>\n    </tr>\n  </thead>\n  <tbody>\n    <tr>\n      <th>33</th>\n      <td>18-Feb-2010</td>\n      <td>256.17</td>\n      <td>261.13</td>\n      <td>253.42</td>\n      <td>258.83</td>\n      <td>244.22</td>\n      <td>76,41,742</td>\n      <td>245.998725</td>\n      <td>251.164068</td>\n      <td>-5.165344</td>\n      <td>-4.981367</td>\n      <td>0.183977</td>\n      <td>NaN</td>\n    </tr>\n    <tr>\n      <th>34</th>\n      <td>17-Feb-2010</td>\n      <td>251.03</td>\n      <td>258.70</td>\n      <td>251.03</td>\n      <td>256.31</td>\n      <td>241.84</td>\n      <td>1,75,69,953</td>\n      <td>245.357067</td>\n      <td>250.423295</td>\n      <td>-5.066228</td>\n      <td>-5.000380</td>\n      <td>0.065847</td>\n      <td>NaN</td>\n    </tr>\n    <tr>\n      <th>35</th>\n      <td>16-Feb-2010</td>\n      <td>262.60</td>\n      <td>265.81</td>\n      <td>247.31</td>\n      <td>249.38</td>\n      <td>235.30</td>\n      <td>4,90,59,303</td>\n      <td>243.806035</td>\n      <td>249.228209</td>\n      <td>-5.422174</td>\n      <td>-5.092667</td>\n      <td>0.329508</td>\n      <td>NaN</td>\n    </tr>\n    <tr>\n      <th>36</th>\n      <td>15-Feb-2010</td>\n      <td>291.06</td>\n      <td>291.06</td>\n      <td>261.13</td>\n      <td>262.23</td>\n      <td>247.43</td>\n      <td>2,06,63,298</td>\n      <td>244.364723</td>\n      <td>249.086809</td>\n      <td>-4.722086</td>\n      <td>-5.013081</td>\n      <td>-0.290996</td>\n      <td>NaN</td>\n    </tr>\n    <tr>\n      <th>37</th>\n      <td>11-Feb-2010</td>\n      <td>289.68</td>\n      <td>291.89</td>\n      <td>285.32</td>\n      <td>288.77</td>\n      <td>272.47</td>\n      <td>36,73,279</td>\n      <td>248.696193</td>\n      <td>250.917170</td>\n      <td>-2.220978</td>\n      <td>-4.422175</td>\n      <td>-2.201198</td>\n      <td>NaN</td>\n    </tr>\n    <tr>\n      <th>...</th>\n      <td>...</td>\n      <td>...</td>\n      <td>...</td>\n      <td>...</td>\n      <td>...</td>\n      <td>...</td>\n      <td>...</td>\n      <td>...</td>\n      <td>...</td>\n      <td>...</td>\n      <td>...</td>\n      <td>...</td>\n      <td>...</td>\n    </tr>\n    <tr>\n      <th>2088</th>\n      <td>01-Apr-2020</td>\n      <td>440.00</td>\n      <td>440.00</td>\n      <td>412.40</td>\n      <td>421.35</td>\n      <td>421.35</td>\n      <td>94,69,123</td>\n      <td>472.981740</td>\n      <td>490.610426</td>\n      <td>-17.628686</td>\n      <td>-8.650115</td>\n      <td>8.978571</td>\n      <td>25.993528</td>\n    </tr>\n    <tr>\n      <th>2089</th>\n      <td>31-Mar-2020</td>\n      <td>441.00</td>\n      <td>447.00</td>\n      <td>424.00</td>\n      <td>440.90</td>\n      <td>440.90</td>\n      <td>1,67,45,069</td>\n      <td>468.046088</td>\n      <td>486.928172</td>\n      <td>-18.882084</td>\n      <td>-10.696509</td>\n      <td>8.185576</td>\n      <td>35.277679</td>\n    </tr>\n    <tr>\n      <th>2090</th>\n      <td>30-Mar-2020</td>\n      <td>443.85</td>\n      <td>449.30</td>\n      <td>428.00</td>\n      <td>431.05</td>\n      <td>431.05</td>\n      <td>1,00,22,553</td>\n      <td>462.354382</td>\n      <td>482.789049</td>\n      <td>-20.434666</td>\n      <td>-12.644140</td>\n      <td>7.790526</td>\n      <td>32.984369</td>\n    </tr>\n    <tr>\n      <th>2091</th>\n      <td>27-Mar-2020</td>\n      <td>470.70</td>\n      <td>474.80</td>\n      <td>437.50</td>\n      <td>448.95</td>\n      <td>448.95</td>\n      <td>1,60,76,572</td>\n      <td>460.292170</td>\n      <td>480.282452</td>\n      <td>-19.990283</td>\n      <td>-14.113369</td>\n      <td>5.876914</td>\n      <td>40.691445</td>\n    </tr>\n    <tr>\n      <th>2092</th>\n      <td>26-Mar-2020</td>\n      <td>426.50</td>\n      <td>493.45</td>\n      <td>420.25</td>\n      <td>470.70</td>\n      <td>470.70</td>\n      <td>2,18,91,559</td>\n      <td>461.893374</td>\n      <td>479.572641</td>\n      <td>-17.679267</td>\n      <td>-14.826548</td>\n      <td>2.852718</td>\n      <td>48.593349</td>\n    </tr>\n  </tbody>\n</table>\n<p>2052 rows × 13 columns</p>\n</div>"
     },
     "metadata": {},
     "execution_count": 20
    }
   ],
   "source": [
    "def rsi(df, n):\n",
    "    \"function to calculate RSI\"\n",
    "    df = df[df['Open']!='-']\n",
    "    df['High'] = df['High'].astype('float')\n",
    "    df['Low'] = df['Low'].astype('float')\n",
    "    df['Adj. close**'] = df['Adj. close**'].astype('float')\n",
    "    delta = df[\"Adj. close**\"].diff().dropna()\n",
    "    u = delta * 0\n",
    "    d = u.copy()\n",
    "    u[delta > 0] = delta[delta > 0]\n",
    "    d[delta < 0] = -delta[delta < 0]\n",
    "    u[u.index[n-1]] = np.mean( u[:n]) # first value is average of gains\n",
    "    u = u.drop(u.index[:(n-1)])\n",
    "    d[d.index[n-1]] = np.mean( d[:n]) # first value is average of losses\n",
    "    d = d.drop(d.index[:(n-1)])\n",
    "    rs = u.ewm(com=n,min_periods=n).mean()/d.ewm(com=n,min_periods=n).mean()\n",
    "    # RSI above 70 is overbought and below 30 is oversold\n",
    "    df['RSI'] = 100 - 100 / (1+rs)\n",
    "    return df\n",
    "rsi(df,10)"
   ]
  },
  {
   "cell_type": "code",
   "execution_count": 21,
   "metadata": {},
   "outputs": [],
   "source": [
    "def ATR(DF,n):\n",
    "    \"function to calculate True Range and Average True Range\"\n",
    "    df = DF.copy()\n",
    "    df = df[df['Open']!='-']\n",
    "    df['High'] = df['High'].astype('float')\n",
    "    df['Low'] = df['Low'].astype('float')\n",
    "    df['Adj. close**'] = df['Adj. close**'].astype('float')\n",
    "    df['H-L']=abs(df['High']-df['Low'])\n",
    "    df['H-PC']=abs(df['High']-df['Adj. close**'].shift(1))\n",
    "    df['L-PC']=abs(df['Low']-df['Adj. close**'].shift(1))\n",
    "    df['TR']=df[['H-L','H-PC','L-PC']].max(axis=1,skipna=False)\n",
    "    df['ATR'] = df['TR'].rolling(n).mean()\n",
    "    #df['ATR'] = df['TR'].ewm(span=n,adjust=False,min_periods=n).mean()\n",
    "    df2 = df.drop(['H-L','H-PC','L-PC'],axis=1)\n",
    "    return df2\n",
    "\n",
    "\n",
    "def BollBnd(DF,n):\n",
    "    \"function to calculate Bollinger Band\"\n",
    "    df = DF.copy()\n",
    "    df = df[df['Open']!='-']\n",
    "    df = df[df['Open']!='-']\n",
    "    df['Adj. close**'] = df['Adj. close**'].astype('float')\n",
    "    df[\"MA\"] = df['Adj. close**'].rolling(n).mean()\n",
    "    df[\"BB_up\"] = df[\"MA\"] + 2*df['Adj. close**'].rolling(n).std(ddof=0) \n",
    "    df[\"BB_dn\"] = df[\"MA\"] - 2*df['Adj. close**'].rolling(n).std(ddof=0)\n",
    "    df[\"BB_width\"] = df[\"BB_up\"] - df[\"BB_dn\"]\n",
    "    df.dropna(inplace=True)\n",
    "    return df"
   ]
  },
  {
   "cell_type": "code",
   "execution_count": 22,
   "metadata": {},
   "outputs": [],
   "source": [
    "def slope(DF,n=5):\n",
    "    \"function to calculate the slope of regression line for n consecutive points on a plot\"\n",
    "    df = DF.copy()\n",
    "    df = df[df['Open']!='-']\n",
    "    df['High'] = df['High'].astype('float')\n",
    "    df['Low'] = df['Low'].astype('float')\n",
    "    df['Adj. close**'] = df['Adj. close**'].astype('float')\n",
    "    ser = df[\"Adj. close**\"]\n",
    "    ser = (ser - ser.min())/(ser.max() - ser.min())\n",
    "    x = np.array(range(len(ser)))\n",
    "    x = (x - x.min())/(x.max() - x.min())\n",
    "    slopes = [i*0 for i in range(n-1)]\n",
    "    for i in range(n,len(ser)+1):\n",
    "        y_scaled = ser[i-n:i]\n",
    "        x_scaled = x[i-n:i]\n",
    "        x_scaled = sm.add_constant(x_scaled)\n",
    "        model = sm.OLS(y_scaled,x_scaled)\n",
    "        results = model.fit()\n",
    "        slopes.append(results.params[-1])\n",
    "    slope_angle = (np.rad2deg(np.arctan(np.array(slopes))))\n",
    "    df['slope'] = np.array(slope_angle)\n",
    "    return df"
   ]
  },
  {
   "cell_type": "code",
   "execution_count": 23,
   "metadata": {},
   "outputs": [
    {
     "output_type": "execute_result",
     "data": {
      "text/plain": "       Unnamed: 0    Open    High     Low  Close*  Adj. close**       Volume  \\\n33    18-Feb-2010  256.17  261.13  253.42  258.83        244.22    76,41,742   \n34    17-Feb-2010  251.03  258.70  251.03  256.31        241.84  1,75,69,953   \n35    16-Feb-2010  262.60  265.81  247.31  249.38        235.30  4,90,59,303   \n36    15-Feb-2010  291.06  291.06  261.13  262.23        247.43  2,06,63,298   \n37    11-Feb-2010  289.68  291.89  285.32  288.77        272.47    36,73,279   \n...           ...     ...     ...     ...     ...           ...          ...   \n2088  01-Apr-2020  440.00  440.00  412.40  421.35        421.35    94,69,123   \n2089  31-Mar-2020  441.00  447.00  424.00  440.90        440.90  1,67,45,069   \n2090  30-Mar-2020  443.85  449.30  428.00  431.05        431.05  1,00,22,553   \n2091  27-Mar-2020  470.70  474.80  437.50  448.95        448.95  1,60,76,572   \n2092  26-Mar-2020  426.50  493.45  420.25  470.70        470.70  2,18,91,559   \n\n         MA_Fast     MA_Slow       MACD     Signal  Signal-MACD      slope  \n33    245.998725  251.164068  -5.165344  -4.981367     0.183977   0.000000  \n34    245.357067  250.423295  -5.066228  -5.000380     0.065847   0.000000  \n35    243.806035  249.228209  -5.422174  -5.092667     0.329508   0.000000  \n36    244.364723  249.086809  -4.722086  -5.013081    -0.290996   0.000000  \n37    248.696193  250.917170  -2.220978  -4.422175    -2.201198  88.260739  \n...          ...         ...        ...        ...          ...        ...  \n2088  472.981740  490.610426 -17.628686  -8.650115     8.978571 -89.373436  \n2089  468.046088  486.928172 -18.882084 -10.696509     8.185576 -88.804557  \n2090  462.354382  482.789049 -20.434666 -12.644140     7.790526 -88.239773  \n2091  460.292170  480.282452 -19.990283 -14.113369     5.876914  88.191155  \n2092  461.893374  479.572641 -17.679267 -14.826548     2.852718  88.988172  \n\n[2052 rows x 13 columns]",
      "text/html": "<div>\n<style scoped>\n    .dataframe tbody tr th:only-of-type {\n        vertical-align: middle;\n    }\n\n    .dataframe tbody tr th {\n        vertical-align: top;\n    }\n\n    .dataframe thead th {\n        text-align: right;\n    }\n</style>\n<table border=\"1\" class=\"dataframe\">\n  <thead>\n    <tr style=\"text-align: right;\">\n      <th></th>\n      <th>Unnamed: 0</th>\n      <th>Open</th>\n      <th>High</th>\n      <th>Low</th>\n      <th>Close*</th>\n      <th>Adj. close**</th>\n      <th>Volume</th>\n      <th>MA_Fast</th>\n      <th>MA_Slow</th>\n      <th>MACD</th>\n      <th>Signal</th>\n      <th>Signal-MACD</th>\n      <th>slope</th>\n    </tr>\n  </thead>\n  <tbody>\n    <tr>\n      <th>33</th>\n      <td>18-Feb-2010</td>\n      <td>256.17</td>\n      <td>261.13</td>\n      <td>253.42</td>\n      <td>258.83</td>\n      <td>244.22</td>\n      <td>76,41,742</td>\n      <td>245.998725</td>\n      <td>251.164068</td>\n      <td>-5.165344</td>\n      <td>-4.981367</td>\n      <td>0.183977</td>\n      <td>0.000000</td>\n    </tr>\n    <tr>\n      <th>34</th>\n      <td>17-Feb-2010</td>\n      <td>251.03</td>\n      <td>258.70</td>\n      <td>251.03</td>\n      <td>256.31</td>\n      <td>241.84</td>\n      <td>1,75,69,953</td>\n      <td>245.357067</td>\n      <td>250.423295</td>\n      <td>-5.066228</td>\n      <td>-5.000380</td>\n      <td>0.065847</td>\n      <td>0.000000</td>\n    </tr>\n    <tr>\n      <th>35</th>\n      <td>16-Feb-2010</td>\n      <td>262.60</td>\n      <td>265.81</td>\n      <td>247.31</td>\n      <td>249.38</td>\n      <td>235.30</td>\n      <td>4,90,59,303</td>\n      <td>243.806035</td>\n      <td>249.228209</td>\n      <td>-5.422174</td>\n      <td>-5.092667</td>\n      <td>0.329508</td>\n      <td>0.000000</td>\n    </tr>\n    <tr>\n      <th>36</th>\n      <td>15-Feb-2010</td>\n      <td>291.06</td>\n      <td>291.06</td>\n      <td>261.13</td>\n      <td>262.23</td>\n      <td>247.43</td>\n      <td>2,06,63,298</td>\n      <td>244.364723</td>\n      <td>249.086809</td>\n      <td>-4.722086</td>\n      <td>-5.013081</td>\n      <td>-0.290996</td>\n      <td>0.000000</td>\n    </tr>\n    <tr>\n      <th>37</th>\n      <td>11-Feb-2010</td>\n      <td>289.68</td>\n      <td>291.89</td>\n      <td>285.32</td>\n      <td>288.77</td>\n      <td>272.47</td>\n      <td>36,73,279</td>\n      <td>248.696193</td>\n      <td>250.917170</td>\n      <td>-2.220978</td>\n      <td>-4.422175</td>\n      <td>-2.201198</td>\n      <td>88.260739</td>\n    </tr>\n    <tr>\n      <th>...</th>\n      <td>...</td>\n      <td>...</td>\n      <td>...</td>\n      <td>...</td>\n      <td>...</td>\n      <td>...</td>\n      <td>...</td>\n      <td>...</td>\n      <td>...</td>\n      <td>...</td>\n      <td>...</td>\n      <td>...</td>\n      <td>...</td>\n    </tr>\n    <tr>\n      <th>2088</th>\n      <td>01-Apr-2020</td>\n      <td>440.00</td>\n      <td>440.00</td>\n      <td>412.40</td>\n      <td>421.35</td>\n      <td>421.35</td>\n      <td>94,69,123</td>\n      <td>472.981740</td>\n      <td>490.610426</td>\n      <td>-17.628686</td>\n      <td>-8.650115</td>\n      <td>8.978571</td>\n      <td>-89.373436</td>\n    </tr>\n    <tr>\n      <th>2089</th>\n      <td>31-Mar-2020</td>\n      <td>441.00</td>\n      <td>447.00</td>\n      <td>424.00</td>\n      <td>440.90</td>\n      <td>440.90</td>\n      <td>1,67,45,069</td>\n      <td>468.046088</td>\n      <td>486.928172</td>\n      <td>-18.882084</td>\n      <td>-10.696509</td>\n      <td>8.185576</td>\n      <td>-88.804557</td>\n    </tr>\n    <tr>\n      <th>2090</th>\n      <td>30-Mar-2020</td>\n      <td>443.85</td>\n      <td>449.30</td>\n      <td>428.00</td>\n      <td>431.05</td>\n      <td>431.05</td>\n      <td>1,00,22,553</td>\n      <td>462.354382</td>\n      <td>482.789049</td>\n      <td>-20.434666</td>\n      <td>-12.644140</td>\n      <td>7.790526</td>\n      <td>-88.239773</td>\n    </tr>\n    <tr>\n      <th>2091</th>\n      <td>27-Mar-2020</td>\n      <td>470.70</td>\n      <td>474.80</td>\n      <td>437.50</td>\n      <td>448.95</td>\n      <td>448.95</td>\n      <td>1,60,76,572</td>\n      <td>460.292170</td>\n      <td>480.282452</td>\n      <td>-19.990283</td>\n      <td>-14.113369</td>\n      <td>5.876914</td>\n      <td>88.191155</td>\n    </tr>\n    <tr>\n      <th>2092</th>\n      <td>26-Mar-2020</td>\n      <td>426.50</td>\n      <td>493.45</td>\n      <td>420.25</td>\n      <td>470.70</td>\n      <td>470.70</td>\n      <td>2,18,91,559</td>\n      <td>461.893374</td>\n      <td>479.572641</td>\n      <td>-17.679267</td>\n      <td>-14.826548</td>\n      <td>2.852718</td>\n      <td>88.988172</td>\n    </tr>\n  </tbody>\n</table>\n<p>2052 rows × 13 columns</p>\n</div>"
     },
     "metadata": {},
     "execution_count": 23
    }
   ],
   "source": [
    "slope(df,n=5)"
   ]
  },
  {
   "cell_type": "code",
   "execution_count": 24,
   "metadata": {},
   "outputs": [],
   "source": [
    "def rsi(df, n):\n",
    "    \"function to calculate RSI\"\n",
    "    delta = df[\"Adj Close\"].diff().dropna()\n",
    "    u = delta * 0\n",
    "    d = u.copy()\n",
    "    u[delta > 0] = delta[delta > 0]\n",
    "    d[delta < 0] = -delta[delta < 0]\n",
    "    u[u.index[n-1]] = np.mean( u[:n]) # first value is average of gains\n",
    "    u = u.drop(u.index[:(n-1)])\n",
    "    d[d.index[n-1]] = np.mean( d[:n]) # first value is average of losses\n",
    "    d = d.drop(d.index[:(n-1)])\n",
    "    rs = u.ewm(com=n,min_periods=n).mean()/d.ewm(com=n,min_periods=n).mean()\n",
    "    return 100 - 100 / (1+rs)"
   ]
  },
  {
   "cell_type": "code",
   "execution_count": 25,
   "metadata": {},
   "outputs": [],
   "source": [
    "#df = BollBnd(ohlcv,20).iloc[-100:,[-4,-3,-2]].plot(title=\"Bollinger Band\")\n"
   ]
  },
  {
   "cell_type": "code",
   "execution_count": 30,
   "metadata": {},
   "outputs": [],
   "source": [
    "\n",
    "def renko_DF(DF):\n",
    "    \"function to convert ohlc data into renko bricks\"\n",
    "    df = DF.copy()\n",
    "    print(df.columns)\n",
    "    df.rename(columns = {\"Unnamed: 0\" : \"date\", \"Open\" : \"open\",\"High\" : \"high\",\"Low\" : \"low\",\"Close*\":\"act_close\",\"Adj. close**\" : \"close\", \"Volume\" : \"volume\"}, inplace = True)\n",
    "    df = df[['date','high','low','open','close','volume']]\n",
    "    df2 = Renko(df)\n",
    "    print(df.head())\n",
    "    df2.brick_size = round(ATR(DF,120)[\"ATR\"][-1],0)\n",
    "    renko_df = df2.get_ohlc_data() #if using older version of the library please use get_bricks() instead\n",
    "    return renko_df"
   ]
  },
  {
   "cell_type": "code",
   "execution_count": 63,
   "metadata": {
    "tags": []
   },
   "outputs": [],
   "source": [
    "#print(df.columns)\n",
    "df = pd.read_csv(file,encoding='latin-1')\n",
    "df = df[df['Open']!='-']\n",
    "df['High'] = df['High'].astype('float')\n",
    "df['Low'] = df['Low'].astype('float')\n",
    "df['Adj. close**'] = df['Adj. close**'].astype('float')\n",
    "df1 = df.copy()\n",
    "df.rename(columns = {\"Unnamed: 0\" : \"date\", \"Open\" : \"open\",\"High\" : \"high\",\"Low\" : \"low\",\"Close*\":\"act_close\",\"Adj. close**\" : \"close\", \"Volume\" : \"volume\"}, inplace = True)\n",
    "df = df[['date','high','low','open','close','volume']]"
   ]
  },
  {
   "cell_type": "code",
   "execution_count": 64,
   "metadata": {},
   "outputs": [],
   "source": [
    "df2 = Renko(df)"
   ]
  },
  {
   "cell_type": "code",
   "execution_count": 65,
   "metadata": {},
   "outputs": [
    {
     "output_type": "execute_result",
     "data": {
      "text/plain": "Index(['date', 'high', 'low', 'open', 'close', 'volume'], dtype='object')"
     },
     "metadata": {},
     "execution_count": 65
    }
   ],
   "source": [
    "df.columns"
   ]
  },
  {
   "cell_type": "code",
   "execution_count": 66,
   "metadata": {},
   "outputs": [],
   "source": [
    "#ATR(df1,120)[\"ATR\"]"
   ]
  },
  {
   "cell_type": "code",
   "execution_count": 72,
   "metadata": {},
   "outputs": [],
   "source": []
  },
  {
   "cell_type": "code",
   "execution_count": 73,
   "metadata": {},
   "outputs": [
    {
     "output_type": "execute_result",
     "data": {
      "text/plain": "2085"
     },
     "metadata": {},
     "execution_count": 73
    }
   ],
   "source": [
    "df2.brick_size"
   ]
  },
  {
   "cell_type": "code",
   "execution_count": 75,
   "metadata": {},
   "outputs": [
    {
     "output_type": "execute_result",
     "data": {
      "text/plain": "          date  open  high     low  close  uptrend\n0  09-Apr-2010 -2085   0.0 -2085.0    0.0     True",
      "text/html": "<div>\n<style scoped>\n    .dataframe tbody tr th:only-of-type {\n        vertical-align: middle;\n    }\n\n    .dataframe tbody tr th {\n        vertical-align: top;\n    }\n\n    .dataframe thead th {\n        text-align: right;\n    }\n</style>\n<table border=\"1\" class=\"dataframe\">\n  <thead>\n    <tr style=\"text-align: right;\">\n      <th></th>\n      <th>date</th>\n      <th>open</th>\n      <th>high</th>\n      <th>low</th>\n      <th>close</th>\n      <th>uptrend</th>\n    </tr>\n  </thead>\n  <tbody>\n    <tr>\n      <th>0</th>\n      <td>09-Apr-2010</td>\n      <td>-2085</td>\n      <td>0.0</td>\n      <td>-2085.0</td>\n      <td>0.0</td>\n      <td>True</td>\n    </tr>\n  </tbody>\n</table>\n</div>"
     },
     "metadata": {},
     "execution_count": 75
    }
   ],
   "source": [
    "df2 = Renko(df)\n",
    "#df2.brick_size = round(ATR(df1,120)[\"ATR\"],0)\n",
    "df2.brick_size = round(ATR(df1,120)[\"ATR\"].shape[-1],0)\n",
    "df2.get_ohlc_data()    "
   ]
  },
  {
   "cell_type": "code",
   "execution_count": 31,
   "metadata": {
    "tags": []
   },
   "outputs": [
    {
     "output_type": "stream",
     "name": "stdout",
     "text": "Index(['Unnamed: 0', 'Open', 'High', 'Low', 'Close*', 'Adj. close**', 'Volume',\n       'MA_Fast', 'MA_Slow', 'MACD', 'Signal', 'Signal-MACD'],\n      dtype='object')\n           date    high     low    open   close       volume\n33  18-Feb-2010  261.13  253.42  256.17  244.22    76,41,742\n34  17-Feb-2010  258.70  251.03  251.03  241.84  1,75,69,953\n35  16-Feb-2010  265.81  247.31  262.60  235.30  4,90,59,303\n36  15-Feb-2010  291.06  261.13  291.06  247.43  2,06,63,298\n37  11-Feb-2010  291.89  285.32  289.68  272.47    36,73,279\n"
    },
    {
     "output_type": "error",
     "ename": "KeyError",
     "evalue": "-1",
     "traceback": [
      "\u001b[1;31m---------------------------------------------------------------------------\u001b[0m",
      "\u001b[1;31mKeyError\u001b[0m                                  Traceback (most recent call last)",
      "\u001b[1;32m<ipython-input-31-5780e176cc96>\u001b[0m in \u001b[0;36m<module>\u001b[1;34m\u001b[0m\n\u001b[1;32m----> 1\u001b[1;33m \u001b[0mrenko_DF\u001b[0m\u001b[1;33m(\u001b[0m\u001b[0mdf\u001b[0m\u001b[1;33m)\u001b[0m\u001b[1;33m\u001b[0m\u001b[1;33m\u001b[0m\u001b[0m\n\u001b[0m",
      "\u001b[1;32m<ipython-input-30-ec1196ad0933>\u001b[0m in \u001b[0;36mrenko_DF\u001b[1;34m(DF)\u001b[0m\n\u001b[0;32m      7\u001b[0m     \u001b[0mdf2\u001b[0m \u001b[1;33m=\u001b[0m \u001b[0mRenko\u001b[0m\u001b[1;33m(\u001b[0m\u001b[0mdf\u001b[0m\u001b[1;33m)\u001b[0m\u001b[1;33m\u001b[0m\u001b[1;33m\u001b[0m\u001b[0m\n\u001b[0;32m      8\u001b[0m     \u001b[0mprint\u001b[0m\u001b[1;33m(\u001b[0m\u001b[0mdf\u001b[0m\u001b[1;33m.\u001b[0m\u001b[0mhead\u001b[0m\u001b[1;33m(\u001b[0m\u001b[1;33m)\u001b[0m\u001b[1;33m)\u001b[0m\u001b[1;33m\u001b[0m\u001b[1;33m\u001b[0m\u001b[0m\n\u001b[1;32m----> 9\u001b[1;33m     \u001b[0mdf2\u001b[0m\u001b[1;33m.\u001b[0m\u001b[0mbrick_size\u001b[0m \u001b[1;33m=\u001b[0m \u001b[0mround\u001b[0m\u001b[1;33m(\u001b[0m\u001b[0mATR\u001b[0m\u001b[1;33m(\u001b[0m\u001b[0mDF\u001b[0m\u001b[1;33m,\u001b[0m\u001b[1;36m120\u001b[0m\u001b[1;33m)\u001b[0m\u001b[1;33m[\u001b[0m\u001b[1;34m\"ATR\"\u001b[0m\u001b[1;33m]\u001b[0m\u001b[1;33m[\u001b[0m\u001b[1;33m-\u001b[0m\u001b[1;36m1\u001b[0m\u001b[1;33m]\u001b[0m\u001b[1;33m,\u001b[0m\u001b[1;36m0\u001b[0m\u001b[1;33m)\u001b[0m\u001b[1;33m\u001b[0m\u001b[1;33m\u001b[0m\u001b[0m\n\u001b[0m\u001b[0;32m     10\u001b[0m     \u001b[0mrenko_df\u001b[0m \u001b[1;33m=\u001b[0m \u001b[0mdf2\u001b[0m\u001b[1;33m.\u001b[0m\u001b[0mget_ohlc_data\u001b[0m\u001b[1;33m(\u001b[0m\u001b[1;33m)\u001b[0m \u001b[1;31m#if using older version of the library please use get_bricks() instead\u001b[0m\u001b[1;33m\u001b[0m\u001b[1;33m\u001b[0m\u001b[0m\n\u001b[0;32m     11\u001b[0m     \u001b[1;32mreturn\u001b[0m \u001b[0mrenko_df\u001b[0m\u001b[1;33m\u001b[0m\u001b[1;33m\u001b[0m\u001b[0m\n",
      "\u001b[1;32m~\\.conda\\envs\\conda3.7.2\\lib\\site-packages\\pandas\\core\\series.py\u001b[0m in \u001b[0;36m__getitem__\u001b[1;34m(self, key)\u001b[0m\n\u001b[0;32m    869\u001b[0m         \u001b[0mkey\u001b[0m \u001b[1;33m=\u001b[0m \u001b[0mcom\u001b[0m\u001b[1;33m.\u001b[0m\u001b[0mapply_if_callable\u001b[0m\u001b[1;33m(\u001b[0m\u001b[0mkey\u001b[0m\u001b[1;33m,\u001b[0m \u001b[0mself\u001b[0m\u001b[1;33m)\u001b[0m\u001b[1;33m\u001b[0m\u001b[1;33m\u001b[0m\u001b[0m\n\u001b[0;32m    870\u001b[0m         \u001b[1;32mtry\u001b[0m\u001b[1;33m:\u001b[0m\u001b[1;33m\u001b[0m\u001b[1;33m\u001b[0m\u001b[0m\n\u001b[1;32m--> 871\u001b[1;33m             \u001b[0mresult\u001b[0m \u001b[1;33m=\u001b[0m \u001b[0mself\u001b[0m\u001b[1;33m.\u001b[0m\u001b[0mindex\u001b[0m\u001b[1;33m.\u001b[0m\u001b[0mget_value\u001b[0m\u001b[1;33m(\u001b[0m\u001b[0mself\u001b[0m\u001b[1;33m,\u001b[0m \u001b[0mkey\u001b[0m\u001b[1;33m)\u001b[0m\u001b[1;33m\u001b[0m\u001b[1;33m\u001b[0m\u001b[0m\n\u001b[0m\u001b[0;32m    872\u001b[0m \u001b[1;33m\u001b[0m\u001b[0m\n\u001b[0;32m    873\u001b[0m             \u001b[1;32mif\u001b[0m \u001b[1;32mnot\u001b[0m \u001b[0mis_scalar\u001b[0m\u001b[1;33m(\u001b[0m\u001b[0mresult\u001b[0m\u001b[1;33m)\u001b[0m\u001b[1;33m:\u001b[0m\u001b[1;33m\u001b[0m\u001b[1;33m\u001b[0m\u001b[0m\n",
      "\u001b[1;32m~\\.conda\\envs\\conda3.7.2\\lib\\site-packages\\pandas\\core\\indexes\\base.py\u001b[0m in \u001b[0;36mget_value\u001b[1;34m(self, series, key)\u001b[0m\n\u001b[0;32m   4403\u001b[0m         \u001b[0mk\u001b[0m \u001b[1;33m=\u001b[0m \u001b[0mself\u001b[0m\u001b[1;33m.\u001b[0m\u001b[0m_convert_scalar_indexer\u001b[0m\u001b[1;33m(\u001b[0m\u001b[0mk\u001b[0m\u001b[1;33m,\u001b[0m \u001b[0mkind\u001b[0m\u001b[1;33m=\u001b[0m\u001b[1;34m\"getitem\"\u001b[0m\u001b[1;33m)\u001b[0m\u001b[1;33m\u001b[0m\u001b[1;33m\u001b[0m\u001b[0m\n\u001b[0;32m   4404\u001b[0m         \u001b[1;32mtry\u001b[0m\u001b[1;33m:\u001b[0m\u001b[1;33m\u001b[0m\u001b[1;33m\u001b[0m\u001b[0m\n\u001b[1;32m-> 4405\u001b[1;33m             \u001b[1;32mreturn\u001b[0m \u001b[0mself\u001b[0m\u001b[1;33m.\u001b[0m\u001b[0m_engine\u001b[0m\u001b[1;33m.\u001b[0m\u001b[0mget_value\u001b[0m\u001b[1;33m(\u001b[0m\u001b[0ms\u001b[0m\u001b[1;33m,\u001b[0m \u001b[0mk\u001b[0m\u001b[1;33m,\u001b[0m \u001b[0mtz\u001b[0m\u001b[1;33m=\u001b[0m\u001b[0mgetattr\u001b[0m\u001b[1;33m(\u001b[0m\u001b[0mseries\u001b[0m\u001b[1;33m.\u001b[0m\u001b[0mdtype\u001b[0m\u001b[1;33m,\u001b[0m \u001b[1;34m\"tz\"\u001b[0m\u001b[1;33m,\u001b[0m \u001b[1;32mNone\u001b[0m\u001b[1;33m)\u001b[0m\u001b[1;33m)\u001b[0m\u001b[1;33m\u001b[0m\u001b[1;33m\u001b[0m\u001b[0m\n\u001b[0m\u001b[0;32m   4406\u001b[0m         \u001b[1;32mexcept\u001b[0m \u001b[0mKeyError\u001b[0m \u001b[1;32mas\u001b[0m \u001b[0me1\u001b[0m\u001b[1;33m:\u001b[0m\u001b[1;33m\u001b[0m\u001b[1;33m\u001b[0m\u001b[0m\n\u001b[0;32m   4407\u001b[0m             \u001b[1;32mif\u001b[0m \u001b[0mlen\u001b[0m\u001b[1;33m(\u001b[0m\u001b[0mself\u001b[0m\u001b[1;33m)\u001b[0m \u001b[1;33m>\u001b[0m \u001b[1;36m0\u001b[0m \u001b[1;32mand\u001b[0m \u001b[1;33m(\u001b[0m\u001b[0mself\u001b[0m\u001b[1;33m.\u001b[0m\u001b[0mholds_integer\u001b[0m\u001b[1;33m(\u001b[0m\u001b[1;33m)\u001b[0m \u001b[1;32mor\u001b[0m \u001b[0mself\u001b[0m\u001b[1;33m.\u001b[0m\u001b[0mis_boolean\u001b[0m\u001b[1;33m(\u001b[0m\u001b[1;33m)\u001b[0m\u001b[1;33m)\u001b[0m\u001b[1;33m:\u001b[0m\u001b[1;33m\u001b[0m\u001b[1;33m\u001b[0m\u001b[0m\n",
      "\u001b[1;32mpandas\\_libs\\index.pyx\u001b[0m in \u001b[0;36mpandas._libs.index.IndexEngine.get_value\u001b[1;34m()\u001b[0m\n",
      "\u001b[1;32mpandas\\_libs\\index.pyx\u001b[0m in \u001b[0;36mpandas._libs.index.IndexEngine.get_value\u001b[1;34m()\u001b[0m\n",
      "\u001b[1;32mpandas\\_libs\\index.pyx\u001b[0m in \u001b[0;36mpandas._libs.index.IndexEngine.get_loc\u001b[1;34m()\u001b[0m\n",
      "\u001b[1;32mpandas\\_libs\\hashtable_class_helper.pxi\u001b[0m in \u001b[0;36mpandas._libs.hashtable.Int64HashTable.get_item\u001b[1;34m()\u001b[0m\n",
      "\u001b[1;32mpandas\\_libs\\hashtable_class_helper.pxi\u001b[0m in \u001b[0;36mpandas._libs.hashtable.Int64HashTable.get_item\u001b[1;34m()\u001b[0m\n",
      "\u001b[1;31mKeyError\u001b[0m: -1"
     ]
    }
   ],
   "source": [
    "renko_DF(df)"
   ]
  },
  {
   "cell_type": "code",
   "execution_count": null,
   "metadata": {},
   "outputs": [],
   "source": []
  },
  {
   "cell_type": "code",
   "execution_count": 29,
   "metadata": {},
   "outputs": [
    {
     "output_type": "error",
     "ename": "IndexingError",
     "evalue": "Too many indexers",
     "traceback": [
      "\u001b[1;31m---------------------------------------------------------------------------\u001b[0m",
      "\u001b[1;31mIndexingError\u001b[0m                             Traceback (most recent call last)",
      "\u001b[1;32m<ipython-input-29-2cb625601a83>\u001b[0m in \u001b[0;36m<module>\u001b[1;34m\u001b[0m\n\u001b[0;32m      1\u001b[0m \u001b[0mplt\u001b[0m\u001b[1;33m.\u001b[0m\u001b[0msubplot\u001b[0m\u001b[1;33m(\u001b[0m\u001b[1;36m311\u001b[0m\u001b[1;33m)\u001b[0m\u001b[1;33m\u001b[0m\u001b[1;33m\u001b[0m\u001b[0m\n\u001b[1;32m----> 2\u001b[1;33m \u001b[0mplt\u001b[0m\u001b[1;33m.\u001b[0m\u001b[0mplot\u001b[0m\u001b[1;33m(\u001b[0m\u001b[0mdf\u001b[0m\u001b[1;33m.\u001b[0m\u001b[0miloc\u001b[0m\u001b[1;33m[\u001b[0m\u001b[1;33m-\u001b[0m\u001b[1;36m100\u001b[0m\u001b[1;33m:\u001b[0m\u001b[1;33m,\u001b[0m\u001b[1;36m4\u001b[0m\u001b[1;33m]\u001b[0m\u001b[1;33m)\u001b[0m\u001b[1;33m\u001b[0m\u001b[1;33m\u001b[0m\u001b[0m\n\u001b[0m\u001b[0;32m      3\u001b[0m \u001b[0mplt\u001b[0m\u001b[1;33m.\u001b[0m\u001b[0mtitle\u001b[0m\u001b[1;33m(\u001b[0m\u001b[1;34m'MSFT Stock Price'\u001b[0m\u001b[1;33m)\u001b[0m\u001b[1;33m\u001b[0m\u001b[1;33m\u001b[0m\u001b[0m\n\u001b[0;32m      4\u001b[0m \u001b[0mplt\u001b[0m\u001b[1;33m.\u001b[0m\u001b[0mxticks\u001b[0m\u001b[1;33m(\u001b[0m\u001b[1;33m[\u001b[0m\u001b[1;33m]\u001b[0m\u001b[1;33m)\u001b[0m\u001b[1;33m\u001b[0m\u001b[1;33m\u001b[0m\u001b[0m\n\u001b[0;32m      5\u001b[0m \u001b[1;33m\u001b[0m\u001b[0m\n",
      "\u001b[1;32m~\\.conda\\envs\\conda3.7.2\\lib\\site-packages\\pandas\\core\\indexing.py\u001b[0m in \u001b[0;36m__getitem__\u001b[1;34m(self, key)\u001b[0m\n\u001b[0;32m   1759\u001b[0m                 \u001b[1;32mexcept\u001b[0m \u001b[1;33m(\u001b[0m\u001b[0mKeyError\u001b[0m\u001b[1;33m,\u001b[0m \u001b[0mIndexError\u001b[0m\u001b[1;33m,\u001b[0m \u001b[0mAttributeError\u001b[0m\u001b[1;33m)\u001b[0m\u001b[1;33m:\u001b[0m\u001b[1;33m\u001b[0m\u001b[1;33m\u001b[0m\u001b[0m\n\u001b[0;32m   1760\u001b[0m                     \u001b[1;32mpass\u001b[0m\u001b[1;33m\u001b[0m\u001b[1;33m\u001b[0m\u001b[0m\n\u001b[1;32m-> 1761\u001b[1;33m             \u001b[1;32mreturn\u001b[0m \u001b[0mself\u001b[0m\u001b[1;33m.\u001b[0m\u001b[0m_getitem_tuple\u001b[0m\u001b[1;33m(\u001b[0m\u001b[0mkey\u001b[0m\u001b[1;33m)\u001b[0m\u001b[1;33m\u001b[0m\u001b[1;33m\u001b[0m\u001b[0m\n\u001b[0m\u001b[0;32m   1762\u001b[0m         \u001b[1;32melse\u001b[0m\u001b[1;33m:\u001b[0m\u001b[1;33m\u001b[0m\u001b[1;33m\u001b[0m\u001b[0m\n\u001b[0;32m   1763\u001b[0m             \u001b[1;31m# we by definition only have the 0th axis\u001b[0m\u001b[1;33m\u001b[0m\u001b[1;33m\u001b[0m\u001b[1;33m\u001b[0m\u001b[0m\n",
      "\u001b[1;32m~\\.conda\\envs\\conda3.7.2\\lib\\site-packages\\pandas\\core\\indexing.py\u001b[0m in \u001b[0;36m_getitem_tuple\u001b[1;34m(self, tup)\u001b[0m\n\u001b[0;32m   2064\u001b[0m     \u001b[1;32mdef\u001b[0m \u001b[0m_getitem_tuple\u001b[0m\u001b[1;33m(\u001b[0m\u001b[0mself\u001b[0m\u001b[1;33m,\u001b[0m \u001b[0mtup\u001b[0m\u001b[1;33m:\u001b[0m \u001b[0mTuple\u001b[0m\u001b[1;33m)\u001b[0m\u001b[1;33m:\u001b[0m\u001b[1;33m\u001b[0m\u001b[1;33m\u001b[0m\u001b[0m\n\u001b[0;32m   2065\u001b[0m \u001b[1;33m\u001b[0m\u001b[0m\n\u001b[1;32m-> 2066\u001b[1;33m         \u001b[0mself\u001b[0m\u001b[1;33m.\u001b[0m\u001b[0m_has_valid_tuple\u001b[0m\u001b[1;33m(\u001b[0m\u001b[0mtup\u001b[0m\u001b[1;33m)\u001b[0m\u001b[1;33m\u001b[0m\u001b[1;33m\u001b[0m\u001b[0m\n\u001b[0m\u001b[0;32m   2067\u001b[0m         \u001b[1;32mtry\u001b[0m\u001b[1;33m:\u001b[0m\u001b[1;33m\u001b[0m\u001b[1;33m\u001b[0m\u001b[0m\n\u001b[0;32m   2068\u001b[0m             \u001b[1;32mreturn\u001b[0m \u001b[0mself\u001b[0m\u001b[1;33m.\u001b[0m\u001b[0m_getitem_lowerdim\u001b[0m\u001b[1;33m(\u001b[0m\u001b[0mtup\u001b[0m\u001b[1;33m)\u001b[0m\u001b[1;33m\u001b[0m\u001b[1;33m\u001b[0m\u001b[0m\n",
      "\u001b[1;32m~\\.conda\\envs\\conda3.7.2\\lib\\site-packages\\pandas\\core\\indexing.py\u001b[0m in \u001b[0;36m_has_valid_tuple\u001b[1;34m(self, key)\u001b[0m\n\u001b[0;32m    698\u001b[0m         \u001b[1;32mfor\u001b[0m \u001b[0mi\u001b[0m\u001b[1;33m,\u001b[0m \u001b[0mk\u001b[0m \u001b[1;32min\u001b[0m \u001b[0menumerate\u001b[0m\u001b[1;33m(\u001b[0m\u001b[0mkey\u001b[0m\u001b[1;33m)\u001b[0m\u001b[1;33m:\u001b[0m\u001b[1;33m\u001b[0m\u001b[1;33m\u001b[0m\u001b[0m\n\u001b[0;32m    699\u001b[0m             \u001b[1;32mif\u001b[0m \u001b[0mi\u001b[0m \u001b[1;33m>=\u001b[0m \u001b[0mself\u001b[0m\u001b[1;33m.\u001b[0m\u001b[0mndim\u001b[0m\u001b[1;33m:\u001b[0m\u001b[1;33m\u001b[0m\u001b[1;33m\u001b[0m\u001b[0m\n\u001b[1;32m--> 700\u001b[1;33m                 \u001b[1;32mraise\u001b[0m \u001b[0mIndexingError\u001b[0m\u001b[1;33m(\u001b[0m\u001b[1;34m\"Too many indexers\"\u001b[0m\u001b[1;33m)\u001b[0m\u001b[1;33m\u001b[0m\u001b[1;33m\u001b[0m\u001b[0m\n\u001b[0m\u001b[0;32m    701\u001b[0m             \u001b[1;32mtry\u001b[0m\u001b[1;33m:\u001b[0m\u001b[1;33m\u001b[0m\u001b[1;33m\u001b[0m\u001b[0m\n\u001b[0;32m    702\u001b[0m                 \u001b[0mself\u001b[0m\u001b[1;33m.\u001b[0m\u001b[0m_validate_key\u001b[0m\u001b[1;33m(\u001b[0m\u001b[0mk\u001b[0m\u001b[1;33m,\u001b[0m \u001b[0mi\u001b[0m\u001b[1;33m)\u001b[0m\u001b[1;33m\u001b[0m\u001b[1;33m\u001b[0m\u001b[0m\n",
      "\u001b[1;31mIndexingError\u001b[0m: Too many indexers"
     ]
    }
   ],
   "source": [
    "plt.subplot(311)\n",
    "plt.plot(df.iloc[-100:,4])\n",
    "plt.title('MSFT Stock Price')\n",
    "plt.xticks([])\n",
    "\n",
    "plt.subplot(312)\n",
    "plt.bar(df.iloc[-100:,5].index, df.iloc[-100:,5].values)\n",
    "plt.title('Volume')\n",
    "plt.xticks([])\n",
    "\n",
    "plt.subplot(313)\n",
    "plt.plot(df.iloc[-100:,[-2,-1]])\n",
    "plt.title('MACD')\n",
    "plt.legend(('MACD','Signal'),loc='lower right')\n",
    "\n",
    "plt.show()\n",
    "\n",
    "\n",
    "# Visualization - Using object orient approach\n",
    "# Get the figure and the axes\n",
    "fig, (ax0, ax1) = plt.subplots(nrows=2,ncols=1, sharex=True, sharey=False, figsize=(10, 6), gridspec_kw = {'height_ratios':[2.5, 1]})\n",
    "df.iloc[-100:,4].plot(ax=ax0)\n",
    "ax0.set(ylabel='Adj Close')\n",
    "\n",
    "df.iloc[-100:,[-2,-1]].plot(ax=ax1)\n",
    "ax1.set(xlabel='Date', ylabel='MACD/Signal')\n",
    "\n",
    "# Title the figure\n",
    "fig.suptitle('Stock Price with MACD', fontsize=14, fontweight='bold')\n"
   ]
  },
  {
   "cell_type": "code",
   "execution_count": null,
   "metadata": {},
   "outputs": [],
   "source": []
  }
 ],
 "metadata": {
  "language_info": {
   "codemirror_mode": {
    "name": "ipython",
    "version": 3
   },
   "file_extension": ".py",
   "mimetype": "text/x-python",
   "name": "python",
   "nbconvert_exporter": "python",
   "pygments_lexer": "ipython3",
   "version": "3.7.2-final"
  },
  "orig_nbformat": 2,
  "kernelspec": {
   "name": "Python 3.7.2 64-bit ('conda3.7.2': conda)",
   "display_name": "Python 3.7.2 64-bit ('conda3.7.2': conda)",
   "metadata": {
    "interpreter": {
     "hash": "615c0923caeaea9162803b05ef27cd7afd6910eddd0d7bdda9ac8f8bd593535f"
    }
   }
  }
 },
 "nbformat": 4,
 "nbformat_minor": 2
}