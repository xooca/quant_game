{
 "cells": [
  {
   "cell_type": "code",
   "execution_count": 1,
   "metadata": {
    "tags": []
   },
   "outputs": [],
   "source": [
    "from extract_data import yahoo_finance\n",
    "import pandas as pd\n",
    "from datetime import datetime\n",
    "import time\n",
    "from random import randrange\n"
   ]
  },
  {
   "cell_type": "code",
   "execution_count": 2,
   "metadata": {
    "tags": []
   },
   "outputs": [],
   "source": [
    "ticker = 'M&M.NS'\n",
    "yf = yahoo_finance(ticker=ticker,save_path='./')\n",
    "yf.get_insider_roster()"
   ]
  },
  {
   "cell_type": "code",
   "execution_count": 7,
   "metadata": {},
   "outputs": [
    {
     "output_type": "execute_result",
     "data": {
      "text/plain": "'https://in.finance.yahoo.com/quote/M&M.NS/insider-roster?p=M&M.NS'"
     },
     "metadata": {},
     "execution_count": 7
    }
   ],
   "source": [
    "yf.insider_roster_url"
   ]
  },
  {
   "cell_type": "code",
   "execution_count": 3,
   "metadata": {},
   "outputs": [
    {
     "output_type": "execute_result",
     "data": {
      "text/plain": "'https://in.finance.yahoo.com/quote/M&M.NS/insider-transactions?p=M&M.NS'"
     },
     "metadata": {},
     "execution_count": 3
    }
   ],
   "source": [
    "yf.insider_trans_url"
   ]
  },
  {
   "cell_type": "code",
   "execution_count": 3,
   "metadata": {},
   "outputs": [],
   "source": [
    "nifty50 = pd.read_csv('ind_nifty50list.csv')\n",
    "nifty50['yahoo_symbols']=nifty50['Symbol'].apply(lambda x:x+'.NS')\n",
    "nifty50_cols = nifty50['yahoo_symbols'].tolist()\n",
    "#nifty50_cols"
   ]
  },
  {
   "cell_type": "code",
   "execution_count": 4,
   "metadata": {},
   "outputs": [
    {
     "output_type": "execute_result",
     "data": {
      "text/plain": "['M&M.NS',\n 'MARUTI.NS',\n 'NTPC.NS',\n 'NESTLEIND.NS',\n 'ONGC.NS',\n 'POWERGRID.NS',\n 'RELIANCE.NS',\n 'SHREECEM.NS',\n 'SBIN.NS',\n 'SUNPHARMA.NS',\n 'TCS.NS',\n 'TATAMOTORS.NS',\n 'TATASTEEL.NS',\n 'TECHM.NS',\n 'TITAN.NS',\n 'UPL.NS',\n 'ULTRACEMCO.NS',\n 'VEDL.NS',\n 'WIPRO.NS',\n 'ZEEL.NS']"
     },
     "metadata": {},
     "execution_count": 4
    }
   ],
   "source": [
    "nifty50_cols[30:]"
   ]
  },
  {
   "cell_type": "code",
   "execution_count": 5,
   "metadata": {
    "tags": []
   },
   "outputs": [
    {
     "output_type": "stream",
     "name": "stdout",
     "text": "M&M.NS\nMARUTI.NS\nNTPC.NS\nNESTLEIND.NS\nONGC.NS\nPOWERGRID.NS\nRELIANCE.NS\nSHREECEM.NS\nSBIN.NS\nSUNPHARMA.NS\nTCS.NS\nTATAMOTORS.NS\nTATASTEEL.NS\nTECHM.NS\nTITAN.NS\nUPL.NS\nULTRACEMCO.NS\nVEDL.NS\nWIPRO.NS\nZEEL.NS\n"
    }
   ],
   "source": [
    "for ticker in nifty50_cols[30:]:\n",
    "    print(ticker)\n",
    "    time.sleep(randrange(1,20))\n",
    "    yf = yahoo_finance(ticker=ticker,save_path='./')\n",
    "    yf.run_stock_metadata()"
   ]
  },
  {
   "cell_type": "code",
   "execution_count": null,
   "metadata": {},
   "outputs": [],
   "source": [
    "#for ticker in nifty50_cols[:10]:\n",
    "#    time.sleep(randrange(1,20))\n",
    "#    yf = yahoo_finance(ticker=ticker,save_path='./')\n",
    "#    yf.get_historical_bydays(start_date='2010-01-01',end_date='2020-06-19',frequency='1d')"
   ]
  },
  {
   "cell_type": "code",
   "execution_count": 8,
   "metadata": {},
   "outputs": [
    {
     "output_type": "error",
     "ename": "IndexError",
     "evalue": "list index out of range",
     "traceback": [
      "\u001b[1;31m---------------------------------------------------------------------------\u001b[0m",
      "\u001b[1;31mIndexError\u001b[0m                                Traceback (most recent call last)",
      "\u001b[1;32m<ipython-input-8-dea3d2d6a700>\u001b[0m in \u001b[0;36m<module>\u001b[1;34m\u001b[0m\n\u001b[0;32m      1\u001b[0m \u001b[0mticker\u001b[0m \u001b[1;33m=\u001b[0m \u001b[1;34m'TCS.NS'\u001b[0m\u001b[1;33m\u001b[0m\u001b[1;33m\u001b[0m\u001b[0m\n\u001b[0;32m      2\u001b[0m \u001b[0myf\u001b[0m \u001b[1;33m=\u001b[0m \u001b[0myahoo_finance\u001b[0m\u001b[1;33m(\u001b[0m\u001b[0mticker\u001b[0m\u001b[1;33m=\u001b[0m\u001b[0mticker\u001b[0m\u001b[1;33m,\u001b[0m\u001b[0msave_path\u001b[0m\u001b[1;33m=\u001b[0m\u001b[1;34m'./'\u001b[0m\u001b[1;33m)\u001b[0m\u001b[1;33m\u001b[0m\u001b[1;33m\u001b[0m\u001b[0m\n\u001b[1;32m----> 3\u001b[1;33m \u001b[0myf\u001b[0m\u001b[1;33m.\u001b[0m\u001b[0mget_summary\u001b[0m\u001b[1;33m(\u001b[0m\u001b[1;33m)\u001b[0m\u001b[1;33m\u001b[0m\u001b[1;33m\u001b[0m\u001b[0m\n\u001b[0m",
      "\u001b[1;32mc:\\Users\\8prab\\Google Drive\\Work\\xooca-git\\trading_related\\extract_data.py\u001b[0m in \u001b[0;36mget_summary\u001b[1;34m(self)\u001b[0m\n\u001b[0;32m    299\u001b[0m                     \u001b[0mtemp_dir\u001b[0m\u001b[1;33m[\u001b[0m\u001b[0mval\u001b[0m\u001b[1;33m[\u001b[0m\u001b[1;36m0\u001b[0m\u001b[1;33m]\u001b[0m\u001b[1;33m]\u001b[0m\u001b[1;33m=\u001b[0m\u001b[1;33m[\u001b[0m\u001b[0mval\u001b[0m\u001b[1;33m[\u001b[0m\u001b[1;36m1\u001b[0m\u001b[1;33m]\u001b[0m\u001b[1;33m]\u001b[0m\u001b[1;33m\u001b[0m\u001b[1;33m\u001b[0m\u001b[0m\n\u001b[0;32m    300\u001b[0m                 \u001b[1;32mif\u001b[0m \u001b[0mval\u001b[0m\u001b[1;33m[\u001b[0m\u001b[1;36m0\u001b[0m\u001b[1;33m]\u001b[0m\u001b[1;33m==\u001b[0m\u001b[1;34m'Earnings date'\u001b[0m\u001b[1;33m:\u001b[0m\u001b[1;33m\u001b[0m\u001b[1;33m\u001b[0m\u001b[0m\n\u001b[1;32m--> 301\u001b[1;33m                     \u001b[0mtemp_dir\u001b[0m\u001b[1;33m[\u001b[0m\u001b[0mval\u001b[0m\u001b[1;33m[\u001b[0m\u001b[1;36m0\u001b[0m\u001b[1;33m]\u001b[0m\u001b[1;33m]\u001b[0m\u001b[1;33m=\u001b[0m\u001b[1;33m[\u001b[0m\u001b[0mval\u001b[0m\u001b[1;33m[\u001b[0m\u001b[1;36m1\u001b[0m\u001b[1;33m]\u001b[0m\u001b[1;33m+\u001b[0m\u001b[0mval\u001b[0m\u001b[1;33m[\u001b[0m\u001b[1;36m2\u001b[0m\u001b[1;33m]\u001b[0m\u001b[1;33m+\u001b[0m\u001b[0mval\u001b[0m\u001b[1;33m[\u001b[0m\u001b[1;36m3\u001b[0m\u001b[1;33m]\u001b[0m\u001b[1;33m]\u001b[0m\u001b[1;33m\u001b[0m\u001b[1;33m\u001b[0m\u001b[0m\n\u001b[0m\u001b[0;32m    302\u001b[0m         \u001b[0mself\u001b[0m\u001b[1;33m.\u001b[0m\u001b[0msummary\u001b[0m \u001b[1;33m=\u001b[0m \u001b[0mpd\u001b[0m\u001b[1;33m.\u001b[0m\u001b[0mDataFrame\u001b[0m\u001b[1;33m(\u001b[0m\u001b[0mtemp_dir\u001b[0m\u001b[1;33m)\u001b[0m\u001b[1;33m.\u001b[0m\u001b[0mT\u001b[0m\u001b[1;33m\u001b[0m\u001b[1;33m\u001b[0m\u001b[0m\n\u001b[0;32m    303\u001b[0m         \u001b[0mself\u001b[0m\u001b[1;33m.\u001b[0m\u001b[0msummary\u001b[0m\u001b[1;33m.\u001b[0m\u001b[0mcolumns\u001b[0m \u001b[1;33m=\u001b[0m\u001b[1;33m[\u001b[0m\u001b[1;34m'data'\u001b[0m\u001b[1;33m]\u001b[0m\u001b[1;33m\u001b[0m\u001b[1;33m\u001b[0m\u001b[0m\n",
      "\u001b[1;31mIndexError\u001b[0m: list index out of range"
     ]
    }
   ],
   "source": []
  },
  {
   "cell_type": "code",
   "execution_count": 7,
   "metadata": {},
   "outputs": [
    {
     "output_type": "execute_result",
     "data": {
      "text/plain": "'https://in.finance.yahoo.com/quote/TATASTEEL.NS?p=TATASTEEL.NS'"
     },
     "metadata": {},
     "execution_count": 7
    }
   ],
   "source": [
    "yf.summary_url"
   ]
  },
  {
   "cell_type": "code",
   "execution_count": 3,
   "metadata": {
    "tags": []
   },
   "outputs": [
    {
     "output_type": "stream",
     "name": "stdout",
     "text": "https://in.finance.yahoo.com/quote/TCS.NS/history?period1=1514745000&period2=1523385000                &interval=1d&filter=history&frequency=1d\n2018-04-11 2018-07-20 2020-06-01 1 (67, 6) (1, 3)\nhttps://in.finance.yahoo.com/quote/TCS.NS/history?period1=1523385000&period2=1532025000                &interval=1d&filter=history&frequency=1d\n2018-07-20 2018-10-28 2020-06-01 2 (71, 6) (2, 3)\nhttps://in.finance.yahoo.com/quote/TCS.NS/history?period1=1532025000&period2=1540665000                &interval=1d&filter=history&frequency=1d\n2018-10-28 2019-02-05 2020-06-01 3 (65, 6) (1, 3)\nhttps://in.finance.yahoo.com/quote/TCS.NS/history?period1=1540665000&period2=1549305000                &interval=1d&filter=history&frequency=1d\n2019-02-05 2019-05-16 2020-06-01 4 (68, 6) (1, 3)\nhttps://in.finance.yahoo.com/quote/TCS.NS/history?period1=1549305000&period2=1557945000                &interval=1d&filter=history&frequency=1d\n2019-05-16 2019-08-24 2020-06-01 5 (64, 6) (0, 0)\nhttps://in.finance.yahoo.com/quote/TCS.NS/history?period1=1557945000&period2=1566585000                &interval=1d&filter=history&frequency=1d\n2019-08-24 2019-12-02 2020-06-01 6 (69, 6) (2, 3)\nhttps://in.finance.yahoo.com/quote/TCS.NS/history?period1=1566585000&period2=1575225000                &interval=1d&filter=history&frequency=1d\n2019-12-02 2020-03-11 2020-06-01 7 (64, 6) (1, 3)\nhttps://in.finance.yahoo.com/quote/TCS.NS/history?period1=1575225000&period2=1583865000                &interval=1d&filter=history&frequency=1d\n2020-03-11 2020-06-19 2020-06-01 8 (69, 6) (1, 3)\nhttps://in.finance.yahoo.com/quote/TCS.NS/history?period1=1583865000&period2=1592505000                &interval=1d&filter=history&frequency=1d\n"
    }
   ],
   "source": [
    "yf.get_historical_bydays(start_date='2014-01-01',end_date='2020-06-19',frequency='1d')"
   ]
  },
  {
   "cell_type": "code",
   "execution_count": 4,
   "metadata": {},
   "outputs": [
    {
     "output_type": "execute_result",
     "data": {
      "text/plain": "                 Open      High       Low    Close* Adj. close**     Volume\n10-Apr-2018  1,462.85  1,478.62  1,462.85  1,468.80     1,387.20  11,84,532\n09-Apr-2018  1,469.85  1,481.75  1,457.50  1,461.95     1,380.73  12,35,866\n06-Apr-2018  1,477.00  1,480.00  1,463.28  1,475.15     1,393.19  11,29,018\n05-Apr-2018  1,463.28  1,481.88  1,460.18  1,478.97     1,396.80  18,09,424\n04-Apr-2018  1,464.72  1,467.00  1,446.00  1,455.45     1,374.59  28,41,820\n...               ...       ...       ...       ...          ...        ...\n17-Mar-2020  1,730.00  1,731.00  1,623.15  1,658.00     1,641.15  57,13,248\n16-Mar-2020  1,755.00  1,842.25  1,675.85  1,696.40     1,679.16  78,44,271\n13-Mar-2020  1,687.90  1,820.00  1,506.05  1,806.30     1,787.94  80,29,720\n12-Mar-2020  1,904.00  1,908.40  1,758.35  1,769.85     1,751.86  87,28,786\n11-Mar-2020  1,933.00  1,987.30  1,920.00  1,953.70     1,933.84  67,96,449\n\n[603 rows x 6 columns]",
      "text/html": "<div>\n<style scoped>\n    .dataframe tbody tr th:only-of-type {\n        vertical-align: middle;\n    }\n\n    .dataframe tbody tr th {\n        vertical-align: top;\n    }\n\n    .dataframe thead th {\n        text-align: right;\n    }\n</style>\n<table border=\"1\" class=\"dataframe\">\n  <thead>\n    <tr style=\"text-align: right;\">\n      <th></th>\n      <th>Open</th>\n      <th>High</th>\n      <th>Low</th>\n      <th>Close*</th>\n      <th>Adj. close**</th>\n      <th>Volume</th>\n    </tr>\n  </thead>\n  <tbody>\n    <tr>\n      <th>10-Apr-2018</th>\n      <td>1,462.85</td>\n      <td>1,478.62</td>\n      <td>1,462.85</td>\n      <td>1,468.80</td>\n      <td>1,387.20</td>\n      <td>11,84,532</td>\n    </tr>\n    <tr>\n      <th>09-Apr-2018</th>\n      <td>1,469.85</td>\n      <td>1,481.75</td>\n      <td>1,457.50</td>\n      <td>1,461.95</td>\n      <td>1,380.73</td>\n      <td>12,35,866</td>\n    </tr>\n    <tr>\n      <th>06-Apr-2018</th>\n      <td>1,477.00</td>\n      <td>1,480.00</td>\n      <td>1,463.28</td>\n      <td>1,475.15</td>\n      <td>1,393.19</td>\n      <td>11,29,018</td>\n    </tr>\n    <tr>\n      <th>05-Apr-2018</th>\n      <td>1,463.28</td>\n      <td>1,481.88</td>\n      <td>1,460.18</td>\n      <td>1,478.97</td>\n      <td>1,396.80</td>\n      <td>18,09,424</td>\n    </tr>\n    <tr>\n      <th>04-Apr-2018</th>\n      <td>1,464.72</td>\n      <td>1,467.00</td>\n      <td>1,446.00</td>\n      <td>1,455.45</td>\n      <td>1,374.59</td>\n      <td>28,41,820</td>\n    </tr>\n    <tr>\n      <th>...</th>\n      <td>...</td>\n      <td>...</td>\n      <td>...</td>\n      <td>...</td>\n      <td>...</td>\n      <td>...</td>\n    </tr>\n    <tr>\n      <th>17-Mar-2020</th>\n      <td>1,730.00</td>\n      <td>1,731.00</td>\n      <td>1,623.15</td>\n      <td>1,658.00</td>\n      <td>1,641.15</td>\n      <td>57,13,248</td>\n    </tr>\n    <tr>\n      <th>16-Mar-2020</th>\n      <td>1,755.00</td>\n      <td>1,842.25</td>\n      <td>1,675.85</td>\n      <td>1,696.40</td>\n      <td>1,679.16</td>\n      <td>78,44,271</td>\n    </tr>\n    <tr>\n      <th>13-Mar-2020</th>\n      <td>1,687.90</td>\n      <td>1,820.00</td>\n      <td>1,506.05</td>\n      <td>1,806.30</td>\n      <td>1,787.94</td>\n      <td>80,29,720</td>\n    </tr>\n    <tr>\n      <th>12-Mar-2020</th>\n      <td>1,904.00</td>\n      <td>1,908.40</td>\n      <td>1,758.35</td>\n      <td>1,769.85</td>\n      <td>1,751.86</td>\n      <td>87,28,786</td>\n    </tr>\n    <tr>\n      <th>11-Mar-2020</th>\n      <td>1,933.00</td>\n      <td>1,987.30</td>\n      <td>1,920.00</td>\n      <td>1,953.70</td>\n      <td>1,933.84</td>\n      <td>67,96,449</td>\n    </tr>\n  </tbody>\n</table>\n<p>603 rows × 6 columns</p>\n</div>"
     },
     "metadata": {},
     "execution_count": 4
    }
   ],
   "source": [
    "yf.historical"
   ]
  },
  {
   "cell_type": "code",
   "execution_count": 3,
   "metadata": {
    "tags": []
   },
   "outputs": [],
   "source": [
    "yf.run_all(hist_start_date='2010-01-01',hist_end_date='2020-06-19',hist_frequency='1d')\n"
   ]
  },
  {
   "cell_type": "code",
   "execution_count": 1,
   "metadata": {},
   "outputs": [
    {
     "output_type": "error",
     "ename": "NameError",
     "evalue": "name 'datetime' is not defined",
     "traceback": [
      "\u001b[1;31m---------------------------------------------------------------------------\u001b[0m",
      "\u001b[1;31mNameError\u001b[0m                                 Traceback (most recent call last)",
      "\u001b[1;32m<ipython-input-1-fd0ca6800ac2>\u001b[0m in \u001b[0;36m<module>\u001b[1;34m\u001b[0m\n\u001b[0;32m      1\u001b[0m \u001b[1;32mimport\u001b[0m \u001b[0mnumpy\u001b[0m \u001b[1;32mas\u001b[0m \u001b[0mnp\u001b[0m\u001b[1;33m\u001b[0m\u001b[1;33m\u001b[0m\u001b[0m\n\u001b[0;32m      2\u001b[0m \u001b[1;32mimport\u001b[0m \u001b[0mtime\u001b[0m\u001b[1;33m\u001b[0m\u001b[1;33m\u001b[0m\u001b[0m\n\u001b[1;32m----> 3\u001b[1;33m \u001b[0mstart_date\u001b[0m \u001b[1;33m=\u001b[0m \u001b[0mnp\u001b[0m\u001b[1;33m.\u001b[0m\u001b[0mint64\u001b[0m\u001b[1;33m(\u001b[0m\u001b[0mtime\u001b[0m\u001b[1;33m.\u001b[0m\u001b[0mmktime\u001b[0m\u001b[1;33m(\u001b[0m\u001b[0mdatetime\u001b[0m\u001b[1;33m.\u001b[0m\u001b[0mstrptime\u001b[0m\u001b[1;33m(\u001b[0m\u001b[1;34m'2020-06-18'\u001b[0m\u001b[1;33m,\u001b[0m \u001b[1;34m\"%Y-%m-%d\"\u001b[0m\u001b[1;33m)\u001b[0m\u001b[1;33m.\u001b[0m\u001b[0mtimetuple\u001b[0m\u001b[1;33m(\u001b[0m\u001b[1;33m)\u001b[0m\u001b[1;33m)\u001b[0m\u001b[1;33m)\u001b[0m\u001b[1;33m\u001b[0m\u001b[1;33m\u001b[0m\u001b[0m\n\u001b[0m\u001b[0;32m      4\u001b[0m \u001b[0mend_date\u001b[0m \u001b[1;33m=\u001b[0m \u001b[0mnp\u001b[0m\u001b[1;33m.\u001b[0m\u001b[0mint64\u001b[0m\u001b[1;33m(\u001b[0m\u001b[0mtime\u001b[0m\u001b[1;33m.\u001b[0m\u001b[0mmktime\u001b[0m\u001b[1;33m(\u001b[0m\u001b[0mdatetime\u001b[0m\u001b[1;33m.\u001b[0m\u001b[0mstrptime\u001b[0m\u001b[1;33m(\u001b[0m\u001b[1;34m'2020-06-19'\u001b[0m\u001b[1;33m,\u001b[0m \u001b[1;34m\"%Y-%m-%d\"\u001b[0m\u001b[1;33m)\u001b[0m\u001b[1;33m.\u001b[0m\u001b[0mtimetuple\u001b[0m\u001b[1;33m(\u001b[0m\u001b[1;33m)\u001b[0m\u001b[1;33m)\u001b[0m\u001b[1;33m)\u001b[0m\u001b[1;33m\u001b[0m\u001b[1;33m\u001b[0m\u001b[0m\n",
      "\u001b[1;31mNameError\u001b[0m: name 'datetime' is not defined"
     ]
    }
   ],
   "source": [
    "import numpy as np\n",
    "import time\n",
    "start_date = np.int64(time.mktime(datetime.strptime('2020-06-18', \"%Y-%m-%d\").timetuple()))\n",
    "end_date = np.int64(time.mktime(datetime.strptime('2020-06-19', \"%Y-%m-%d\").timetuple()))"
   ]
  },
  {
   "cell_type": "code",
   "execution_count": 8,
   "metadata": {},
   "outputs": [
    {
     "output_type": "execute_result",
     "data": {
      "text/plain": "datetime.datetime(2020, 6, 5, 0, 0)"
     },
     "metadata": {},
     "execution_count": 8
    }
   ],
   "source": [
    "from datetime import timedelta  \n",
    "datetime.strptime('2020-06-18', \"%Y-%m-%d\") + timedelta(days=-13)"
   ]
  },
  {
   "cell_type": "code",
   "execution_count": 8,
   "metadata": {},
   "outputs": [
    {
     "output_type": "execute_result",
     "data": {
      "text/plain": "(1592418600, 1592505000, -86400)"
     },
     "metadata": {},
     "execution_count": 8
    }
   ],
   "source": [
    "start_date,end_date,start_date-end_date"
   ]
  },
  {
   "cell_type": "code",
   "execution_count": 14,
   "metadata": {},
   "outputs": [
    {
     "output_type": "execute_result",
     "data": {
      "text/plain": "1592677800"
     },
     "metadata": {},
     "execution_count": 14
    }
   ],
   "source": [
    "np.int64(time.mktime(datetime.strptime(str(datetime.now().date()), \"%Y-%m-%d\").timetuple()))"
   ]
  },
  {
   "cell_type": "code",
   "execution_count": 17,
   "metadata": {},
   "outputs": [
    {
     "output_type": "execute_result",
     "data": {
      "text/plain": "False"
     },
     "metadata": {},
     "execution_count": 17
    }
   ],
   "source": [
    "datetime.now().date() < datetime.strptime('2020-06-18', \"%Y-%m-%d\").date()"
   ]
  },
  {
   "cell_type": "code",
   "execution_count": 23,
   "metadata": {
    "tags": []
   },
   "outputs": [
    {
     "output_type": "stream",
     "name": "stdout",
     "text": "3\n"
    }
   ],
   "source": [
    "from random import randrange\n",
    "print(randrange(1,5))"
   ]
  },
  {
   "cell_type": "code",
   "execution_count": 5,
   "metadata": {},
   "outputs": [
    {
     "output_type": "execute_result",
     "data": {
      "text/plain": "        Open      High       Low    Close* Adj. close**     Volume\n0   2,045.00  2,059.20  2,025.20  2,038.10     2,038.10  19,44,389\n1   2,046.00  2,058.85  2,026.55  2,047.80     2,047.80  27,03,527\n2   2,065.00  2,073.95  2,031.00  2,045.80     2,045.80  21,46,528\n3   2,039.10  2,059.00  2,000.95  2,029.90     2,029.90  23,99,022\n4   2,011.20  2,049.20  2,011.00  2,039.50     2,039.50  28,42,642\n..       ...       ...       ...       ...          ...        ...\n93  2,185.00  2,186.95  2,150.00  2,154.60     2,132.70  23,06,761\n94  2,174.00  2,187.80  2,152.00  2,183.75     2,161.56  17,43,024\n95  2,189.70  2,193.45  2,165.00  2,169.25     2,147.20  15,49,101\n96  2,190.95  2,190.95  2,170.00  2,183.40     2,161.21  13,19,430\n97  2,209.80  2,217.75  2,183.70  2,190.95     2,168.68  20,69,866\n\n[98 rows x 6 columns]",
      "text/html": "<div>\n<style scoped>\n    .dataframe tbody tr th:only-of-type {\n        vertical-align: middle;\n    }\n\n    .dataframe tbody tr th {\n        vertical-align: top;\n    }\n\n    .dataframe thead th {\n        text-align: right;\n    }\n</style>\n<table border=\"1\" class=\"dataframe\">\n  <thead>\n    <tr style=\"text-align: right;\">\n      <th></th>\n      <th>Open</th>\n      <th>High</th>\n      <th>Low</th>\n      <th>Close*</th>\n      <th>Adj. close**</th>\n      <th>Volume</th>\n    </tr>\n  </thead>\n  <tbody>\n    <tr>\n      <th>0</th>\n      <td>2,045.00</td>\n      <td>2,059.20</td>\n      <td>2,025.20</td>\n      <td>2,038.10</td>\n      <td>2,038.10</td>\n      <td>19,44,389</td>\n    </tr>\n    <tr>\n      <th>1</th>\n      <td>2,046.00</td>\n      <td>2,058.85</td>\n      <td>2,026.55</td>\n      <td>2,047.80</td>\n      <td>2,047.80</td>\n      <td>27,03,527</td>\n    </tr>\n    <tr>\n      <th>2</th>\n      <td>2,065.00</td>\n      <td>2,073.95</td>\n      <td>2,031.00</td>\n      <td>2,045.80</td>\n      <td>2,045.80</td>\n      <td>21,46,528</td>\n    </tr>\n    <tr>\n      <th>3</th>\n      <td>2,039.10</td>\n      <td>2,059.00</td>\n      <td>2,000.95</td>\n      <td>2,029.90</td>\n      <td>2,029.90</td>\n      <td>23,99,022</td>\n    </tr>\n    <tr>\n      <th>4</th>\n      <td>2,011.20</td>\n      <td>2,049.20</td>\n      <td>2,011.00</td>\n      <td>2,039.50</td>\n      <td>2,039.50</td>\n      <td>28,42,642</td>\n    </tr>\n    <tr>\n      <th>...</th>\n      <td>...</td>\n      <td>...</td>\n      <td>...</td>\n      <td>...</td>\n      <td>...</td>\n      <td>...</td>\n    </tr>\n    <tr>\n      <th>93</th>\n      <td>2,185.00</td>\n      <td>2,186.95</td>\n      <td>2,150.00</td>\n      <td>2,154.60</td>\n      <td>2,132.70</td>\n      <td>23,06,761</td>\n    </tr>\n    <tr>\n      <th>94</th>\n      <td>2,174.00</td>\n      <td>2,187.80</td>\n      <td>2,152.00</td>\n      <td>2,183.75</td>\n      <td>2,161.56</td>\n      <td>17,43,024</td>\n    </tr>\n    <tr>\n      <th>95</th>\n      <td>2,189.70</td>\n      <td>2,193.45</td>\n      <td>2,165.00</td>\n      <td>2,169.25</td>\n      <td>2,147.20</td>\n      <td>15,49,101</td>\n    </tr>\n    <tr>\n      <th>96</th>\n      <td>2,190.95</td>\n      <td>2,190.95</td>\n      <td>2,170.00</td>\n      <td>2,183.40</td>\n      <td>2,161.21</td>\n      <td>13,19,430</td>\n    </tr>\n    <tr>\n      <th>97</th>\n      <td>2,209.80</td>\n      <td>2,217.75</td>\n      <td>2,183.70</td>\n      <td>2,190.95</td>\n      <td>2,168.68</td>\n      <td>20,69,866</td>\n    </tr>\n  </tbody>\n</table>\n<p>98 rows × 6 columns</p>\n</div>"
     },
     "metadata": {},
     "execution_count": 5
    }
   ],
   "source": [
    "df = pd.read_csv('./TCS.NS/hist_1262284200_1592505000.csv')\n",
    "df"
   ]
  },
  {
   "cell_type": "code",
   "execution_count": 2,
   "metadata": {
    "tags": []
   },
   "outputs": [
    {
     "output_type": "stream",
     "name": "stdout",
     "text": "https://in.finance.yahoo.com/quote/TCS.NS/cash-flow?p=TCS.NS\n['ttm', '31/3/2020', '31/3/2019', '31/3/2018', '31/3/2017']\n6\n"
    },
    {
     "output_type": "execute_result",
     "data": {
      "text/plain": "                                                          ttm  \\\nNet income                                       32,34,00,000   \nDepreciation & amortisation                       3,52,90,000   \nChange in working capital                        -4,66,70,000   \nInventory                                              50,000   \nOther working capital                            29,12,00,000   \nOther non-cash items                             -2,65,20,000   \nNet cash provided by operating activities        32,36,90,000   \nInvestments in property, plant and equipment     -3,24,90,000   \nAcquisitions, net                                           0   \nPurchases of investments                      -1,02,57,00,000   \nSales/maturities of investments                1,10,48,60,000   \nOther investing activities                                  -   \nNet cash used for investing activities            8,56,50,000   \nNet change in cash                                1,01,90,000   \nCash at beginning of period                       7,22,40,000   \nCash at end of period                             8,64,60,000   \nOperating cash flow                              32,36,90,000   \nCapital expenditure                              -3,24,90,000   \nFree cash flow                                   29,12,00,000   \n\n                                                    31/3/2020  \\\nNet income                                       32,34,00,000   \nDepreciation & amortisation                       3,52,90,000   \nChange in working capital                        -4,66,70,000   \nInventory                                              50,000   \nOther working capital                            29,12,00,000   \nOther non-cash items                             -2,65,20,000   \nNet cash provided by operating activities        32,36,90,000   \nInvestments in property, plant and equipment     -3,24,90,000   \nAcquisitions, net                                           0   \nPurchases of investments                      -1,02,57,00,000   \nSales/maturities of investments                1,10,48,60,000   \nOther investing activities                                  -   \nNet cash used for investing activities            8,56,50,000   \nNet change in cash                                1,01,90,000   \nCash at beginning of period                       7,22,40,000   \nCash at end of period                             8,64,60,000   \nOperating cash flow                              32,36,90,000   \nCapital expenditure                              -3,24,90,000   \nFree cash flow                                   29,12,00,000   \n\n                                                    31/3/2019  \\\nNet income                                       31,47,20,000   \nDepreciation & amortisation                       2,05,60,000   \nChange in working capital                        -2,16,90,000   \nInventory                                            1,60,000   \nOther working capital                            26,36,20,000   \nOther non-cash items                             -2,56,40,000   \nNet cash provided by operating activities        28,59,30,000   \nInvestments in property, plant and equipment     -2,23,10,000   \nAcquisitions, net                                   -5,00,000   \nPurchases of investments                      -1,16,20,80,000   \nSales/maturities of investments                1,17,30,50,000   \nOther investing activities                           4,40,000   \nNet cash used for investing activities            1,59,60,000   \nNet change in cash                                2,29,20,000   \nCash at beginning of period                       4,88,30,000   \nCash at end of period                             7,22,40,000   \nOperating cash flow                              28,59,30,000   \nCapital expenditure                              -2,23,10,000   \nFree cash flow                                   26,36,20,000   \n\n                                                    31/3/2018        31/3/2017  \nNet income                                       25,82,60,000     26,28,90,000  \nDepreciation & amortisation                       2,01,40,000      1,98,70,000  \nChange in working capital                          -20,90,000       -63,10,000  \nInventory                                                   -                -  \nOther working capital                            23,20,50,000     23,23,30,000  \nOther non-cash items                             -2,39,30,000     -2,23,10,000  \nNet cash provided by operating activities        25,06,70,000     25,22,30,000  \nInvestments in property, plant and equipment     -1,86,20,000     -1,99,00,000  \nAcquisitions, net                                           -                -  \nPurchases of investments                      -1,06,44,50,000  -1,23,72,40,000  \nSales/maturities of investments                1,08,59,80,000   1,06,75,60,000  \nOther investing activities                          -9,50,000        40,00,000  \nNet cash used for investing activities            2,88,60,000    -16,73,20,000  \nNet change in cash                                1,06,80,000     -2,53,50,000  \nCash at beginning of period                       3,59,70,000      6,29,50,000  \nCash at end of period                             4,88,30,000      3,59,70,000  \nOperating cash flow                              25,06,70,000     25,22,30,000  \nCapital expenditure                              -1,86,20,000     -1,99,00,000  \nFree cash flow                                   23,20,50,000     23,23,30,000  ",
      "text/html": "<div>\n<style scoped>\n    .dataframe tbody tr th:only-of-type {\n        vertical-align: middle;\n    }\n\n    .dataframe tbody tr th {\n        vertical-align: top;\n    }\n\n    .dataframe thead th {\n        text-align: right;\n    }\n</style>\n<table border=\"1\" class=\"dataframe\">\n  <thead>\n    <tr style=\"text-align: right;\">\n      <th></th>\n      <th>ttm</th>\n      <th>31/3/2020</th>\n      <th>31/3/2019</th>\n      <th>31/3/2018</th>\n      <th>31/3/2017</th>\n    </tr>\n  </thead>\n  <tbody>\n    <tr>\n      <th>Net income</th>\n      <td>32,34,00,000</td>\n      <td>32,34,00,000</td>\n      <td>31,47,20,000</td>\n      <td>25,82,60,000</td>\n      <td>26,28,90,000</td>\n    </tr>\n    <tr>\n      <th>Depreciation &amp; amortisation</th>\n      <td>3,52,90,000</td>\n      <td>3,52,90,000</td>\n      <td>2,05,60,000</td>\n      <td>2,01,40,000</td>\n      <td>1,98,70,000</td>\n    </tr>\n    <tr>\n      <th>Change in working capital</th>\n      <td>-4,66,70,000</td>\n      <td>-4,66,70,000</td>\n      <td>-2,16,90,000</td>\n      <td>-20,90,000</td>\n      <td>-63,10,000</td>\n    </tr>\n    <tr>\n      <th>Inventory</th>\n      <td>50,000</td>\n      <td>50,000</td>\n      <td>1,60,000</td>\n      <td>-</td>\n      <td>-</td>\n    </tr>\n    <tr>\n      <th>Other working capital</th>\n      <td>29,12,00,000</td>\n      <td>29,12,00,000</td>\n      <td>26,36,20,000</td>\n      <td>23,20,50,000</td>\n      <td>23,23,30,000</td>\n    </tr>\n    <tr>\n      <th>Other non-cash items</th>\n      <td>-2,65,20,000</td>\n      <td>-2,65,20,000</td>\n      <td>-2,56,40,000</td>\n      <td>-2,39,30,000</td>\n      <td>-2,23,10,000</td>\n    </tr>\n    <tr>\n      <th>Net cash provided by operating activities</th>\n      <td>32,36,90,000</td>\n      <td>32,36,90,000</td>\n      <td>28,59,30,000</td>\n      <td>25,06,70,000</td>\n      <td>25,22,30,000</td>\n    </tr>\n    <tr>\n      <th>Investments in property, plant and equipment</th>\n      <td>-3,24,90,000</td>\n      <td>-3,24,90,000</td>\n      <td>-2,23,10,000</td>\n      <td>-1,86,20,000</td>\n      <td>-1,99,00,000</td>\n    </tr>\n    <tr>\n      <th>Acquisitions, net</th>\n      <td>0</td>\n      <td>0</td>\n      <td>-5,00,000</td>\n      <td>-</td>\n      <td>-</td>\n    </tr>\n    <tr>\n      <th>Purchases of investments</th>\n      <td>-1,02,57,00,000</td>\n      <td>-1,02,57,00,000</td>\n      <td>-1,16,20,80,000</td>\n      <td>-1,06,44,50,000</td>\n      <td>-1,23,72,40,000</td>\n    </tr>\n    <tr>\n      <th>Sales/maturities of investments</th>\n      <td>1,10,48,60,000</td>\n      <td>1,10,48,60,000</td>\n      <td>1,17,30,50,000</td>\n      <td>1,08,59,80,000</td>\n      <td>1,06,75,60,000</td>\n    </tr>\n    <tr>\n      <th>Other investing activities</th>\n      <td>-</td>\n      <td>-</td>\n      <td>4,40,000</td>\n      <td>-9,50,000</td>\n      <td>40,00,000</td>\n    </tr>\n    <tr>\n      <th>Net cash used for investing activities</th>\n      <td>8,56,50,000</td>\n      <td>8,56,50,000</td>\n      <td>1,59,60,000</td>\n      <td>2,88,60,000</td>\n      <td>-16,73,20,000</td>\n    </tr>\n    <tr>\n      <th>Net change in cash</th>\n      <td>1,01,90,000</td>\n      <td>1,01,90,000</td>\n      <td>2,29,20,000</td>\n      <td>1,06,80,000</td>\n      <td>-2,53,50,000</td>\n    </tr>\n    <tr>\n      <th>Cash at beginning of period</th>\n      <td>7,22,40,000</td>\n      <td>7,22,40,000</td>\n      <td>4,88,30,000</td>\n      <td>3,59,70,000</td>\n      <td>6,29,50,000</td>\n    </tr>\n    <tr>\n      <th>Cash at end of period</th>\n      <td>8,64,60,000</td>\n      <td>8,64,60,000</td>\n      <td>7,22,40,000</td>\n      <td>4,88,30,000</td>\n      <td>3,59,70,000</td>\n    </tr>\n    <tr>\n      <th>Operating cash flow</th>\n      <td>32,36,90,000</td>\n      <td>32,36,90,000</td>\n      <td>28,59,30,000</td>\n      <td>25,06,70,000</td>\n      <td>25,22,30,000</td>\n    </tr>\n    <tr>\n      <th>Capital expenditure</th>\n      <td>-3,24,90,000</td>\n      <td>-3,24,90,000</td>\n      <td>-2,23,10,000</td>\n      <td>-1,86,20,000</td>\n      <td>-1,99,00,000</td>\n    </tr>\n    <tr>\n      <th>Free cash flow</th>\n      <td>29,12,00,000</td>\n      <td>29,12,00,000</td>\n      <td>26,36,20,000</td>\n      <td>23,20,50,000</td>\n      <td>23,23,30,000</td>\n    </tr>\n  </tbody>\n</table>\n</div>"
     },
     "metadata": {},
     "execution_count": 2
    }
   ],
   "source": [
    "from pathlib import Path\n",
    "import data as d\n",
    "import pandas as pd\n",
    "from datetime import datetime\n",
    "df = d.get_cashflow_data('TCS.NS')\n",
    "df"
   ]
  },
  {
   "cell_type": "code",
   "execution_count": 10,
   "metadata": {},
   "outputs": [],
   "source": [
    "save_path = './YESBANK.NS'\n",
    "save_path_main = Path(save_path + f'/summary_{str(datetime.now().date())}.csv')"
   ]
  },
  {
   "cell_type": "code",
   "execution_count": 16,
   "metadata": {},
   "outputs": [],
   "source": [
    "import requests\n",
    "from bs4 import BeautifulSoup\n",
    "ticker = 'TCS.NS'\n",
    "page = requests.get(f'https://in.finance.yahoo.com/quote/{ticker}/cash-flow?p={ticker}')\n",
    "page_content = page.content\n",
    "soup = BeautifulSoup(page_content,'html.parser')\n",
    "#tabl = soup.find_all('div', {'class': [table_tag]})\n"
   ]
  },
  {
   "cell_type": "code",
   "execution_count": 17,
   "metadata": {},
   "outputs": [],
   "source": [
    "#length.get_text()"
   ]
  },
  {
   "cell_type": "code",
   "execution_count": 21,
   "metadata": {
    "tags": []
   },
   "outputs": [],
   "source": [
    "length = soup.find_all('div',{'class':{'D(tbr) C($primaryColor)'}})\n",
    "columns = []\n",
    "for t in length:\n",
    "    rows = t.find_all(\"div\")\n",
    "    for i,row in enumerate(rows,1):\n",
    "        columns.append(row.get_text())"
   ]
  },
  {
   "cell_type": "code",
   "execution_count": 23,
   "metadata": {},
   "outputs": [
    {
     "output_type": "execute_result",
     "data": {
      "text/plain": "['ttm', '31/3/2020', '31/3/2019', '31/3/2018', '31/3/2017']"
     },
     "metadata": {},
     "execution_count": 23
    }
   ],
   "source": [
    "columns[2:]"
   ]
  },
  {
   "cell_type": "code",
   "execution_count": 3,
   "metadata": {
    "tags": []
   },
   "outputs": [
    {
     "output_type": "stream",
     "name": "stdout",
     "text": "Date ['Open', 'High', 'Low', 'Close*', 'Adj. close**', 'Volume']\n09-Jun-2020 ['2,063.10', '2,095.50', '2,060.25', '2,072.05', '2,072.05', '29,09,439']\n08-Jun-2020 ['2,078.25', '2,095.00', '2,062.10', '2,071.75', '2,071.75', '29,57,841']\n05-Jun-2020 ['2,091.60', '2,098.00', '2,040.30', '2,048.25', '2,048.25', '35,73,289']\n04-Jun-2020 ['2,046.75', '2,100.00', '2,046.75', '2,091.55', '2,091.55', '40,48,593']\n03-Jun-2020 ['6', ' ', 'Dividend']\n02-Jun-2020 ['2,060.20', '2,081.00', '2,040.05', '2,047.15', '2,041.15', '24,43,886']\n01-Jun-2020 ['1,990.00', '2,060.00', '1,981.10', '2,045.25', '2,039.26', '37,47,773']\n"
    }
   ],
   "source": [
    "for x,y in dict_val.items():\n",
    "    print(x,y)"
   ]
  },
  {
   "cell_type": "code",
   "execution_count": 4,
   "metadata": {},
   "outputs": [
    {
     "output_type": "execute_result",
     "data": {
      "text/plain": "8"
     },
     "metadata": {},
     "execution_count": 4
    }
   ],
   "source": [
    "len(dict_val)"
   ]
  },
  {
   "cell_type": "code",
   "execution_count": 11,
   "metadata": {},
   "outputs": [
    {
     "output_type": "error",
     "ename": "KeyError",
     "evalue": "'data'",
     "traceback": [
      "\u001b[1;31m---------------------------------------------------------------------------\u001b[0m",
      "\u001b[1;31mKeyError\u001b[0m                                  Traceback (most recent call last)",
      "\u001b[1;32m~\\.conda\\envs\\conda3.7.2\\lib\\site-packages\\pandas\\core\\indexes\\base.py\u001b[0m in \u001b[0;36mget_loc\u001b[1;34m(self, key, method, tolerance)\u001b[0m\n\u001b[0;32m   2645\u001b[0m             \u001b[1;32mtry\u001b[0m\u001b[1;33m:\u001b[0m\u001b[1;33m\u001b[0m\u001b[1;33m\u001b[0m\u001b[0m\n\u001b[1;32m-> 2646\u001b[1;33m                 \u001b[1;32mreturn\u001b[0m \u001b[0mself\u001b[0m\u001b[1;33m.\u001b[0m\u001b[0m_engine\u001b[0m\u001b[1;33m.\u001b[0m\u001b[0mget_loc\u001b[0m\u001b[1;33m(\u001b[0m\u001b[0mkey\u001b[0m\u001b[1;33m)\u001b[0m\u001b[1;33m\u001b[0m\u001b[1;33m\u001b[0m\u001b[0m\n\u001b[0m\u001b[0;32m   2647\u001b[0m             \u001b[1;32mexcept\u001b[0m \u001b[0mKeyError\u001b[0m\u001b[1;33m:\u001b[0m\u001b[1;33m\u001b[0m\u001b[1;33m\u001b[0m\u001b[0m\n",
      "\u001b[1;32mpandas\\_libs\\index.pyx\u001b[0m in \u001b[0;36mpandas._libs.index.IndexEngine.get_loc\u001b[1;34m()\u001b[0m\n",
      "\u001b[1;32mpandas\\_libs\\index.pyx\u001b[0m in \u001b[0;36mpandas._libs.index.IndexEngine.get_loc\u001b[1;34m()\u001b[0m\n",
      "\u001b[1;32mpandas\\_libs\\hashtable_class_helper.pxi\u001b[0m in \u001b[0;36mpandas._libs.hashtable.PyObjectHashTable.get_item\u001b[1;34m()\u001b[0m\n",
      "\u001b[1;32mpandas\\_libs\\hashtable_class_helper.pxi\u001b[0m in \u001b[0;36mpandas._libs.hashtable.PyObjectHashTable.get_item\u001b[1;34m()\u001b[0m\n",
      "\u001b[1;31mKeyError\u001b[0m: 'data'",
      "\nDuring handling of the above exception, another exception occurred:\n",
      "\u001b[1;31mKeyError\u001b[0m                                  Traceback (most recent call last)",
      "\u001b[1;32m<ipython-input-11-9c8a4c661b9b>\u001b[0m in \u001b[0;36m<module>\u001b[1;34m\u001b[0m\n\u001b[1;32m----> 1\u001b[1;33m \u001b[0mdf\u001b[0m\u001b[1;33m[\u001b[0m\u001b[1;34m'data'\u001b[0m\u001b[1;33m]\u001b[0m\u001b[1;33m.\u001b[0m\u001b[0mapply\u001b[0m\u001b[1;33m(\u001b[0m\u001b[0mpd\u001b[0m\u001b[1;33m.\u001b[0m\u001b[0mSeries\u001b[0m\u001b[1;33m)\u001b[0m\u001b[1;33m\u001b[0m\u001b[1;33m\u001b[0m\u001b[0m\n\u001b[0m",
      "\u001b[1;32m~\\.conda\\envs\\conda3.7.2\\lib\\site-packages\\pandas\\core\\frame.py\u001b[0m in \u001b[0;36m__getitem__\u001b[1;34m(self, key)\u001b[0m\n\u001b[0;32m   2798\u001b[0m             \u001b[1;32mif\u001b[0m \u001b[0mself\u001b[0m\u001b[1;33m.\u001b[0m\u001b[0mcolumns\u001b[0m\u001b[1;33m.\u001b[0m\u001b[0mnlevels\u001b[0m \u001b[1;33m>\u001b[0m \u001b[1;36m1\u001b[0m\u001b[1;33m:\u001b[0m\u001b[1;33m\u001b[0m\u001b[1;33m\u001b[0m\u001b[0m\n\u001b[0;32m   2799\u001b[0m                 \u001b[1;32mreturn\u001b[0m \u001b[0mself\u001b[0m\u001b[1;33m.\u001b[0m\u001b[0m_getitem_multilevel\u001b[0m\u001b[1;33m(\u001b[0m\u001b[0mkey\u001b[0m\u001b[1;33m)\u001b[0m\u001b[1;33m\u001b[0m\u001b[1;33m\u001b[0m\u001b[0m\n\u001b[1;32m-> 2800\u001b[1;33m             \u001b[0mindexer\u001b[0m \u001b[1;33m=\u001b[0m \u001b[0mself\u001b[0m\u001b[1;33m.\u001b[0m\u001b[0mcolumns\u001b[0m\u001b[1;33m.\u001b[0m\u001b[0mget_loc\u001b[0m\u001b[1;33m(\u001b[0m\u001b[0mkey\u001b[0m\u001b[1;33m)\u001b[0m\u001b[1;33m\u001b[0m\u001b[1;33m\u001b[0m\u001b[0m\n\u001b[0m\u001b[0;32m   2801\u001b[0m             \u001b[1;32mif\u001b[0m \u001b[0mis_integer\u001b[0m\u001b[1;33m(\u001b[0m\u001b[0mindexer\u001b[0m\u001b[1;33m)\u001b[0m\u001b[1;33m:\u001b[0m\u001b[1;33m\u001b[0m\u001b[1;33m\u001b[0m\u001b[0m\n\u001b[0;32m   2802\u001b[0m                 \u001b[0mindexer\u001b[0m \u001b[1;33m=\u001b[0m \u001b[1;33m[\u001b[0m\u001b[0mindexer\u001b[0m\u001b[1;33m]\u001b[0m\u001b[1;33m\u001b[0m\u001b[1;33m\u001b[0m\u001b[0m\n",
      "\u001b[1;32m~\\.conda\\envs\\conda3.7.2\\lib\\site-packages\\pandas\\core\\indexes\\base.py\u001b[0m in \u001b[0;36mget_loc\u001b[1;34m(self, key, method, tolerance)\u001b[0m\n\u001b[0;32m   2646\u001b[0m                 \u001b[1;32mreturn\u001b[0m \u001b[0mself\u001b[0m\u001b[1;33m.\u001b[0m\u001b[0m_engine\u001b[0m\u001b[1;33m.\u001b[0m\u001b[0mget_loc\u001b[0m\u001b[1;33m(\u001b[0m\u001b[0mkey\u001b[0m\u001b[1;33m)\u001b[0m\u001b[1;33m\u001b[0m\u001b[1;33m\u001b[0m\u001b[0m\n\u001b[0;32m   2647\u001b[0m             \u001b[1;32mexcept\u001b[0m \u001b[0mKeyError\u001b[0m\u001b[1;33m:\u001b[0m\u001b[1;33m\u001b[0m\u001b[1;33m\u001b[0m\u001b[0m\n\u001b[1;32m-> 2648\u001b[1;33m                 \u001b[1;32mreturn\u001b[0m \u001b[0mself\u001b[0m\u001b[1;33m.\u001b[0m\u001b[0m_engine\u001b[0m\u001b[1;33m.\u001b[0m\u001b[0mget_loc\u001b[0m\u001b[1;33m(\u001b[0m\u001b[0mself\u001b[0m\u001b[1;33m.\u001b[0m\u001b[0m_maybe_cast_indexer\u001b[0m\u001b[1;33m(\u001b[0m\u001b[0mkey\u001b[0m\u001b[1;33m)\u001b[0m\u001b[1;33m)\u001b[0m\u001b[1;33m\u001b[0m\u001b[1;33m\u001b[0m\u001b[0m\n\u001b[0m\u001b[0;32m   2649\u001b[0m         \u001b[0mindexer\u001b[0m \u001b[1;33m=\u001b[0m \u001b[0mself\u001b[0m\u001b[1;33m.\u001b[0m\u001b[0mget_indexer\u001b[0m\u001b[1;33m(\u001b[0m\u001b[1;33m[\u001b[0m\u001b[0mkey\u001b[0m\u001b[1;33m]\u001b[0m\u001b[1;33m,\u001b[0m \u001b[0mmethod\u001b[0m\u001b[1;33m=\u001b[0m\u001b[0mmethod\u001b[0m\u001b[1;33m,\u001b[0m \u001b[0mtolerance\u001b[0m\u001b[1;33m=\u001b[0m\u001b[0mtolerance\u001b[0m\u001b[1;33m)\u001b[0m\u001b[1;33m\u001b[0m\u001b[1;33m\u001b[0m\u001b[0m\n\u001b[0;32m   2650\u001b[0m         \u001b[1;32mif\u001b[0m \u001b[0mindexer\u001b[0m\u001b[1;33m.\u001b[0m\u001b[0mndim\u001b[0m \u001b[1;33m>\u001b[0m \u001b[1;36m1\u001b[0m \u001b[1;32mor\u001b[0m \u001b[0mindexer\u001b[0m\u001b[1;33m.\u001b[0m\u001b[0msize\u001b[0m \u001b[1;33m>\u001b[0m \u001b[1;36m1\u001b[0m\u001b[1;33m:\u001b[0m\u001b[1;33m\u001b[0m\u001b[1;33m\u001b[0m\u001b[0m\n",
      "\u001b[1;32mpandas\\_libs\\index.pyx\u001b[0m in \u001b[0;36mpandas._libs.index.IndexEngine.get_loc\u001b[1;34m()\u001b[0m\n",
      "\u001b[1;32mpandas\\_libs\\index.pyx\u001b[0m in \u001b[0;36mpandas._libs.index.IndexEngine.get_loc\u001b[1;34m()\u001b[0m\n",
      "\u001b[1;32mpandas\\_libs\\hashtable_class_helper.pxi\u001b[0m in \u001b[0;36mpandas._libs.hashtable.PyObjectHashTable.get_item\u001b[1;34m()\u001b[0m\n",
      "\u001b[1;32mpandas\\_libs\\hashtable_class_helper.pxi\u001b[0m in \u001b[0;36mpandas._libs.hashtable.PyObjectHashTable.get_item\u001b[1;34m()\u001b[0m\n",
      "\u001b[1;31mKeyError\u001b[0m: 'data'"
     ]
    }
   ],
   "source": [
    "df['data'].apply(pd.Series)"
   ]
  },
  {
   "cell_type": "code",
   "execution_count": 2,
   "metadata": {},
   "outputs": [],
   "source": [
    "ticker = 'MSFT'\n",
    "url = 'https://in.finance.yahoo.com/quote/'+ticker+'/key-statistics?p='+ticker"
   ]
  },
  {
   "cell_type": "code",
   "execution_count": null,
   "metadata": {},
   "outputs": [],
   "source": []
  },
  {
   "cell_type": "code",
   "execution_count": 7,
   "metadata": {},
   "outputs": [],
   "source": [
    "table_tag = 'Mstart(a) Mend(a)'\n",
    "page = requests.get(url)\n",
    "page_content = page.content\n",
    "soup = BeautifulSoup(page_content,'html.parser')\n",
    "tabl = soup.findAll(\"div\", {\"class\": table_tag})"
   ]
  },
  {
   "cell_type": "code",
   "execution_count": 9,
   "metadata": {},
   "outputs": [],
   "source": [
    "t1 = soup.findAll(\"table\")"
   ]
  },
  {
   "cell_type": "code",
   "execution_count": 14,
   "metadata": {},
   "outputs": [],
   "source": [
    "import time\n",
    "import datetime\n",
    "s = '2019-02-03'\n",
    "start_date = time.mktime(datetime.datetime.strptime(s, \"%Y-%m-%d\").timetuple())"
   ]
  },
  {
   "cell_type": "code",
   "execution_count": 20,
   "metadata": {},
   "outputs": [
    {
     "output_type": "execute_result",
     "data": {
      "text/plain": "1549132200"
     },
     "metadata": {},
     "execution_count": 20
    }
   ],
   "source": [
    "np.int64(start_date)"
   ]
  },
  {
   "cell_type": "code",
   "execution_count": null,
   "metadata": {},
   "outputs": [],
   "source": []
  }
 ],
 "metadata": {
  "language_info": {
   "codemirror_mode": {
    "name": "ipython",
    "version": 3
   },
   "file_extension": ".py",
   "mimetype": "text/x-python",
   "name": "python",
   "nbconvert_exporter": "python",
   "pygments_lexer": "ipython3",
   "version": "3.7.2-final"
  },
  "orig_nbformat": 2,
  "kernelspec": {
   "name": "conda3.7.2",
   "display_name": "conda3.7.2"
  }
 },
 "nbformat": 4,
 "nbformat_minor": 2
}