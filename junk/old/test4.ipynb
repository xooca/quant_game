{
 "cells": [
  {
   "cell_type": "code",
   "execution_count": 1,
   "metadata": {},
   "outputs": [],
   "source": [
    "from signals import signals"
   ]
  },
  {
   "cell_type": "code",
   "execution_count": 5,
   "metadata": {},
   "outputs": [
    {
     "output_type": "execute_result",
     "data": {
      "text/plain": "array([       nan,        nan,        nan,        nan,        nan,\n              nan,        nan,        nan,        nan,        nan,\n              nan,        nan,        nan,        nan,        nan,\n              nan,        nan,        nan,        nan,        nan,\n              nan,        nan,        nan,        nan,        nan,\n              nan,        nan,        nan,        nan, 0.43965529,\n       0.45044783, 0.4690226 , 0.4890469 , 0.49686466, 0.50079938,\n       0.47320451, 0.47286181, 0.48635741, 0.47442569, 0.46641913,\n       0.4797199 , 0.49192973, 0.47922187, 0.49772087, 0.52692601,\n       0.53484863, 0.54648555, 0.53191402, 0.52074496, 0.5457568 ,\n       0.55288141, 0.56157683, 0.54201416, 0.54453931, 0.52573304,\n       0.50877454, 0.51527821, 0.50010637, 0.50413868, 0.5222896 ,\n       0.49954   , 0.50574882, 0.48137469, 0.46293525, 0.45431442,\n       0.473789  , 0.48091532, 0.47015504, 0.49576824, 0.50784443,\n       0.4916112 , 0.46807214, 0.47445897, 0.46096137, 0.46017336,\n       0.45160672, 0.45071516, 0.46720873, 0.48461609, 0.46043017,\n       0.46178597, 0.46282805, 0.47311959, 0.47522355, 0.48959259,\n       0.50892708, 0.51456796, 0.51497985, 0.52332266, 0.51312126,\n       0.53728019, 0.51816948, 0.53494921, 0.5432863 , 0.54472788,\n       0.54602095, 0.55767565, 0.54580681, 0.53943963, 0.51988729])"
     },
     "metadata": {},
     "execution_count": 5
    }
   ],
   "source": [
    "import numpy\n",
    "import talib\n",
    "\n",
    "close = numpy.random.random(100)\n",
    "\n",
    "output = talib.SMA(close)\n",
    "output"
   ]
  },
  {
   "cell_type": "code",
   "execution_count": 2,
   "metadata": {},
   "outputs": [],
   "source": [
    "file = r\"C:\\Users\\8prab\\Google Drive\\Work\\xooca-git\\trading_related\\BHARTIARTL.NS\\hist_2010-01-01_2020-06-19.csv\""
   ]
  },
  {
   "cell_type": "code",
   "execution_count": 9,
   "metadata": {},
   "outputs": [],
   "source": [
    "from talib import MA_Type\n",
    "upper, middle, lower = talib.BBANDS(close, matype=MA_Type.T3)"
   ]
  },
  {
   "cell_type": "code",
   "execution_count": 15,
   "metadata": {},
   "outputs": [],
   "source": [
    "import talib"
   ]
  },
  {
   "cell_type": "code",
   "execution_count": 22,
   "metadata": {
    "tags": []
   },
   "outputs": [
    {
     "output_type": "stream",
     "name": "stdout",
     "text": "Help on function AVGPRICE in module talib._ta_lib:\n\nAVGPRICE(...)\n    AVGPRICE(open, high, low, close)\n    \n    Average Price (Price Transform)\n    \n    Inputs:\n        prices: ['open', 'high', 'low', 'close']\n    Outputs:\n        real\n\n"
    }
   ],
   "source": [
    "help(talib.AVGPRICE)"
   ]
  },
  {
   "cell_type": "code",
   "execution_count": 14,
   "metadata": {},
   "outputs": [
    {
     "output_type": "execute_result",
     "data": {
      "text/plain": "{'Cycle Indicators': ['HT_DCPERIOD',\n  'HT_DCPHASE',\n  'HT_PHASOR',\n  'HT_SINE',\n  'HT_TRENDMODE'],\n 'Math Operators': ['ADD',\n  'DIV',\n  'MAX',\n  'MAXINDEX',\n  'MIN',\n  'MININDEX',\n  'MINMAX',\n  'MINMAXINDEX',\n  'MULT',\n  'SUB',\n  'SUM'],\n 'Math Transform': ['ACOS',\n  'ASIN',\n  'ATAN',\n  'CEIL',\n  'COS',\n  'COSH',\n  'EXP',\n  'FLOOR',\n  'LN',\n  'LOG10',\n  'SIN',\n  'SINH',\n  'SQRT',\n  'TAN',\n  'TANH'],\n 'Momentum Indicators': ['ADX',\n  'ADXR',\n  'APO',\n  'AROON',\n  'AROONOSC',\n  'BOP',\n  'CCI',\n  'CMO',\n  'DX',\n  'MACD',\n  'MACDEXT',\n  'MACDFIX',\n  'MFI',\n  'MINUS_DI',\n  'MINUS_DM',\n  'MOM',\n  'PLUS_DI',\n  'PLUS_DM',\n  'PPO',\n  'ROC',\n  'ROCP',\n  'ROCR',\n  'ROCR100',\n  'RSI',\n  'STOCH',\n  'STOCHF',\n  'STOCHRSI',\n  'TRIX',\n  'ULTOSC',\n  'WILLR'],\n 'Overlap Studies': ['BBANDS',\n  'DEMA',\n  'EMA',\n  'HT_TRENDLINE',\n  'KAMA',\n  'MA',\n  'MAMA',\n  'MAVP',\n  'MIDPOINT',\n  'MIDPRICE',\n  'SAR',\n  'SAREXT',\n  'SMA',\n  'T3',\n  'TEMA',\n  'TRIMA',\n  'WMA'],\n 'Pattern Recognition': ['CDL2CROWS',\n  'CDL3BLACKCROWS',\n  'CDL3INSIDE',\n  'CDL3LINESTRIKE',\n  'CDL3OUTSIDE',\n  'CDL3STARSINSOUTH',\n  'CDL3WHITESOLDIERS',\n  'CDLABANDONEDBABY',\n  'CDLADVANCEBLOCK',\n  'CDLBELTHOLD',\n  'CDLBREAKAWAY',\n  'CDLCLOSINGMARUBOZU',\n  'CDLCONCEALBABYSWALL',\n  'CDLCOUNTERATTACK',\n  'CDLDARKCLOUDCOVER',\n  'CDLDOJI',\n  'CDLDOJISTAR',\n  'CDLDRAGONFLYDOJI',\n  'CDLENGULFING',\n  'CDLEVENINGDOJISTAR',\n  'CDLEVENINGSTAR',\n  'CDLGAPSIDESIDEWHITE',\n  'CDLGRAVESTONEDOJI',\n  'CDLHAMMER',\n  'CDLHANGINGMAN',\n  'CDLHARAMI',\n  'CDLHARAMICROSS',\n  'CDLHIGHWAVE',\n  'CDLHIKKAKE',\n  'CDLHIKKAKEMOD',\n  'CDLHOMINGPIGEON',\n  'CDLIDENTICAL3CROWS',\n  'CDLINNECK',\n  'CDLINVERTEDHAMMER',\n  'CDLKICKING',\n  'CDLKICKINGBYLENGTH',\n  'CDLLADDERBOTTOM',\n  'CDLLONGLEGGEDDOJI',\n  'CDLLONGLINE',\n  'CDLMARUBOZU',\n  'CDLMATCHINGLOW',\n  'CDLMATHOLD',\n  'CDLMORNINGDOJISTAR',\n  'CDLMORNINGSTAR',\n  'CDLONNECK',\n  'CDLPIERCING',\n  'CDLRICKSHAWMAN',\n  'CDLRISEFALL3METHODS',\n  'CDLSEPARATINGLINES',\n  'CDLSHOOTINGSTAR',\n  'CDLSHORTLINE',\n  'CDLSPINNINGTOP',\n  'CDLSTALLEDPATTERN',\n  'CDLSTICKSANDWICH',\n  'CDLTAKURI',\n  'CDLTASUKIGAP',\n  'CDLTHRUSTING',\n  'CDLTRISTAR',\n  'CDLUNIQUE3RIVER',\n  'CDLUPSIDEGAP2CROWS',\n  'CDLXSIDEGAP3METHODS'],\n 'Price Transform': ['AVGPRICE', 'MEDPRICE', 'TYPPRICE', 'WCLPRICE'],\n 'Statistic Functions': ['BETA',\n  'CORREL',\n  'LINEARREG',\n  'LINEARREG_ANGLE',\n  'LINEARREG_INTERCEPT',\n  'LINEARREG_SLOPE',\n  'STDDEV',\n  'TSF',\n  'VAR'],\n 'Volatility Indicators': ['ATR', 'NATR', 'TRANGE'],\n 'Volume Indicators': ['AD', 'ADOSC', 'OBV']}"
     },
     "metadata": {},
     "execution_count": 14
    }
   ],
   "source": [
    "talib.get_function_groups()"
   ]
  },
  {
   "cell_type": "code",
   "execution_count": 3,
   "metadata": {
    "tags": []
   },
   "outputs": [],
   "source": [
    "sg = signals(file)"
   ]
  },
  {
   "cell_type": "code",
   "execution_count": 5,
   "metadata": {},
   "outputs": [
    {
     "output_type": "execute_result",
     "data": {
      "text/plain": "              open    high     low  act_close   close      volume\ndate                                                             \n2010-04-09  286.47  290.60  281.88     282.71  266.75   6364752.0\n2010-04-08  292.90  295.19  284.64     287.30  271.08   6750418.0\n2010-04-07  291.06  299.14  288.03     294.18  277.58   5664078.0\n2010-04-06  291.52  292.71  286.29     290.56  274.16   4053513.0\n2010-04-05  281.88  292.12  277.75     290.19  273.81  10543536.0\n...            ...     ...     ...        ...     ...         ...\n2020-04-01  440.00  440.00  412.40     421.35  421.35   9469123.0\n2020-03-31  441.00  447.00  424.00     440.90  440.90  16745069.0\n2020-03-30  443.85  449.30  428.00     431.05  431.05  10022553.0\n2020-03-27  470.70  474.80  437.50     448.95  448.95  16076572.0\n2020-03-26  426.50  493.45  420.25     470.70  470.70  21891559.0\n\n[2085 rows x 6 columns]",
      "text/html": "<div>\n<style scoped>\n    .dataframe tbody tr th:only-of-type {\n        vertical-align: middle;\n    }\n\n    .dataframe tbody tr th {\n        vertical-align: top;\n    }\n\n    .dataframe thead th {\n        text-align: right;\n    }\n</style>\n<table border=\"1\" class=\"dataframe\">\n  <thead>\n    <tr style=\"text-align: right;\">\n      <th></th>\n      <th>open</th>\n      <th>high</th>\n      <th>low</th>\n      <th>act_close</th>\n      <th>close</th>\n      <th>volume</th>\n    </tr>\n    <tr>\n      <th>date</th>\n      <th></th>\n      <th></th>\n      <th></th>\n      <th></th>\n      <th></th>\n      <th></th>\n    </tr>\n  </thead>\n  <tbody>\n    <tr>\n      <th>2010-04-09</th>\n      <td>286.47</td>\n      <td>290.60</td>\n      <td>281.88</td>\n      <td>282.71</td>\n      <td>266.75</td>\n      <td>6364752.0</td>\n    </tr>\n    <tr>\n      <th>2010-04-08</th>\n      <td>292.90</td>\n      <td>295.19</td>\n      <td>284.64</td>\n      <td>287.30</td>\n      <td>271.08</td>\n      <td>6750418.0</td>\n    </tr>\n    <tr>\n      <th>2010-04-07</th>\n      <td>291.06</td>\n      <td>299.14</td>\n      <td>288.03</td>\n      <td>294.18</td>\n      <td>277.58</td>\n      <td>5664078.0</td>\n    </tr>\n    <tr>\n      <th>2010-04-06</th>\n      <td>291.52</td>\n      <td>292.71</td>\n      <td>286.29</td>\n      <td>290.56</td>\n      <td>274.16</td>\n      <td>4053513.0</td>\n    </tr>\n    <tr>\n      <th>2010-04-05</th>\n      <td>281.88</td>\n      <td>292.12</td>\n      <td>277.75</td>\n      <td>290.19</td>\n      <td>273.81</td>\n      <td>10543536.0</td>\n    </tr>\n    <tr>\n      <th>...</th>\n      <td>...</td>\n      <td>...</td>\n      <td>...</td>\n      <td>...</td>\n      <td>...</td>\n      <td>...</td>\n    </tr>\n    <tr>\n      <th>2020-04-01</th>\n      <td>440.00</td>\n      <td>440.00</td>\n      <td>412.40</td>\n      <td>421.35</td>\n      <td>421.35</td>\n      <td>9469123.0</td>\n    </tr>\n    <tr>\n      <th>2020-03-31</th>\n      <td>441.00</td>\n      <td>447.00</td>\n      <td>424.00</td>\n      <td>440.90</td>\n      <td>440.90</td>\n      <td>16745069.0</td>\n    </tr>\n    <tr>\n      <th>2020-03-30</th>\n      <td>443.85</td>\n      <td>449.30</td>\n      <td>428.00</td>\n      <td>431.05</td>\n      <td>431.05</td>\n      <td>10022553.0</td>\n    </tr>\n    <tr>\n      <th>2020-03-27</th>\n      <td>470.70</td>\n      <td>474.80</td>\n      <td>437.50</td>\n      <td>448.95</td>\n      <td>448.95</td>\n      <td>16076572.0</td>\n    </tr>\n    <tr>\n      <th>2020-03-26</th>\n      <td>426.50</td>\n      <td>493.45</td>\n      <td>420.25</td>\n      <td>470.70</td>\n      <td>470.70</td>\n      <td>21891559.0</td>\n    </tr>\n  </tbody>\n</table>\n<p>2085 rows × 6 columns</p>\n</div>"
     },
     "metadata": {},
     "execution_count": 5
    }
   ],
   "source": [
    "sg.df"
   ]
  },
  {
   "cell_type": "code",
   "execution_count": 6,
   "metadata": {},
   "outputs": [],
   "source": [
    "sg()"
   ]
  },
  {
   "cell_type": "code",
   "execution_count": 7,
   "metadata": {},
   "outputs": [
    {
     "output_type": "execute_result",
     "data": {
      "text/plain": "              open    high     low  act_close   close      volume     ma_fast  \\\ndate                                                                            \n2010-04-09  286.47  290.60  281.88     282.71  266.75   6364752.0         NaN   \n2010-04-08  292.90  295.19  284.64     287.30  271.08   6750418.0         NaN   \n2010-04-07  291.06  299.14  288.03     294.18  277.58   5664078.0         NaN   \n2010-04-06  291.52  292.71  286.29     290.56  274.16   4053513.0         NaN   \n2010-04-05  281.88  292.12  277.75     290.19  273.81  10543536.0         NaN   \n...            ...     ...     ...        ...     ...         ...         ...   \n2020-04-01  440.00  440.00  412.40     421.35  421.35   9469123.0  472.981740   \n2020-03-31  441.00  447.00  424.00     440.90  440.90  16745069.0  468.046088   \n2020-03-30  443.85  449.30  428.00     431.05  431.05  10022553.0  462.354382   \n2020-03-27  470.70  474.80  437.50     448.95  448.95  16076572.0  460.292170   \n2020-03-26  426.50  493.45  420.25     470.70  470.70  21891559.0  461.893374   \n\n               ma_slow       macd     signal  signal-macd  \ndate                                                       \n2010-04-09         NaN        NaN        NaN          NaN  \n2010-04-08         NaN        NaN        NaN          NaN  \n2010-04-07         NaN        NaN        NaN          NaN  \n2010-04-06         NaN        NaN        NaN          NaN  \n2010-04-05         NaN        NaN        NaN          NaN  \n...                ...        ...        ...          ...  \n2020-04-01  490.610426 -17.628686  -8.650115     8.978571  \n2020-03-31  486.928172 -18.882084 -10.696509     8.185576  \n2020-03-30  482.789049 -20.434666 -12.644140     7.790526  \n2020-03-27  480.282452 -19.990283 -14.113369     5.876914  \n2020-03-26  479.572641 -17.679267 -14.826548     2.852718  \n\n[2085 rows x 11 columns]",
      "text/html": "<div>\n<style scoped>\n    .dataframe tbody tr th:only-of-type {\n        vertical-align: middle;\n    }\n\n    .dataframe tbody tr th {\n        vertical-align: top;\n    }\n\n    .dataframe thead th {\n        text-align: right;\n    }\n</style>\n<table border=\"1\" class=\"dataframe\">\n  <thead>\n    <tr style=\"text-align: right;\">\n      <th></th>\n      <th>open</th>\n      <th>high</th>\n      <th>low</th>\n      <th>act_close</th>\n      <th>close</th>\n      <th>volume</th>\n      <th>ma_fast</th>\n      <th>ma_slow</th>\n      <th>macd</th>\n      <th>signal</th>\n      <th>signal-macd</th>\n    </tr>\n    <tr>\n      <th>date</th>\n      <th></th>\n      <th></th>\n      <th></th>\n      <th></th>\n      <th></th>\n      <th></th>\n      <th></th>\n      <th></th>\n      <th></th>\n      <th></th>\n      <th></th>\n    </tr>\n  </thead>\n  <tbody>\n    <tr>\n      <th>2010-04-09</th>\n      <td>286.47</td>\n      <td>290.60</td>\n      <td>281.88</td>\n      <td>282.71</td>\n      <td>266.75</td>\n      <td>6364752.0</td>\n      <td>NaN</td>\n      <td>NaN</td>\n      <td>NaN</td>\n      <td>NaN</td>\n      <td>NaN</td>\n    </tr>\n    <tr>\n      <th>2010-04-08</th>\n      <td>292.90</td>\n      <td>295.19</td>\n      <td>284.64</td>\n      <td>287.30</td>\n      <td>271.08</td>\n      <td>6750418.0</td>\n      <td>NaN</td>\n      <td>NaN</td>\n      <td>NaN</td>\n      <td>NaN</td>\n      <td>NaN</td>\n    </tr>\n    <tr>\n      <th>2010-04-07</th>\n      <td>291.06</td>\n      <td>299.14</td>\n      <td>288.03</td>\n      <td>294.18</td>\n      <td>277.58</td>\n      <td>5664078.0</td>\n      <td>NaN</td>\n      <td>NaN</td>\n      <td>NaN</td>\n      <td>NaN</td>\n      <td>NaN</td>\n    </tr>\n    <tr>\n      <th>2010-04-06</th>\n      <td>291.52</td>\n      <td>292.71</td>\n      <td>286.29</td>\n      <td>290.56</td>\n      <td>274.16</td>\n      <td>4053513.0</td>\n      <td>NaN</td>\n      <td>NaN</td>\n      <td>NaN</td>\n      <td>NaN</td>\n      <td>NaN</td>\n    </tr>\n    <tr>\n      <th>2010-04-05</th>\n      <td>281.88</td>\n      <td>292.12</td>\n      <td>277.75</td>\n      <td>290.19</td>\n      <td>273.81</td>\n      <td>10543536.0</td>\n      <td>NaN</td>\n      <td>NaN</td>\n      <td>NaN</td>\n      <td>NaN</td>\n      <td>NaN</td>\n    </tr>\n    <tr>\n      <th>...</th>\n      <td>...</td>\n      <td>...</td>\n      <td>...</td>\n      <td>...</td>\n      <td>...</td>\n      <td>...</td>\n      <td>...</td>\n      <td>...</td>\n      <td>...</td>\n      <td>...</td>\n      <td>...</td>\n    </tr>\n    <tr>\n      <th>2020-04-01</th>\n      <td>440.00</td>\n      <td>440.00</td>\n      <td>412.40</td>\n      <td>421.35</td>\n      <td>421.35</td>\n      <td>9469123.0</td>\n      <td>472.981740</td>\n      <td>490.610426</td>\n      <td>-17.628686</td>\n      <td>-8.650115</td>\n      <td>8.978571</td>\n    </tr>\n    <tr>\n      <th>2020-03-31</th>\n      <td>441.00</td>\n      <td>447.00</td>\n      <td>424.00</td>\n      <td>440.90</td>\n      <td>440.90</td>\n      <td>16745069.0</td>\n      <td>468.046088</td>\n      <td>486.928172</td>\n      <td>-18.882084</td>\n      <td>-10.696509</td>\n      <td>8.185576</td>\n    </tr>\n    <tr>\n      <th>2020-03-30</th>\n      <td>443.85</td>\n      <td>449.30</td>\n      <td>428.00</td>\n      <td>431.05</td>\n      <td>431.05</td>\n      <td>10022553.0</td>\n      <td>462.354382</td>\n      <td>482.789049</td>\n      <td>-20.434666</td>\n      <td>-12.644140</td>\n      <td>7.790526</td>\n    </tr>\n    <tr>\n      <th>2020-03-27</th>\n      <td>470.70</td>\n      <td>474.80</td>\n      <td>437.50</td>\n      <td>448.95</td>\n      <td>448.95</td>\n      <td>16076572.0</td>\n      <td>460.292170</td>\n      <td>480.282452</td>\n      <td>-19.990283</td>\n      <td>-14.113369</td>\n      <td>5.876914</td>\n    </tr>\n    <tr>\n      <th>2020-03-26</th>\n      <td>426.50</td>\n      <td>493.45</td>\n      <td>420.25</td>\n      <td>470.70</td>\n      <td>470.70</td>\n      <td>21891559.0</td>\n      <td>461.893374</td>\n      <td>479.572641</td>\n      <td>-17.679267</td>\n      <td>-14.826548</td>\n      <td>2.852718</td>\n    </tr>\n  </tbody>\n</table>\n<p>2085 rows × 11 columns</p>\n</div>"
     },
     "metadata": {},
     "execution_count": 7
    }
   ],
   "source": [
    "sg.df"
   ]
  },
  {
   "cell_type": "code",
   "execution_count": null,
   "metadata": {},
   "outputs": [],
   "source": [
    "sg.macd()"
   ]
  },
  {
   "cell_type": "code",
   "execution_count": null,
   "metadata": {},
   "outputs": [],
   "source": [
    "sg.atr()"
   ]
  },
  {
   "cell_type": "code",
   "execution_count": null,
   "metadata": {},
   "outputs": [],
   "source": [
    "sg.bollinger_band()"
   ]
  },
  {
   "cell_type": "code",
   "execution_count": null,
   "metadata": {},
   "outputs": [],
   "source": [
    "sg.rsi(15)"
   ]
  },
  {
   "cell_type": "code",
   "execution_count": null,
   "metadata": {},
   "outputs": [],
   "source": [
    "sg.adx(15)"
   ]
  },
  {
   "cell_type": "code",
   "execution_count": null,
   "metadata": {},
   "outputs": [],
   "source": [
    "sg.obv()"
   ]
  },
  {
   "cell_type": "code",
   "execution_count": null,
   "metadata": {},
   "outputs": [],
   "source": [
    "sg.slope()"
   ]
  },
  {
   "cell_type": "code",
   "execution_count": null,
   "metadata": {
    "tags": []
   },
   "outputs": [],
   "source": [
    "sg.renko_chart_df()"
   ]
  },
  {
   "cell_type": "code",
   "execution_count": null,
   "metadata": {},
   "outputs": [],
   "source": [
    "sg.df[~sg.df['uptrend'].isnull()]"
   ]
  },
  {
   "cell_type": "code",
   "execution_count": null,
   "metadata": {},
   "outputs": [],
   "source": []
  }
 ],
 "metadata": {
  "language_info": {
   "codemirror_mode": {
    "name": "ipython",
    "version": 3
   },
   "file_extension": ".py",
   "mimetype": "text/x-python",
   "name": "python",
   "nbconvert_exporter": "python",
   "pygments_lexer": "ipython3",
   "version": 3
  },
  "orig_nbformat": 2,
  "kernelspec": {
   "name": "python_defaultSpec_1594555864422",
   "display_name": "Python 3.7.2 64-bit ('conda3.7.2': conda)"
  }
 },
 "nbformat": 4,
 "nbformat_minor": 2
}