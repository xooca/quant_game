{
 "cells": [
  {
   "cell_type": "code",
   "execution_count": 86,
   "metadata": {},
   "outputs": [],
   "source": [
    "import data_engine as de\n",
    "import pandas as pd\n",
    "from feature_engine.discretisation import EqualWidthDiscretiser\n",
    "from feature_engine.imputation import MeanMedianImputer,CategoricalImputer"
   ]
  },
  {
   "cell_type": "code",
   "execution_count": 87,
   "metadata": {},
   "outputs": [],
   "source": [
    "data_save_path = './data/'\n",
    "root_path = r'C:\\\\Users\\\\8prab\\\\Documents\\\\NSE_Equity_Futures_iEOD\\\\'\n",
    "pattern = '*BANKNIFTY.txt'\n",
    "data_name = 'banknifty'\n",
    "#base_df= de.create_dataset(root_path,pattern,data_save_path,data_name)\n",
    "base_df = pd.read_csv(r'C:\\Users\\8prab\\Google Drive\\Work\\trading\\data\\banknifty\\banknifty.csv')"
   ]
  },
  {
   "cell_type": "code",
   "execution_count": 88,
   "metadata": {},
   "outputs": [
    {
     "data": {
      "text/plain": [
       "(1170729, 4)"
      ]
     },
     "execution_count": 88,
     "metadata": {},
     "output_type": "execute_result"
    }
   ],
   "source": [
    "base_df.shape"
   ]
  },
  {
   "cell_type": "code",
   "execution_count": 4,
   "metadata": {},
   "outputs": [],
   "source": [
    "from sklearn.pipeline import Pipeline\n",
    "pipe = Pipeline([('labelgenerator_1', de.LabelCreator(freq='1min',shift=-15,shift_column='close')),('labelgenerator_2', de.LabelCreator(freq='1min',shift=-30,shift_column='close')),('mean_imputer', MeanMedianImputer()),('cat_imputer', CategoricalImputer())])\n",
    "base_df = pipe.fit(base_df).transform(base_df)"
   ]
  },
  {
   "cell_type": "code",
   "execution_count": 5,
   "metadata": {},
   "outputs": [
    {
     "data": {
      "text/html": [
       "<div>\n",
       "<style scoped>\n",
       "    .dataframe tbody tr th:only-of-type {\n",
       "        vertical-align: middle;\n",
       "    }\n",
       "\n",
       "    .dataframe tbody tr th {\n",
       "        vertical-align: top;\n",
       "    }\n",
       "\n",
       "    .dataframe thead th {\n",
       "        text-align: right;\n",
       "    }\n",
       "</style>\n",
       "<table border=\"1\" class=\"dataframe\">\n",
       "  <thead>\n",
       "    <tr style=\"text-align: right;\">\n",
       "      <th></th>\n",
       "      <th>open</th>\n",
       "      <th>high</th>\n",
       "      <th>low</th>\n",
       "      <th>close</th>\n",
       "      <th>label_-15_1min_close</th>\n",
       "      <th>label_-30_1min_close</th>\n",
       "    </tr>\n",
       "  </thead>\n",
       "  <tbody>\n",
       "    <tr>\n",
       "      <th>2010-03-02 09:01:00</th>\n",
       "      <td>8826.90</td>\n",
       "      <td>8856.95</td>\n",
       "      <td>8826.90</td>\n",
       "      <td>8839.80</td>\n",
       "      <td>40to60</td>\n",
       "      <td>40to60</td>\n",
       "    </tr>\n",
       "    <tr>\n",
       "      <th>2010-03-02 09:02:00</th>\n",
       "      <td>8840.75</td>\n",
       "      <td>8853.90</td>\n",
       "      <td>8832.80</td>\n",
       "      <td>8852.30</td>\n",
       "      <td>40to60</td>\n",
       "      <td>20to40</td>\n",
       "    </tr>\n",
       "    <tr>\n",
       "      <th>2010-03-02 09:03:00</th>\n",
       "      <td>8855.70</td>\n",
       "      <td>8855.70</td>\n",
       "      <td>8844.65</td>\n",
       "      <td>8846.65</td>\n",
       "      <td>40to60</td>\n",
       "      <td>40to60</td>\n",
       "    </tr>\n",
       "    <tr>\n",
       "      <th>2010-03-02 09:04:00</th>\n",
       "      <td>8843.85</td>\n",
       "      <td>8850.70</td>\n",
       "      <td>8843.75</td>\n",
       "      <td>8846.70</td>\n",
       "      <td>40to60</td>\n",
       "      <td>20to40</td>\n",
       "    </tr>\n",
       "    <tr>\n",
       "      <th>2010-03-02 09:05:00</th>\n",
       "      <td>8846.40</td>\n",
       "      <td>8846.40</td>\n",
       "      <td>8837.75</td>\n",
       "      <td>8841.60</td>\n",
       "      <td>60to80</td>\n",
       "      <td>40to60</td>\n",
       "    </tr>\n",
       "  </tbody>\n",
       "</table>\n",
       "</div>"
      ],
      "text/plain": [
       "                        open     high      low    close label_-15_1min_close  \\\n",
       "2010-03-02 09:01:00  8826.90  8856.95  8826.90  8839.80               40to60   \n",
       "2010-03-02 09:02:00  8840.75  8853.90  8832.80  8852.30               40to60   \n",
       "2010-03-02 09:03:00  8855.70  8855.70  8844.65  8846.65               40to60   \n",
       "2010-03-02 09:04:00  8843.85  8850.70  8843.75  8846.70               40to60   \n",
       "2010-03-02 09:05:00  8846.40  8846.40  8837.75  8841.60               60to80   \n",
       "\n",
       "                    label_-30_1min_close  \n",
       "2010-03-02 09:01:00               40to60  \n",
       "2010-03-02 09:02:00               20to40  \n",
       "2010-03-02 09:03:00               40to60  \n",
       "2010-03-02 09:04:00               20to40  \n",
       "2010-03-02 09:05:00               40to60  "
      ]
     },
     "execution_count": 5,
     "metadata": {},
     "output_type": "execute_result"
    }
   ],
   "source": [
    "base_df.head()"
   ]
  },
  {
   "cell_type": "code",
   "execution_count": 9,
   "metadata": {},
   "outputs": [
    {
     "data": {
      "text/html": [
       "<div>\n",
       "<style scoped>\n",
       "    .dataframe tbody tr th:only-of-type {\n",
       "        vertical-align: middle;\n",
       "    }\n",
       "\n",
       "    .dataframe tbody tr th {\n",
       "        vertical-align: top;\n",
       "    }\n",
       "\n",
       "    .dataframe thead th {\n",
       "        text-align: right;\n",
       "    }\n",
       "</style>\n",
       "<table border=\"1\" class=\"dataframe\">\n",
       "  <thead>\n",
       "    <tr style=\"text-align: right;\">\n",
       "      <th></th>\n",
       "      <th>open</th>\n",
       "      <th>high</th>\n",
       "      <th>low</th>\n",
       "      <th>close</th>\n",
       "      <th>label_-15_1min_close</th>\n",
       "      <th>label_-30_1min_close</th>\n",
       "    </tr>\n",
       "  </thead>\n",
       "  <tbody>\n",
       "    <tr>\n",
       "      <th>2010-03-02 09:01:00</th>\n",
       "      <td>1</td>\n",
       "      <td>8856.95</td>\n",
       "      <td>8826.90</td>\n",
       "      <td>8839.80</td>\n",
       "      <td>40to60</td>\n",
       "      <td>40to60</td>\n",
       "    </tr>\n",
       "    <tr>\n",
       "      <th>2010-03-02 09:02:00</th>\n",
       "      <td>1</td>\n",
       "      <td>8853.90</td>\n",
       "      <td>8832.80</td>\n",
       "      <td>8852.30</td>\n",
       "      <td>40to60</td>\n",
       "      <td>20to40</td>\n",
       "    </tr>\n",
       "    <tr>\n",
       "      <th>2010-03-02 09:03:00</th>\n",
       "      <td>1</td>\n",
       "      <td>8855.70</td>\n",
       "      <td>8844.65</td>\n",
       "      <td>8846.65</td>\n",
       "      <td>40to60</td>\n",
       "      <td>40to60</td>\n",
       "    </tr>\n",
       "    <tr>\n",
       "      <th>2010-03-02 09:04:00</th>\n",
       "      <td>1</td>\n",
       "      <td>8850.70</td>\n",
       "      <td>8843.75</td>\n",
       "      <td>8846.70</td>\n",
       "      <td>40to60</td>\n",
       "      <td>20to40</td>\n",
       "    </tr>\n",
       "    <tr>\n",
       "      <th>2010-03-02 09:05:00</th>\n",
       "      <td>1</td>\n",
       "      <td>8846.40</td>\n",
       "      <td>8837.75</td>\n",
       "      <td>8841.60</td>\n",
       "      <td>60to80</td>\n",
       "      <td>40to60</td>\n",
       "    </tr>\n",
       "    <tr>\n",
       "      <th>...</th>\n",
       "      <td>...</td>\n",
       "      <td>...</td>\n",
       "      <td>...</td>\n",
       "      <td>...</td>\n",
       "      <td>...</td>\n",
       "      <td>...</td>\n",
       "    </tr>\n",
       "    <tr>\n",
       "      <th>2022-01-13 15:28:00</th>\n",
       "      <td>9</td>\n",
       "      <td>38469.15</td>\n",
       "      <td>38459.45</td>\n",
       "      <td>38467.20</td>\n",
       "      <td>unknown</td>\n",
       "      <td>unknown</td>\n",
       "    </tr>\n",
       "    <tr>\n",
       "      <th>2022-01-13 15:29:00</th>\n",
       "      <td>9</td>\n",
       "      <td>38479.85</td>\n",
       "      <td>38456.65</td>\n",
       "      <td>38456.65</td>\n",
       "      <td>unknown</td>\n",
       "      <td>unknown</td>\n",
       "    </tr>\n",
       "    <tr>\n",
       "      <th>2022-01-13 15:30:00</th>\n",
       "      <td>9</td>\n",
       "      <td>38471.55</td>\n",
       "      <td>38455.15</td>\n",
       "      <td>38465.70</td>\n",
       "      <td>unknown</td>\n",
       "      <td>unknown</td>\n",
       "    </tr>\n",
       "    <tr>\n",
       "      <th>2022-01-13 15:31:00</th>\n",
       "      <td>9</td>\n",
       "      <td>38466.05</td>\n",
       "      <td>38466.05</td>\n",
       "      <td>38466.05</td>\n",
       "      <td>unknown</td>\n",
       "      <td>unknown</td>\n",
       "    </tr>\n",
       "    <tr>\n",
       "      <th>2022-01-13 15:32:00</th>\n",
       "      <td>9</td>\n",
       "      <td>38469.95</td>\n",
       "      <td>38469.95</td>\n",
       "      <td>38469.95</td>\n",
       "      <td>unknown</td>\n",
       "      <td>unknown</td>\n",
       "    </tr>\n",
       "  </tbody>\n",
       "</table>\n",
       "<p>1105219 rows × 6 columns</p>\n",
       "</div>"
      ],
      "text/plain": [
       "                     open      high       low     close label_-15_1min_close  \\\n",
       "2010-03-02 09:01:00     1   8856.95   8826.90   8839.80               40to60   \n",
       "2010-03-02 09:02:00     1   8853.90   8832.80   8852.30               40to60   \n",
       "2010-03-02 09:03:00     1   8855.70   8844.65   8846.65               40to60   \n",
       "2010-03-02 09:04:00     1   8850.70   8843.75   8846.70               40to60   \n",
       "2010-03-02 09:05:00     1   8846.40   8837.75   8841.60               60to80   \n",
       "...                   ...       ...       ...       ...                  ...   \n",
       "2022-01-13 15:28:00     9  38469.15  38459.45  38467.20              unknown   \n",
       "2022-01-13 15:29:00     9  38479.85  38456.65  38456.65              unknown   \n",
       "2022-01-13 15:30:00     9  38471.55  38455.15  38465.70              unknown   \n",
       "2022-01-13 15:31:00     9  38466.05  38466.05  38466.05              unknown   \n",
       "2022-01-13 15:32:00     9  38469.95  38469.95  38469.95              unknown   \n",
       "\n",
       "                    label_-30_1min_close  \n",
       "2010-03-02 09:01:00               40to60  \n",
       "2010-03-02 09:02:00               20to40  \n",
       "2010-03-02 09:03:00               40to60  \n",
       "2010-03-02 09:04:00               20to40  \n",
       "2010-03-02 09:05:00               40to60  \n",
       "...                                  ...  \n",
       "2022-01-13 15:28:00              unknown  \n",
       "2022-01-13 15:29:00              unknown  \n",
       "2022-01-13 15:30:00              unknown  \n",
       "2022-01-13 15:31:00              unknown  \n",
       "2022-01-13 15:32:00              unknown  \n",
       "\n",
       "[1105219 rows x 6 columns]"
      ]
     },
     "execution_count": 9,
     "metadata": {},
     "output_type": "execute_result"
    }
   ],
   "source": [
    "obj = EqualWidthDiscretiser(variables=['open'], bins=10, return_object=False, return_boundaries=False)\n",
    "obj.fit(base_df.fillna(0)).transform(base_df)"
   ]
  },
  {
   "cell_type": "code",
   "execution_count": 8,
   "metadata": {},
   "outputs": [
    {
     "data": {
      "text/plain": [
       "{'memory': None,\n",
       " 'steps': [('labelgenerator_1', LabelCreator()),\n",
       "  ('labelgenerator_2', LabelCreator(shift=-30)),\n",
       "  ('technical', TechnicalIndicator())],\n",
       " 'verbose': False,\n",
       " 'labelgenerator_1': LabelCreator(),\n",
       " 'labelgenerator_2': LabelCreator(shift=-30),\n",
       " 'technical': TechnicalIndicator(),\n",
       " 'labelgenerator_1__freq': '1min',\n",
       " 'labelgenerator_1__shift': -15,\n",
       " 'labelgenerator_1__shift_column': 'close',\n",
       " 'labelgenerator_2__freq': '1min',\n",
       " 'labelgenerator_2__shift': -30,\n",
       " 'labelgenerator_2__shift_column': 'close'}"
      ]
     },
     "execution_count": 8,
     "metadata": {},
     "output_type": "execute_result"
    }
   ],
   "source": [
    "pipe.get_params()"
   ]
  },
  {
   "cell_type": "code",
   "execution_count": 9,
   "metadata": {},
   "outputs": [
    {
     "data": {
      "text/plain": [
       "Pipeline(steps=[('labelgenerator_1', LabelCreator()),\n",
       "                ('labelgenerator_2', LabelCreator(shift=-30)),\n",
       "                ('technical', TechnicalIndicator())])"
      ]
     },
     "execution_count": 9,
     "metadata": {},
     "output_type": "execute_result"
    }
   ],
   "source": [
    "pipe.set_params()"
   ]
  },
  {
   "cell_type": "code",
   "execution_count": 10,
   "metadata": {},
   "outputs": [],
   "source": [
    "from feature_engine.discretisation import EqualWidthDiscretiser\n",
    "from feature_engine.imputation import MeanMedianImputer"
   ]
  },
  {
   "cell_type": "code",
   "execution_count": 11,
   "metadata": {},
   "outputs": [
    {
     "data": {
      "text/plain": [
       "Index(['open', 'high', 'low', 'close', 'label_-15_1min_close',\n",
       "       'label_-30_1min_close', 'momentum_ADX', 'momentum_ADXR', 'momentum_APO',\n",
       "       'momentum_BOP',\n",
       "       ...\n",
       "       'overlap_double_exp_moving_avg', 'overlap_exp_moving_avg',\n",
       "       'overlap_hilbert_transform', 'overlap_kaufman_adaptive_moving_avg',\n",
       "       'overlap_moving_avg', 'overlap_midpoint', 'overlap_midpoint_price',\n",
       "       'overlap_simple_moving_avg', 'overlap_triangular_moving_average',\n",
       "       'overlap_weighted_moving_average'],\n",
       "      dtype='object', length=141)"
      ]
     },
     "execution_count": 11,
     "metadata": {},
     "output_type": "execute_result"
    }
   ],
   "source": [
    "base_df.columns"
   ]
  },
  {
   "cell_type": "code",
   "execution_count": 12,
   "metadata": {},
   "outputs": [
    {
     "ename": "ValueError",
     "evalue": "Some of the variables to transform contain inf values. Check and remove those before using this transformer.",
     "output_type": "error",
     "traceback": [
      "\u001b[1;31m---------------------------------------------------------------------------\u001b[0m",
      "\u001b[1;31mValueError\u001b[0m                                Traceback (most recent call last)",
      "\u001b[1;32m<ipython-input-12-ce9485cf70e6>\u001b[0m in \u001b[0;36m<module>\u001b[1;34m\u001b[0m\n\u001b[0;32m      1\u001b[0m \u001b[0mobj\u001b[0m \u001b[1;33m=\u001b[0m \u001b[0mEqualWidthDiscretiser\u001b[0m\u001b[1;33m(\u001b[0m\u001b[0mvariables\u001b[0m\u001b[1;33m=\u001b[0m\u001b[1;32mNone\u001b[0m\u001b[1;33m,\u001b[0m \u001b[0mbins\u001b[0m\u001b[1;33m=\u001b[0m\u001b[1;36m10\u001b[0m\u001b[1;33m,\u001b[0m \u001b[0mreturn_object\u001b[0m\u001b[1;33m=\u001b[0m\u001b[1;32mFalse\u001b[0m\u001b[1;33m,\u001b[0m \u001b[0mreturn_boundaries\u001b[0m\u001b[1;33m=\u001b[0m\u001b[1;32mFalse\u001b[0m\u001b[1;33m)\u001b[0m\u001b[1;33m\u001b[0m\u001b[1;33m\u001b[0m\u001b[0m\n\u001b[1;32m----> 2\u001b[1;33m \u001b[0mbase_df\u001b[0m\u001b[1;33m[\u001b[0m\u001b[1;34m'overlap_exp_moving_avg_1'\u001b[0m\u001b[1;33m]\u001b[0m \u001b[1;33m=\u001b[0m \u001b[0mobj\u001b[0m\u001b[1;33m.\u001b[0m\u001b[0mfit\u001b[0m\u001b[1;33m(\u001b[0m\u001b[0mbase_df\u001b[0m\u001b[1;33m.\u001b[0m\u001b[0mfillna\u001b[0m\u001b[1;33m(\u001b[0m\u001b[1;36m0\u001b[0m\u001b[1;33m)\u001b[0m\u001b[1;33m)\u001b[0m\u001b[1;33m.\u001b[0m\u001b[0mtransform\u001b[0m\u001b[1;33m(\u001b[0m\u001b[0mbase_df\u001b[0m\u001b[1;33m[\u001b[0m\u001b[1;34m'overlap_exp_moving_avg'\u001b[0m\u001b[1;33m]\u001b[0m\u001b[1;33m)\u001b[0m\u001b[1;33m\u001b[0m\u001b[1;33m\u001b[0m\u001b[0m\n\u001b[0m",
      "\u001b[1;32m~\\.conda\\envs\\ee\\lib\\site-packages\\feature_engine\\discretisation\\equal_width.py\u001b[0m in \u001b[0;36mfit\u001b[1;34m(self, X, y)\u001b[0m\n\u001b[0;32m    118\u001b[0m \u001b[1;33m\u001b[0m\u001b[0m\n\u001b[0;32m    119\u001b[0m         \u001b[1;31m# check input dataframe\u001b[0m\u001b[1;33m\u001b[0m\u001b[1;33m\u001b[0m\u001b[1;33m\u001b[0m\u001b[0m\n\u001b[1;32m--> 120\u001b[1;33m         \u001b[0mX\u001b[0m \u001b[1;33m=\u001b[0m \u001b[0msuper\u001b[0m\u001b[1;33m(\u001b[0m\u001b[1;33m)\u001b[0m\u001b[1;33m.\u001b[0m\u001b[0mfit\u001b[0m\u001b[1;33m(\u001b[0m\u001b[0mX\u001b[0m\u001b[1;33m,\u001b[0m \u001b[0my\u001b[0m\u001b[1;33m)\u001b[0m\u001b[1;33m\u001b[0m\u001b[1;33m\u001b[0m\u001b[0m\n\u001b[0m\u001b[0;32m    121\u001b[0m \u001b[1;33m\u001b[0m\u001b[0m\n\u001b[0;32m    122\u001b[0m         \u001b[1;31m# fit\u001b[0m\u001b[1;33m\u001b[0m\u001b[1;33m\u001b[0m\u001b[1;33m\u001b[0m\u001b[0m\n",
      "\u001b[1;32m~\\.conda\\envs\\ee\\lib\\site-packages\\feature_engine\\base_transformers.py\u001b[0m in \u001b[0;36mfit\u001b[1;34m(self, X, y)\u001b[0m\n\u001b[0;32m    100\u001b[0m         \u001b[1;31m# check if dataset contains na or inf\u001b[0m\u001b[1;33m\u001b[0m\u001b[1;33m\u001b[0m\u001b[1;33m\u001b[0m\u001b[0m\n\u001b[0;32m    101\u001b[0m         \u001b[0m_check_contains_na\u001b[0m\u001b[1;33m(\u001b[0m\u001b[0mX\u001b[0m\u001b[1;33m,\u001b[0m \u001b[0mself\u001b[0m\u001b[1;33m.\u001b[0m\u001b[0mvariables_\u001b[0m\u001b[1;33m)\u001b[0m\u001b[1;33m\u001b[0m\u001b[1;33m\u001b[0m\u001b[0m\n\u001b[1;32m--> 102\u001b[1;33m         \u001b[0m_check_contains_inf\u001b[0m\u001b[1;33m(\u001b[0m\u001b[0mX\u001b[0m\u001b[1;33m,\u001b[0m \u001b[0mself\u001b[0m\u001b[1;33m.\u001b[0m\u001b[0mvariables_\u001b[0m\u001b[1;33m)\u001b[0m\u001b[1;33m\u001b[0m\u001b[1;33m\u001b[0m\u001b[0m\n\u001b[0m\u001b[0;32m    103\u001b[0m \u001b[1;33m\u001b[0m\u001b[0m\n\u001b[0;32m    104\u001b[0m         \u001b[1;32mreturn\u001b[0m \u001b[0mX\u001b[0m\u001b[1;33m\u001b[0m\u001b[1;33m\u001b[0m\u001b[0m\n",
      "\u001b[1;32m~\\.conda\\envs\\ee\\lib\\site-packages\\feature_engine\\dataframe_checks.py\u001b[0m in \u001b[0;36m_check_contains_inf\u001b[1;34m(X, variables)\u001b[0m\n\u001b[0;32m    126\u001b[0m \u001b[1;33m\u001b[0m\u001b[0m\n\u001b[0;32m    127\u001b[0m     \u001b[1;32mif\u001b[0m \u001b[0mnp\u001b[0m\u001b[1;33m.\u001b[0m\u001b[0misinf\u001b[0m\u001b[1;33m(\u001b[0m\u001b[0mX\u001b[0m\u001b[1;33m[\u001b[0m\u001b[0mvariables\u001b[0m\u001b[1;33m]\u001b[0m\u001b[1;33m)\u001b[0m\u001b[1;33m.\u001b[0m\u001b[0mvalues\u001b[0m\u001b[1;33m.\u001b[0m\u001b[0many\u001b[0m\u001b[1;33m(\u001b[0m\u001b[1;33m)\u001b[0m\u001b[1;33m:\u001b[0m\u001b[1;33m\u001b[0m\u001b[1;33m\u001b[0m\u001b[0m\n\u001b[1;32m--> 128\u001b[1;33m         raise ValueError(\n\u001b[0m\u001b[0;32m    129\u001b[0m             \u001b[1;34m\"Some of the variables to transform contain inf values. Check and \"\u001b[0m\u001b[1;33m\u001b[0m\u001b[1;33m\u001b[0m\u001b[0m\n\u001b[0;32m    130\u001b[0m             \u001b[1;34m\"remove those before using this transformer.\"\u001b[0m\u001b[1;33m\u001b[0m\u001b[1;33m\u001b[0m\u001b[0m\n",
      "\u001b[1;31mValueError\u001b[0m: Some of the variables to transform contain inf values. Check and remove those before using this transformer."
     ]
    }
   ],
   "source": []
  },
  {
   "cell_type": "code",
   "execution_count": 29,
   "metadata": {},
   "outputs": [
    {
     "name": "stderr",
     "output_type": "stream",
     "text": [
      "<ipython-input-29-402c5888b12e>:10: RuntimeWarning: invalid value encountered in greater\n",
      "  base_df['new'] = (arr[:, :-1] > arr[:, [-1]]).sum(axis=1)\n"
     ]
    }
   ],
   "source": [
    "n = 2\n",
    "x = np.concatenate([[np.nan] * (n), base_df['close'].values])\n",
    "\n",
    "def rolling_window(a, window):\n",
    "    shape = a.shape[:-1] + (a.shape[-1] - window + 1, window)\n",
    "    strides = a.strides + (a.strides[-1],)\n",
    "    return np.lib.stride_tricks.as_strided(a, shape=shape, strides=strides)\n",
    "arr = rolling_window(x, n + 1)\n",
    "\n",
    "base_df['new'] = (arr[:, :-1] > arr[:, [-1]]).sum(axis=1)"
   ]
  },
  {
   "cell_type": "code",
   "execution_count": 31,
   "metadata": {},
   "outputs": [
    {
     "data": {
      "text/html": [
       "<div>\n",
       "<style scoped>\n",
       "    .dataframe tbody tr th:only-of-type {\n",
       "        vertical-align: middle;\n",
       "    }\n",
       "\n",
       "    .dataframe tbody tr th {\n",
       "        vertical-align: top;\n",
       "    }\n",
       "\n",
       "    .dataframe thead th {\n",
       "        text-align: right;\n",
       "    }\n",
       "</style>\n",
       "<table border=\"1\" class=\"dataframe\">\n",
       "  <thead>\n",
       "    <tr style=\"text-align: right;\">\n",
       "      <th></th>\n",
       "      <th>open</th>\n",
       "      <th>high</th>\n",
       "      <th>low</th>\n",
       "      <th>close</th>\n",
       "      <th>label_-15_1min_close</th>\n",
       "      <th>label_-30_1min_close</th>\n",
       "      <th>new</th>\n",
       "    </tr>\n",
       "  </thead>\n",
       "  <tbody>\n",
       "    <tr>\n",
       "      <th>2010-03-02 09:01:00</th>\n",
       "      <td>8826.90</td>\n",
       "      <td>8856.95</td>\n",
       "      <td>8826.90</td>\n",
       "      <td>8839.80</td>\n",
       "      <td>40to60</td>\n",
       "      <td>40to60</td>\n",
       "      <td>0</td>\n",
       "    </tr>\n",
       "    <tr>\n",
       "      <th>2010-03-02 09:02:00</th>\n",
       "      <td>8840.75</td>\n",
       "      <td>8853.90</td>\n",
       "      <td>8832.80</td>\n",
       "      <td>8852.30</td>\n",
       "      <td>40to60</td>\n",
       "      <td>20to40</td>\n",
       "      <td>0</td>\n",
       "    </tr>\n",
       "    <tr>\n",
       "      <th>2010-03-02 09:03:00</th>\n",
       "      <td>8855.70</td>\n",
       "      <td>8855.70</td>\n",
       "      <td>8844.65</td>\n",
       "      <td>8846.65</td>\n",
       "      <td>40to60</td>\n",
       "      <td>40to60</td>\n",
       "      <td>1</td>\n",
       "    </tr>\n",
       "    <tr>\n",
       "      <th>2010-03-02 09:04:00</th>\n",
       "      <td>8843.85</td>\n",
       "      <td>8850.70</td>\n",
       "      <td>8843.75</td>\n",
       "      <td>8846.70</td>\n",
       "      <td>40to60</td>\n",
       "      <td>20to40</td>\n",
       "      <td>1</td>\n",
       "    </tr>\n",
       "    <tr>\n",
       "      <th>2010-03-02 09:05:00</th>\n",
       "      <td>8846.40</td>\n",
       "      <td>8846.40</td>\n",
       "      <td>8837.75</td>\n",
       "      <td>8841.60</td>\n",
       "      <td>60to80</td>\n",
       "      <td>40to60</td>\n",
       "      <td>2</td>\n",
       "    </tr>\n",
       "    <tr>\n",
       "      <th>...</th>\n",
       "      <td>...</td>\n",
       "      <td>...</td>\n",
       "      <td>...</td>\n",
       "      <td>...</td>\n",
       "      <td>...</td>\n",
       "      <td>...</td>\n",
       "      <td>...</td>\n",
       "    </tr>\n",
       "    <tr>\n",
       "      <th>2022-01-13 15:28:00</th>\n",
       "      <td>38464.35</td>\n",
       "      <td>38469.15</td>\n",
       "      <td>38459.45</td>\n",
       "      <td>38467.20</td>\n",
       "      <td>unknown</td>\n",
       "      <td>unknown</td>\n",
       "      <td>1</td>\n",
       "    </tr>\n",
       "    <tr>\n",
       "      <th>2022-01-13 15:29:00</th>\n",
       "      <td>38469.00</td>\n",
       "      <td>38479.85</td>\n",
       "      <td>38456.65</td>\n",
       "      <td>38456.65</td>\n",
       "      <td>unknown</td>\n",
       "      <td>unknown</td>\n",
       "      <td>2</td>\n",
       "    </tr>\n",
       "    <tr>\n",
       "      <th>2022-01-13 15:30:00</th>\n",
       "      <td>38464.05</td>\n",
       "      <td>38471.55</td>\n",
       "      <td>38455.15</td>\n",
       "      <td>38465.70</td>\n",
       "      <td>unknown</td>\n",
       "      <td>unknown</td>\n",
       "      <td>1</td>\n",
       "    </tr>\n",
       "    <tr>\n",
       "      <th>2022-01-13 15:31:00</th>\n",
       "      <td>38466.05</td>\n",
       "      <td>38466.05</td>\n",
       "      <td>38466.05</td>\n",
       "      <td>38466.05</td>\n",
       "      <td>unknown</td>\n",
       "      <td>unknown</td>\n",
       "      <td>0</td>\n",
       "    </tr>\n",
       "    <tr>\n",
       "      <th>2022-01-13 15:32:00</th>\n",
       "      <td>38469.95</td>\n",
       "      <td>38469.95</td>\n",
       "      <td>38469.95</td>\n",
       "      <td>38469.95</td>\n",
       "      <td>unknown</td>\n",
       "      <td>unknown</td>\n",
       "      <td>0</td>\n",
       "    </tr>\n",
       "  </tbody>\n",
       "</table>\n",
       "<p>1105219 rows × 7 columns</p>\n",
       "</div>"
      ],
      "text/plain": [
       "                         open      high       low     close  \\\n",
       "2010-03-02 09:01:00   8826.90   8856.95   8826.90   8839.80   \n",
       "2010-03-02 09:02:00   8840.75   8853.90   8832.80   8852.30   \n",
       "2010-03-02 09:03:00   8855.70   8855.70   8844.65   8846.65   \n",
       "2010-03-02 09:04:00   8843.85   8850.70   8843.75   8846.70   \n",
       "2010-03-02 09:05:00   8846.40   8846.40   8837.75   8841.60   \n",
       "...                       ...       ...       ...       ...   \n",
       "2022-01-13 15:28:00  38464.35  38469.15  38459.45  38467.20   \n",
       "2022-01-13 15:29:00  38469.00  38479.85  38456.65  38456.65   \n",
       "2022-01-13 15:30:00  38464.05  38471.55  38455.15  38465.70   \n",
       "2022-01-13 15:31:00  38466.05  38466.05  38466.05  38466.05   \n",
       "2022-01-13 15:32:00  38469.95  38469.95  38469.95  38469.95   \n",
       "\n",
       "                    label_-15_1min_close label_-30_1min_close  new  \n",
       "2010-03-02 09:01:00               40to60               40to60    0  \n",
       "2010-03-02 09:02:00               40to60               20to40    0  \n",
       "2010-03-02 09:03:00               40to60               40to60    1  \n",
       "2010-03-02 09:04:00               40to60               20to40    1  \n",
       "2010-03-02 09:05:00               60to80               40to60    2  \n",
       "...                                  ...                  ...  ...  \n",
       "2022-01-13 15:28:00              unknown              unknown    1  \n",
       "2022-01-13 15:29:00              unknown              unknown    2  \n",
       "2022-01-13 15:30:00              unknown              unknown    1  \n",
       "2022-01-13 15:31:00              unknown              unknown    0  \n",
       "2022-01-13 15:32:00              unknown              unknown    0  \n",
       "\n",
       "[1105219 rows x 7 columns]"
      ]
     },
     "execution_count": 31,
     "metadata": {},
     "output_type": "execute_result"
    }
   ],
   "source": [
    "base_df"
   ]
  },
  {
   "cell_type": "code",
   "execution_count": 34,
   "metadata": {},
   "outputs": [
    {
     "ename": "ValueError",
     "evalue": "Cannot convert non-finite values (NA or inf) to integer",
     "output_type": "error",
     "traceback": [
      "\u001b[1;31m---------------------------------------------------------------------------\u001b[0m",
      "\u001b[1;31mValueError\u001b[0m                                Traceback (most recent call last)",
      "\u001b[1;32m<ipython-input-34-a8efeea36554>\u001b[0m in \u001b[0;36m<module>\u001b[1;34m\u001b[0m\n\u001b[0;32m      1\u001b[0m \u001b[0mlast_ticks\u001b[0m \u001b[1;33m=\u001b[0m \u001b[1;36m2\u001b[0m\u001b[1;33m\u001b[0m\u001b[1;33m\u001b[0m\u001b[0m\n\u001b[0;32m      2\u001b[0m \u001b[0mbase_df\u001b[0m \u001b[1;33m=\u001b[0m \u001b[0mbase_df\u001b[0m\u001b[1;33m.\u001b[0m\u001b[0mreplace\u001b[0m\u001b[1;33m(\u001b[0m\u001b[1;33m[\u001b[0m\u001b[0mnp\u001b[0m\u001b[1;33m.\u001b[0m\u001b[0minf\u001b[0m\u001b[1;33m,\u001b[0m \u001b[1;33m-\u001b[0m\u001b[0mnp\u001b[0m\u001b[1;33m.\u001b[0m\u001b[0minf\u001b[0m\u001b[1;33m]\u001b[0m\u001b[1;33m,\u001b[0m \u001b[0mnp\u001b[0m\u001b[1;33m.\u001b[0m\u001b[0mnan\u001b[0m\u001b[1;33m)\u001b[0m\u001b[1;33m.\u001b[0m\u001b[0mdropna\u001b[0m\u001b[1;33m(\u001b[0m\u001b[0msubset\u001b[0m\u001b[1;33m=\u001b[0m\u001b[1;33m[\u001b[0m\u001b[1;34m\"close\"\u001b[0m\u001b[1;33m]\u001b[0m\u001b[1;33m,\u001b[0m \u001b[0mhow\u001b[0m\u001b[1;33m=\u001b[0m\u001b[1;34m\"all\"\u001b[0m\u001b[1;33m)\u001b[0m\u001b[1;33m\u001b[0m\u001b[1;33m\u001b[0m\u001b[0m\n\u001b[1;32m----> 3\u001b[1;33m base_df['new1'] = (base_df['close'].rolling(last_ticks+1, min_periods=1)\n\u001b[0m\u001b[0;32m      4\u001b[0m                         \u001b[1;33m.\u001b[0m\u001b[0mapply\u001b[0m\u001b[1;33m(\u001b[0m\u001b[1;32mlambda\u001b[0m \u001b[0mx\u001b[0m\u001b[1;33m:\u001b[0m \u001b[1;33m(\u001b[0m\u001b[0mx\u001b[0m\u001b[1;33m[\u001b[0m\u001b[1;33m-\u001b[0m\u001b[1;36m1\u001b[0m\u001b[1;33m]\u001b[0m \u001b[1;33m>\u001b[0m \u001b[0mx\u001b[0m\u001b[1;33m[\u001b[0m\u001b[1;33m:\u001b[0m\u001b[1;33m-\u001b[0m\u001b[1;36m1\u001b[0m\u001b[1;33m]\u001b[0m\u001b[1;33m)\u001b[0m\u001b[1;33m.\u001b[0m\u001b[0mmean\u001b[0m\u001b[1;33m(\u001b[0m\u001b[1;33m)\u001b[0m\u001b[1;33m)\u001b[0m\u001b[1;33m\u001b[0m\u001b[1;33m\u001b[0m\u001b[0m\n\u001b[0;32m      5\u001b[0m                         .astype(int))\n",
      "\u001b[1;32m~\\.conda\\envs\\ee\\lib\\site-packages\\pandas\\core\\generic.py\u001b[0m in \u001b[0;36mastype\u001b[1;34m(self, dtype, copy, errors)\u001b[0m\n\u001b[0;32m   5696\u001b[0m         \u001b[1;32melse\u001b[0m\u001b[1;33m:\u001b[0m\u001b[1;33m\u001b[0m\u001b[1;33m\u001b[0m\u001b[0m\n\u001b[0;32m   5697\u001b[0m             \u001b[1;31m# else, only a single dtype is given\u001b[0m\u001b[1;33m\u001b[0m\u001b[1;33m\u001b[0m\u001b[1;33m\u001b[0m\u001b[0m\n\u001b[1;32m-> 5698\u001b[1;33m             \u001b[0mnew_data\u001b[0m \u001b[1;33m=\u001b[0m \u001b[0mself\u001b[0m\u001b[1;33m.\u001b[0m\u001b[0m_data\u001b[0m\u001b[1;33m.\u001b[0m\u001b[0mastype\u001b[0m\u001b[1;33m(\u001b[0m\u001b[0mdtype\u001b[0m\u001b[1;33m=\u001b[0m\u001b[0mdtype\u001b[0m\u001b[1;33m,\u001b[0m \u001b[0mcopy\u001b[0m\u001b[1;33m=\u001b[0m\u001b[0mcopy\u001b[0m\u001b[1;33m,\u001b[0m \u001b[0merrors\u001b[0m\u001b[1;33m=\u001b[0m\u001b[0merrors\u001b[0m\u001b[1;33m)\u001b[0m\u001b[1;33m\u001b[0m\u001b[1;33m\u001b[0m\u001b[0m\n\u001b[0m\u001b[0;32m   5699\u001b[0m             \u001b[1;32mreturn\u001b[0m \u001b[0mself\u001b[0m\u001b[1;33m.\u001b[0m\u001b[0m_constructor\u001b[0m\u001b[1;33m(\u001b[0m\u001b[0mnew_data\u001b[0m\u001b[1;33m)\u001b[0m\u001b[1;33m.\u001b[0m\u001b[0m__finalize__\u001b[0m\u001b[1;33m(\u001b[0m\u001b[0mself\u001b[0m\u001b[1;33m)\u001b[0m\u001b[1;33m\u001b[0m\u001b[1;33m\u001b[0m\u001b[0m\n\u001b[0;32m   5700\u001b[0m \u001b[1;33m\u001b[0m\u001b[0m\n",
      "\u001b[1;32m~\\.conda\\envs\\ee\\lib\\site-packages\\pandas\\core\\internals\\managers.py\u001b[0m in \u001b[0;36mastype\u001b[1;34m(self, dtype, copy, errors)\u001b[0m\n\u001b[0;32m    580\u001b[0m \u001b[1;33m\u001b[0m\u001b[0m\n\u001b[0;32m    581\u001b[0m     \u001b[1;32mdef\u001b[0m \u001b[0mastype\u001b[0m\u001b[1;33m(\u001b[0m\u001b[0mself\u001b[0m\u001b[1;33m,\u001b[0m \u001b[0mdtype\u001b[0m\u001b[1;33m,\u001b[0m \u001b[0mcopy\u001b[0m\u001b[1;33m:\u001b[0m \u001b[0mbool\u001b[0m \u001b[1;33m=\u001b[0m \u001b[1;32mFalse\u001b[0m\u001b[1;33m,\u001b[0m \u001b[0merrors\u001b[0m\u001b[1;33m:\u001b[0m \u001b[0mstr\u001b[0m \u001b[1;33m=\u001b[0m \u001b[1;34m\"raise\"\u001b[0m\u001b[1;33m)\u001b[0m\u001b[1;33m:\u001b[0m\u001b[1;33m\u001b[0m\u001b[1;33m\u001b[0m\u001b[0m\n\u001b[1;32m--> 582\u001b[1;33m         \u001b[1;32mreturn\u001b[0m \u001b[0mself\u001b[0m\u001b[1;33m.\u001b[0m\u001b[0mapply\u001b[0m\u001b[1;33m(\u001b[0m\u001b[1;34m\"astype\"\u001b[0m\u001b[1;33m,\u001b[0m \u001b[0mdtype\u001b[0m\u001b[1;33m=\u001b[0m\u001b[0mdtype\u001b[0m\u001b[1;33m,\u001b[0m \u001b[0mcopy\u001b[0m\u001b[1;33m=\u001b[0m\u001b[0mcopy\u001b[0m\u001b[1;33m,\u001b[0m \u001b[0merrors\u001b[0m\u001b[1;33m=\u001b[0m\u001b[0merrors\u001b[0m\u001b[1;33m)\u001b[0m\u001b[1;33m\u001b[0m\u001b[1;33m\u001b[0m\u001b[0m\n\u001b[0m\u001b[0;32m    583\u001b[0m \u001b[1;33m\u001b[0m\u001b[0m\n\u001b[0;32m    584\u001b[0m     \u001b[1;32mdef\u001b[0m \u001b[0mconvert\u001b[0m\u001b[1;33m(\u001b[0m\u001b[0mself\u001b[0m\u001b[1;33m,\u001b[0m \u001b[1;33m**\u001b[0m\u001b[0mkwargs\u001b[0m\u001b[1;33m)\u001b[0m\u001b[1;33m:\u001b[0m\u001b[1;33m\u001b[0m\u001b[1;33m\u001b[0m\u001b[0m\n",
      "\u001b[1;32m~\\.conda\\envs\\ee\\lib\\site-packages\\pandas\\core\\internals\\managers.py\u001b[0m in \u001b[0;36mapply\u001b[1;34m(self, f, filter, **kwargs)\u001b[0m\n\u001b[0;32m    440\u001b[0m                 \u001b[0mapplied\u001b[0m \u001b[1;33m=\u001b[0m \u001b[0mb\u001b[0m\u001b[1;33m.\u001b[0m\u001b[0mapply\u001b[0m\u001b[1;33m(\u001b[0m\u001b[0mf\u001b[0m\u001b[1;33m,\u001b[0m \u001b[1;33m**\u001b[0m\u001b[0mkwargs\u001b[0m\u001b[1;33m)\u001b[0m\u001b[1;33m\u001b[0m\u001b[1;33m\u001b[0m\u001b[0m\n\u001b[0;32m    441\u001b[0m             \u001b[1;32melse\u001b[0m\u001b[1;33m:\u001b[0m\u001b[1;33m\u001b[0m\u001b[1;33m\u001b[0m\u001b[0m\n\u001b[1;32m--> 442\u001b[1;33m                 \u001b[0mapplied\u001b[0m \u001b[1;33m=\u001b[0m \u001b[0mgetattr\u001b[0m\u001b[1;33m(\u001b[0m\u001b[0mb\u001b[0m\u001b[1;33m,\u001b[0m \u001b[0mf\u001b[0m\u001b[1;33m)\u001b[0m\u001b[1;33m(\u001b[0m\u001b[1;33m**\u001b[0m\u001b[0mkwargs\u001b[0m\u001b[1;33m)\u001b[0m\u001b[1;33m\u001b[0m\u001b[1;33m\u001b[0m\u001b[0m\n\u001b[0m\u001b[0;32m    443\u001b[0m             \u001b[0mresult_blocks\u001b[0m \u001b[1;33m=\u001b[0m \u001b[0m_extend_blocks\u001b[0m\u001b[1;33m(\u001b[0m\u001b[0mapplied\u001b[0m\u001b[1;33m,\u001b[0m \u001b[0mresult_blocks\u001b[0m\u001b[1;33m)\u001b[0m\u001b[1;33m\u001b[0m\u001b[1;33m\u001b[0m\u001b[0m\n\u001b[0;32m    444\u001b[0m \u001b[1;33m\u001b[0m\u001b[0m\n",
      "\u001b[1;32m~\\.conda\\envs\\ee\\lib\\site-packages\\pandas\\core\\internals\\blocks.py\u001b[0m in \u001b[0;36mastype\u001b[1;34m(self, dtype, copy, errors)\u001b[0m\n\u001b[0;32m    623\u001b[0m             \u001b[0mvals1d\u001b[0m \u001b[1;33m=\u001b[0m \u001b[0mvalues\u001b[0m\u001b[1;33m.\u001b[0m\u001b[0mravel\u001b[0m\u001b[1;33m(\u001b[0m\u001b[1;33m)\u001b[0m\u001b[1;33m\u001b[0m\u001b[1;33m\u001b[0m\u001b[0m\n\u001b[0;32m    624\u001b[0m             \u001b[1;32mtry\u001b[0m\u001b[1;33m:\u001b[0m\u001b[1;33m\u001b[0m\u001b[1;33m\u001b[0m\u001b[0m\n\u001b[1;32m--> 625\u001b[1;33m                 \u001b[0mvalues\u001b[0m \u001b[1;33m=\u001b[0m \u001b[0mastype_nansafe\u001b[0m\u001b[1;33m(\u001b[0m\u001b[0mvals1d\u001b[0m\u001b[1;33m,\u001b[0m \u001b[0mdtype\u001b[0m\u001b[1;33m,\u001b[0m \u001b[0mcopy\u001b[0m\u001b[1;33m=\u001b[0m\u001b[1;32mTrue\u001b[0m\u001b[1;33m)\u001b[0m\u001b[1;33m\u001b[0m\u001b[1;33m\u001b[0m\u001b[0m\n\u001b[0m\u001b[0;32m    626\u001b[0m             \u001b[1;32mexcept\u001b[0m \u001b[1;33m(\u001b[0m\u001b[0mValueError\u001b[0m\u001b[1;33m,\u001b[0m \u001b[0mTypeError\u001b[0m\u001b[1;33m)\u001b[0m\u001b[1;33m:\u001b[0m\u001b[1;33m\u001b[0m\u001b[1;33m\u001b[0m\u001b[0m\n\u001b[0;32m    627\u001b[0m                 \u001b[1;31m# e.g. astype_nansafe can fail on object-dtype of strings\u001b[0m\u001b[1;33m\u001b[0m\u001b[1;33m\u001b[0m\u001b[1;33m\u001b[0m\u001b[0m\n",
      "\u001b[1;32m~\\.conda\\envs\\ee\\lib\\site-packages\\pandas\\core\\dtypes\\cast.py\u001b[0m in \u001b[0;36mastype_nansafe\u001b[1;34m(arr, dtype, copy, skipna)\u001b[0m\n\u001b[0;32m    866\u001b[0m \u001b[1;33m\u001b[0m\u001b[0m\n\u001b[0;32m    867\u001b[0m         \u001b[1;32mif\u001b[0m \u001b[1;32mnot\u001b[0m \u001b[0mnp\u001b[0m\u001b[1;33m.\u001b[0m\u001b[0misfinite\u001b[0m\u001b[1;33m(\u001b[0m\u001b[0marr\u001b[0m\u001b[1;33m)\u001b[0m\u001b[1;33m.\u001b[0m\u001b[0mall\u001b[0m\u001b[1;33m(\u001b[0m\u001b[1;33m)\u001b[0m\u001b[1;33m:\u001b[0m\u001b[1;33m\u001b[0m\u001b[1;33m\u001b[0m\u001b[0m\n\u001b[1;32m--> 868\u001b[1;33m             \u001b[1;32mraise\u001b[0m \u001b[0mValueError\u001b[0m\u001b[1;33m(\u001b[0m\u001b[1;34m\"Cannot convert non-finite values (NA or inf) to integer\"\u001b[0m\u001b[1;33m)\u001b[0m\u001b[1;33m\u001b[0m\u001b[1;33m\u001b[0m\u001b[0m\n\u001b[0m\u001b[0;32m    869\u001b[0m \u001b[1;33m\u001b[0m\u001b[0m\n\u001b[0;32m    870\u001b[0m     \u001b[1;32melif\u001b[0m \u001b[0mis_object_dtype\u001b[0m\u001b[1;33m(\u001b[0m\u001b[0marr\u001b[0m\u001b[1;33m)\u001b[0m\u001b[1;33m:\u001b[0m\u001b[1;33m\u001b[0m\u001b[1;33m\u001b[0m\u001b[0m\n",
      "\u001b[1;31mValueError\u001b[0m: Cannot convert non-finite values (NA or inf) to integer"
     ]
    }
   ],
   "source": [
    "last_ticks = 2\n",
    "base_df = base_df.replace([np.inf, -np.inf], np.nan).dropna(subset=[\"close\"], how=\"all\")\n",
    "base_df['new1'] = (base_df['close'].rolling(last_ticks+1, min_periods=1)\n",
    "                        .apply(lambda x: (x[-1] > x[:-1]).mean())\n",
    "                        .astype(int))\n",
    "base_df"
   ]
  },
  {
   "cell_type": "code",
   "execution_count": 25,
   "metadata": {},
   "outputs": [
    {
     "ename": "TypeError",
     "evalue": "cannot convert the series to <class 'float'>",
     "output_type": "error",
     "traceback": [
      "\u001b[1;31m---------------------------------------------------------------------------\u001b[0m",
      "\u001b[1;31mTypeError\u001b[0m                                 Traceback (most recent call last)",
      "\u001b[1;32m<ipython-input-25-3e22c861c1eb>\u001b[0m in \u001b[0;36m<module>\u001b[1;34m\u001b[0m\n\u001b[0;32m     12\u001b[0m     \u001b[1;32mreturn\u001b[0m \u001b[0mpd\u001b[0m\u001b[1;33m.\u001b[0m\u001b[0mcut\u001b[0m\u001b[1;33m(\u001b[0m\u001b[0mx\u001b[0m\u001b[1;33m=\u001b[0m\u001b[0ms\u001b[0m\u001b[1;33m,\u001b[0m \u001b[0mbins\u001b[0m\u001b[1;33m=\u001b[0m\u001b[0mbins\u001b[0m\u001b[1;33m,\u001b[0m \u001b[0mlabels\u001b[0m\u001b[1;33m=\u001b[0m\u001b[1;32mFalse\u001b[0m\u001b[1;33m)\u001b[0m\u001b[1;33m\u001b[0m\u001b[1;33m\u001b[0m\u001b[0m\n\u001b[0;32m     13\u001b[0m \u001b[1;33m\u001b[0m\u001b[0m\n\u001b[1;32m---> 14\u001b[1;33m \u001b[0mdf\u001b[0m\u001b[1;33m[\u001b[0m\u001b[1;34m\"a\"\u001b[0m\u001b[1;33m]\u001b[0m\u001b[1;33m.\u001b[0m\u001b[0mrolling\u001b[0m\u001b[1;33m(\u001b[0m\u001b[1;36m10\u001b[0m\u001b[1;33m)\u001b[0m\u001b[1;33m.\u001b[0m\u001b[0mapply\u001b[0m\u001b[1;33m(\u001b[0m\u001b[0mf\u001b[0m\u001b[1;33m)\u001b[0m\u001b[1;33m\u001b[0m\u001b[1;33m\u001b[0m\u001b[0m\n\u001b[0m",
      "\u001b[1;32m~\\.conda\\envs\\ee\\lib\\site-packages\\pandas\\core\\window\\rolling.py\u001b[0m in \u001b[0;36mapply\u001b[1;34m(self, func, raw, engine, engine_kwargs, args, kwargs)\u001b[0m\n\u001b[0;32m   1983\u001b[0m         \u001b[0mkwargs\u001b[0m\u001b[1;33m=\u001b[0m\u001b[1;32mNone\u001b[0m\u001b[1;33m,\u001b[0m\u001b[1;33m\u001b[0m\u001b[1;33m\u001b[0m\u001b[0m\n\u001b[0;32m   1984\u001b[0m     ):\n\u001b[1;32m-> 1985\u001b[1;33m         return super().apply(\n\u001b[0m\u001b[0;32m   1986\u001b[0m             \u001b[0mfunc\u001b[0m\u001b[1;33m,\u001b[0m\u001b[1;33m\u001b[0m\u001b[1;33m\u001b[0m\u001b[0m\n\u001b[0;32m   1987\u001b[0m             \u001b[0mraw\u001b[0m\u001b[1;33m=\u001b[0m\u001b[0mraw\u001b[0m\u001b[1;33m,\u001b[0m\u001b[1;33m\u001b[0m\u001b[1;33m\u001b[0m\u001b[0m\n",
      "\u001b[1;32m~\\.conda\\envs\\ee\\lib\\site-packages\\pandas\\core\\window\\rolling.py\u001b[0m in \u001b[0;36mapply\u001b[1;34m(self, func, raw, engine, engine_kwargs, args, kwargs)\u001b[0m\n\u001b[0;32m   1298\u001b[0m         \u001b[1;31m# TODO: Why do we always pass center=False?\u001b[0m\u001b[1;33m\u001b[0m\u001b[1;33m\u001b[0m\u001b[1;33m\u001b[0m\u001b[0m\n\u001b[0;32m   1299\u001b[0m         \u001b[1;31m# name=func & raw=raw for WindowGroupByMixin._apply\u001b[0m\u001b[1;33m\u001b[0m\u001b[1;33m\u001b[0m\u001b[1;33m\u001b[0m\u001b[0m\n\u001b[1;32m-> 1300\u001b[1;33m         return self._apply(\n\u001b[0m\u001b[0;32m   1301\u001b[0m             \u001b[0mapply_func\u001b[0m\u001b[1;33m,\u001b[0m\u001b[1;33m\u001b[0m\u001b[1;33m\u001b[0m\u001b[0m\n\u001b[0;32m   1302\u001b[0m             \u001b[0mcenter\u001b[0m\u001b[1;33m=\u001b[0m\u001b[1;32mFalse\u001b[0m\u001b[1;33m,\u001b[0m\u001b[1;33m\u001b[0m\u001b[1;33m\u001b[0m\u001b[0m\n",
      "\u001b[1;32m~\\.conda\\envs\\ee\\lib\\site-packages\\pandas\\core\\window\\rolling.py\u001b[0m in \u001b[0;36m_apply\u001b[1;34m(self, func, center, require_min_periods, floor, is_weighted, name, use_numba_cache, **kwargs)\u001b[0m\n\u001b[0;32m    505\u001b[0m                     \u001b[0mresult\u001b[0m \u001b[1;33m=\u001b[0m \u001b[0mnp\u001b[0m\u001b[1;33m.\u001b[0m\u001b[0mapply_along_axis\u001b[0m\u001b[1;33m(\u001b[0m\u001b[0mcalc\u001b[0m\u001b[1;33m,\u001b[0m \u001b[0mself\u001b[0m\u001b[1;33m.\u001b[0m\u001b[0maxis\u001b[0m\u001b[1;33m,\u001b[0m \u001b[0mvalues\u001b[0m\u001b[1;33m)\u001b[0m\u001b[1;33m\u001b[0m\u001b[1;33m\u001b[0m\u001b[0m\n\u001b[0;32m    506\u001b[0m                 \u001b[1;32melse\u001b[0m\u001b[1;33m:\u001b[0m\u001b[1;33m\u001b[0m\u001b[1;33m\u001b[0m\u001b[0m\n\u001b[1;32m--> 507\u001b[1;33m                     \u001b[0mresult\u001b[0m \u001b[1;33m=\u001b[0m \u001b[0mcalc\u001b[0m\u001b[1;33m(\u001b[0m\u001b[0mvalues\u001b[0m\u001b[1;33m)\u001b[0m\u001b[1;33m\u001b[0m\u001b[1;33m\u001b[0m\u001b[0m\n\u001b[0m\u001b[0;32m    508\u001b[0m                     \u001b[0mresult\u001b[0m \u001b[1;33m=\u001b[0m \u001b[0mnp\u001b[0m\u001b[1;33m.\u001b[0m\u001b[0masarray\u001b[0m\u001b[1;33m(\u001b[0m\u001b[0mresult\u001b[0m\u001b[1;33m)\u001b[0m\u001b[1;33m\u001b[0m\u001b[1;33m\u001b[0m\u001b[0m\n\u001b[0;32m    509\u001b[0m \u001b[1;33m\u001b[0m\u001b[0m\n",
      "\u001b[1;32m~\\.conda\\envs\\ee\\lib\\site-packages\\pandas\\core\\window\\rolling.py\u001b[0m in \u001b[0;36mcalc\u001b[1;34m(x)\u001b[0m\n\u001b[0;32m    493\u001b[0m                         \u001b[0mclosed\u001b[0m\u001b[1;33m=\u001b[0m\u001b[0mself\u001b[0m\u001b[1;33m.\u001b[0m\u001b[0mclosed\u001b[0m\u001b[1;33m,\u001b[0m\u001b[1;33m\u001b[0m\u001b[1;33m\u001b[0m\u001b[0m\n\u001b[0;32m    494\u001b[0m                     )\n\u001b[1;32m--> 495\u001b[1;33m                     \u001b[1;32mreturn\u001b[0m \u001b[0mfunc\u001b[0m\u001b[1;33m(\u001b[0m\u001b[0mx\u001b[0m\u001b[1;33m,\u001b[0m \u001b[0mstart\u001b[0m\u001b[1;33m,\u001b[0m \u001b[0mend\u001b[0m\u001b[1;33m,\u001b[0m \u001b[0mmin_periods\u001b[0m\u001b[1;33m)\u001b[0m\u001b[1;33m\u001b[0m\u001b[1;33m\u001b[0m\u001b[0m\n\u001b[0m\u001b[0;32m    496\u001b[0m \u001b[1;33m\u001b[0m\u001b[0m\n\u001b[0;32m    497\u001b[0m             \u001b[1;32melse\u001b[0m\u001b[1;33m:\u001b[0m\u001b[1;33m\u001b[0m\u001b[1;33m\u001b[0m\u001b[0m\n",
      "\u001b[1;32m~\\.conda\\envs\\ee\\lib\\site-packages\\pandas\\core\\window\\rolling.py\u001b[0m in \u001b[0;36mapply_func\u001b[1;34m(values, begin, end, min_periods, raw)\u001b[0m\n\u001b[0;32m   1322\u001b[0m             \u001b[1;32mif\u001b[0m \u001b[1;32mnot\u001b[0m \u001b[0mraw\u001b[0m\u001b[1;33m:\u001b[0m\u001b[1;33m\u001b[0m\u001b[1;33m\u001b[0m\u001b[0m\n\u001b[0;32m   1323\u001b[0m                 \u001b[0mvalues\u001b[0m \u001b[1;33m=\u001b[0m \u001b[0mSeries\u001b[0m\u001b[1;33m(\u001b[0m\u001b[0mvalues\u001b[0m\u001b[1;33m,\u001b[0m \u001b[0mindex\u001b[0m\u001b[1;33m=\u001b[0m\u001b[0mself\u001b[0m\u001b[1;33m.\u001b[0m\u001b[0mobj\u001b[0m\u001b[1;33m.\u001b[0m\u001b[0mindex\u001b[0m\u001b[1;33m)\u001b[0m\u001b[1;33m\u001b[0m\u001b[1;33m\u001b[0m\u001b[0m\n\u001b[1;32m-> 1324\u001b[1;33m             \u001b[1;32mreturn\u001b[0m \u001b[0mwindow_func\u001b[0m\u001b[1;33m(\u001b[0m\u001b[0mvalues\u001b[0m\u001b[1;33m,\u001b[0m \u001b[0mbegin\u001b[0m\u001b[1;33m,\u001b[0m \u001b[0mend\u001b[0m\u001b[1;33m,\u001b[0m \u001b[0mmin_periods\u001b[0m\u001b[1;33m)\u001b[0m\u001b[1;33m\u001b[0m\u001b[1;33m\u001b[0m\u001b[0m\n\u001b[0m\u001b[0;32m   1325\u001b[0m \u001b[1;33m\u001b[0m\u001b[0m\n\u001b[0;32m   1326\u001b[0m         \u001b[1;32mreturn\u001b[0m \u001b[0mapply_func\u001b[0m\u001b[1;33m\u001b[0m\u001b[1;33m\u001b[0m\u001b[0m\n",
      "\u001b[1;32mpandas\\_libs\\window\\aggregations.pyx\u001b[0m in \u001b[0;36mpandas._libs.window.aggregations.roll_generic_fixed\u001b[1;34m()\u001b[0m\n",
      "\u001b[1;32m~\\.conda\\envs\\ee\\lib\\site-packages\\pandas\\core\\series.py\u001b[0m in \u001b[0;36mwrapper\u001b[1;34m(self)\u001b[0m\n\u001b[0;32m    110\u001b[0m         \u001b[1;32mif\u001b[0m \u001b[0mlen\u001b[0m\u001b[1;33m(\u001b[0m\u001b[0mself\u001b[0m\u001b[1;33m)\u001b[0m \u001b[1;33m==\u001b[0m \u001b[1;36m1\u001b[0m\u001b[1;33m:\u001b[0m\u001b[1;33m\u001b[0m\u001b[1;33m\u001b[0m\u001b[0m\n\u001b[0;32m    111\u001b[0m             \u001b[1;32mreturn\u001b[0m \u001b[0mconverter\u001b[0m\u001b[1;33m(\u001b[0m\u001b[0mself\u001b[0m\u001b[1;33m.\u001b[0m\u001b[0miloc\u001b[0m\u001b[1;33m[\u001b[0m\u001b[1;36m0\u001b[0m\u001b[1;33m]\u001b[0m\u001b[1;33m)\u001b[0m\u001b[1;33m\u001b[0m\u001b[1;33m\u001b[0m\u001b[0m\n\u001b[1;32m--> 112\u001b[1;33m         \u001b[1;32mraise\u001b[0m \u001b[0mTypeError\u001b[0m\u001b[1;33m(\u001b[0m\u001b[1;34mf\"cannot convert the series to {converter}\"\u001b[0m\u001b[1;33m)\u001b[0m\u001b[1;33m\u001b[0m\u001b[1;33m\u001b[0m\u001b[0m\n\u001b[0m\u001b[0;32m    113\u001b[0m \u001b[1;33m\u001b[0m\u001b[0m\n\u001b[0;32m    114\u001b[0m     \u001b[0mwrapper\u001b[0m\u001b[1;33m.\u001b[0m\u001b[0m__name__\u001b[0m \u001b[1;33m=\u001b[0m \u001b[1;34mf\"__{converter.__name__}__\"\u001b[0m\u001b[1;33m\u001b[0m\u001b[1;33m\u001b[0m\u001b[0m\n",
      "\u001b[1;31mTypeError\u001b[0m: cannot convert the series to <class 'float'>"
     ]
    }
   ],
   "source": [
    "import numpy as np\n",
    "df = pd.DataFrame({\"a\": np.random.randint(1, high=10, size=50)})\n",
    "#print(df)\n",
    "def f(s):\n",
    "    #d = s.to_frame().groupby(pd.cut(s, np.arange(s.min(), s.max()*1.01, 1), include_lowest=True)).transform(\"count\")\n",
    "    tmp, bins = pd.cut(\n",
    "                x=s, bins=3, retbins=True, duplicates=\"drop\"\n",
    "            )\n",
    "    bins = list(bins)\n",
    "    bins[0] = float(\"-inf\")\n",
    "    bins[len(bins) - 1] = float(\"inf\")\n",
    "    return pd.cut(x=s, bins=bins, labels=False)\n",
    "\n",
    "df[\"a\"].rolling(10).apply(f)"
   ]
  },
  {
   "cell_type": "code",
   "execution_count": 21,
   "metadata": {},
   "outputs": [
    {
     "data": {
      "text/plain": [
       "array([0.992     , 3.66666667, 6.33333333, 9.        ])"
      ]
     },
     "execution_count": 21,
     "metadata": {},
     "output_type": "execute_result"
    }
   ],
   "source": [
    "tmp, bins = pd.cut(\n",
    "                x=df['a'], bins=3, retbins=True, duplicates=\"drop\"\n",
    "            )\n",
    "bins"
   ]
  },
  {
   "cell_type": "code",
   "execution_count": 22,
   "metadata": {},
   "outputs": [
    {
     "data": {
      "text/plain": [
       "[-inf, 3.6666666666666665, 6.333333333333333, inf]"
      ]
     },
     "execution_count": 22,
     "metadata": {},
     "output_type": "execute_result"
    }
   ],
   "source": [
    "bins = list(bins)\n",
    "bins[0] = float(\"-inf\")\n",
    "bins[len(bins) - 1] = float(\"inf\")\n",
    "bins"
   ]
  },
  {
   "cell_type": "code",
   "execution_count": 24,
   "metadata": {},
   "outputs": [
    {
     "data": {
      "text/plain": [
       "0     0\n",
       "1     2\n",
       "2     2\n",
       "3     2\n",
       "4     0\n",
       "5     1\n",
       "6     2\n",
       "7     2\n",
       "8     1\n",
       "9     2\n",
       "10    0\n",
       "11    0\n",
       "12    2\n",
       "13    2\n",
       "14    0\n",
       "15    1\n",
       "16    1\n",
       "17    1\n",
       "18    1\n",
       "19    0\n",
       "20    1\n",
       "21    0\n",
       "22    0\n",
       "23    2\n",
       "24    1\n",
       "25    1\n",
       "26    2\n",
       "27    2\n",
       "28    1\n",
       "29    1\n",
       "30    2\n",
       "31    0\n",
       "32    0\n",
       "33    2\n",
       "34    2\n",
       "35    1\n",
       "36    0\n",
       "37    1\n",
       "38    2\n",
       "39    0\n",
       "40    1\n",
       "41    1\n",
       "42    0\n",
       "43    0\n",
       "44    1\n",
       "45    0\n",
       "46    1\n",
       "47    2\n",
       "48    1\n",
       "49    0\n",
       "Name: a, dtype: int64"
      ]
     },
     "execution_count": 24,
     "metadata": {},
     "output_type": "execute_result"
    }
   ],
   "source": [
    "t = pd.cut(x=df['a'], bins=bins, labels=False)\n",
    "t"
   ]
  },
  {
   "cell_type": "code",
   "execution_count": 30,
   "metadata": {},
   "outputs": [
    {
     "data": {
      "text/html": [
       "<div>\n",
       "<style scoped>\n",
       "    .dataframe tbody tr th:only-of-type {\n",
       "        vertical-align: middle;\n",
       "    }\n",
       "\n",
       "    .dataframe tbody tr th {\n",
       "        vertical-align: top;\n",
       "    }\n",
       "\n",
       "    .dataframe thead th {\n",
       "        text-align: right;\n",
       "    }\n",
       "</style>\n",
       "<table border=\"1\" class=\"dataframe\">\n",
       "  <thead>\n",
       "    <tr style=\"text-align: right;\">\n",
       "      <th></th>\n",
       "      <th>A</th>\n",
       "    </tr>\n",
       "  </thead>\n",
       "  <tbody>\n",
       "    <tr>\n",
       "      <th>2018-04-09 00:00:00</th>\n",
       "      <td>0</td>\n",
       "    </tr>\n",
       "    <tr>\n",
       "      <th>2018-04-09 00:30:00</th>\n",
       "      <td>1</td>\n",
       "    </tr>\n",
       "    <tr>\n",
       "      <th>2018-04-09 01:00:00</th>\n",
       "      <td>2</td>\n",
       "    </tr>\n",
       "    <tr>\n",
       "      <th>2018-04-09 01:30:00</th>\n",
       "      <td>3</td>\n",
       "    </tr>\n",
       "    <tr>\n",
       "      <th>2018-04-09 02:00:00</th>\n",
       "      <td>4</td>\n",
       "    </tr>\n",
       "    <tr>\n",
       "      <th>...</th>\n",
       "      <td>...</td>\n",
       "    </tr>\n",
       "    <tr>\n",
       "      <th>2018-04-10 23:30:00</th>\n",
       "      <td>95</td>\n",
       "    </tr>\n",
       "    <tr>\n",
       "      <th>2018-04-11 00:00:00</th>\n",
       "      <td>96</td>\n",
       "    </tr>\n",
       "    <tr>\n",
       "      <th>2018-04-11 00:30:00</th>\n",
       "      <td>97</td>\n",
       "    </tr>\n",
       "    <tr>\n",
       "      <th>2018-04-11 01:00:00</th>\n",
       "      <td>98</td>\n",
       "    </tr>\n",
       "    <tr>\n",
       "      <th>2018-04-11 01:30:00</th>\n",
       "      <td>99</td>\n",
       "    </tr>\n",
       "  </tbody>\n",
       "</table>\n",
       "<p>100 rows × 1 columns</p>\n",
       "</div>"
      ],
      "text/plain": [
       "                      A\n",
       "2018-04-09 00:00:00   0\n",
       "2018-04-09 00:30:00   1\n",
       "2018-04-09 01:00:00   2\n",
       "2018-04-09 01:30:00   3\n",
       "2018-04-09 02:00:00   4\n",
       "...                  ..\n",
       "2018-04-10 23:30:00  95\n",
       "2018-04-11 00:00:00  96\n",
       "2018-04-11 00:30:00  97\n",
       "2018-04-11 01:00:00  98\n",
       "2018-04-11 01:30:00  99\n",
       "\n",
       "[100 rows x 1 columns]"
      ]
     },
     "execution_count": 30,
     "metadata": {},
     "output_type": "execute_result"
    }
   ],
   "source": [
    "i = pd.date_range('2018-04-09', periods=100, freq='30min')\n",
    "ts = pd.DataFrame({'A': list(range(100))}, index=i)\n",
    "ts"
   ]
  },
  {
   "cell_type": "code",
   "execution_count": 32,
   "metadata": {},
   "outputs": [
    {
     "data": {
      "text/plain": [
       "2018-04-09 09:00:00    18\n",
       "2018-04-09 09:30:00    19\n",
       "2018-04-09 10:00:00    20\n",
       "2018-04-09 10:30:00    21\n",
       "2018-04-10 09:00:00    66\n",
       "2018-04-10 09:30:00    67\n",
       "2018-04-10 10:00:00    68\n",
       "2018-04-10 10:30:00    69\n",
       "Name: A, dtype: int64"
      ]
     },
     "execution_count": 32,
     "metadata": {},
     "output_type": "execute_result"
    }
   ],
   "source": [
    "ts.between_time('09:00', '10:30')['A']"
   ]
  },
  {
   "cell_type": "code",
   "execution_count": 63,
   "metadata": {},
   "outputs": [],
   "source": [
    "from datetime import datetime\n"
   ]
  },
  {
   "cell_type": "code",
   "execution_count": 83,
   "metadata": {},
   "outputs": [
    {
     "data": {
      "text/plain": [
       "2018-04-09 10:30:00    21\n",
       "2018-04-10 10:30:00    69\n",
       "Name: A, dtype: int64"
      ]
     },
     "execution_count": 83,
     "metadata": {},
     "output_type": "execute_result"
    }
   ],
   "source": [
    "s1 = ts.between_time('09:00', '10:30').groupby(pd.Grouper(freq='d')).max() - ts.between_time('09:00', '10:30').groupby(pd.Grouper(freq='d')).min()\n",
    "s1 = ts['A'].between_time('09:00', '10:30').groupby(pd.Grouper(freq='d')).max() \n",
    "#s1.index  =str(s1.index) + '10:30:00'\t\n",
    "s1.index = pd.to_datetime(s1.index) \n",
    "s1 = s1.sort_index()\n",
    "s1.index = s1.index + pd.DateOffset(minutes=60*10.5)\n",
    "s1"
   ]
  },
  {
   "cell_type": "code",
   "execution_count": 71,
   "metadata": {},
   "outputs": [
    {
     "data": {
      "text/plain": [
       "DatetimeIndex(['2018-04-09', '2018-04-10'], dtype='datetime64[ns]', freq='D')"
      ]
     },
     "execution_count": 71,
     "metadata": {},
     "output_type": "execute_result"
    }
   ],
   "source": [
    "s1.index"
   ]
  },
  {
   "cell_type": "code",
   "execution_count": 42,
   "metadata": {},
   "outputs": [
    {
     "data": {
      "text/plain": [
       "A    int64\n",
       "dtype: object"
      ]
     },
     "execution_count": 42,
     "metadata": {},
     "output_type": "execute_result"
    }
   ],
   "source": [
    "s1.dtypes"
   ]
  },
  {
   "cell_type": "code",
   "execution_count": 84,
   "metadata": {},
   "outputs": [],
   "source": [
    "merge=pd.merge(ts,s1, how='outer', left_index=True, right_index=True)\n",
    "merge = merge.fillna(method='ffill')\n",
    "#merge"
   ]
  },
  {
   "cell_type": "code",
   "execution_count": 85,
   "metadata": {},
   "outputs": [
    {
     "data": {
      "text/html": [
       "<div>\n",
       "<style scoped>\n",
       "    .dataframe tbody tr th:only-of-type {\n",
       "        vertical-align: middle;\n",
       "    }\n",
       "\n",
       "    .dataframe tbody tr th {\n",
       "        vertical-align: top;\n",
       "    }\n",
       "\n",
       "    .dataframe thead th {\n",
       "        text-align: right;\n",
       "    }\n",
       "</style>\n",
       "<table border=\"1\" class=\"dataframe\">\n",
       "  <thead>\n",
       "    <tr style=\"text-align: right;\">\n",
       "      <th></th>\n",
       "      <th>A_x</th>\n",
       "      <th>A_y</th>\n",
       "    </tr>\n",
       "  </thead>\n",
       "  <tbody>\n",
       "    <tr>\n",
       "      <th>2018-04-09 09:00:00</th>\n",
       "      <td>18</td>\n",
       "      <td>NaN</td>\n",
       "    </tr>\n",
       "    <tr>\n",
       "      <th>2018-04-09 09:30:00</th>\n",
       "      <td>19</td>\n",
       "      <td>NaN</td>\n",
       "    </tr>\n",
       "    <tr>\n",
       "      <th>2018-04-09 10:00:00</th>\n",
       "      <td>20</td>\n",
       "      <td>NaN</td>\n",
       "    </tr>\n",
       "    <tr>\n",
       "      <th>2018-04-09 10:30:00</th>\n",
       "      <td>21</td>\n",
       "      <td>21.0</td>\n",
       "    </tr>\n",
       "    <tr>\n",
       "      <th>2018-04-09 11:00:00</th>\n",
       "      <td>22</td>\n",
       "      <td>21.0</td>\n",
       "    </tr>\n",
       "    <tr>\n",
       "      <th>2018-04-09 11:30:00</th>\n",
       "      <td>23</td>\n",
       "      <td>21.0</td>\n",
       "    </tr>\n",
       "    <tr>\n",
       "      <th>2018-04-09 12:00:00</th>\n",
       "      <td>24</td>\n",
       "      <td>21.0</td>\n",
       "    </tr>\n",
       "    <tr>\n",
       "      <th>2018-04-09 12:30:00</th>\n",
       "      <td>25</td>\n",
       "      <td>21.0</td>\n",
       "    </tr>\n",
       "    <tr>\n",
       "      <th>2018-04-10 09:00:00</th>\n",
       "      <td>66</td>\n",
       "      <td>21.0</td>\n",
       "    </tr>\n",
       "    <tr>\n",
       "      <th>2018-04-10 09:30:00</th>\n",
       "      <td>67</td>\n",
       "      <td>21.0</td>\n",
       "    </tr>\n",
       "    <tr>\n",
       "      <th>2018-04-10 10:00:00</th>\n",
       "      <td>68</td>\n",
       "      <td>21.0</td>\n",
       "    </tr>\n",
       "    <tr>\n",
       "      <th>2018-04-10 10:30:00</th>\n",
       "      <td>69</td>\n",
       "      <td>69.0</td>\n",
       "    </tr>\n",
       "    <tr>\n",
       "      <th>2018-04-10 11:00:00</th>\n",
       "      <td>70</td>\n",
       "      <td>69.0</td>\n",
       "    </tr>\n",
       "    <tr>\n",
       "      <th>2018-04-10 11:30:00</th>\n",
       "      <td>71</td>\n",
       "      <td>69.0</td>\n",
       "    </tr>\n",
       "    <tr>\n",
       "      <th>2018-04-10 12:00:00</th>\n",
       "      <td>72</td>\n",
       "      <td>69.0</td>\n",
       "    </tr>\n",
       "    <tr>\n",
       "      <th>2018-04-10 12:30:00</th>\n",
       "      <td>73</td>\n",
       "      <td>69.0</td>\n",
       "    </tr>\n",
       "  </tbody>\n",
       "</table>\n",
       "</div>"
      ],
      "text/plain": [
       "                     A_x   A_y\n",
       "2018-04-09 09:00:00   18   NaN\n",
       "2018-04-09 09:30:00   19   NaN\n",
       "2018-04-09 10:00:00   20   NaN\n",
       "2018-04-09 10:30:00   21  21.0\n",
       "2018-04-09 11:00:00   22  21.0\n",
       "2018-04-09 11:30:00   23  21.0\n",
       "2018-04-09 12:00:00   24  21.0\n",
       "2018-04-09 12:30:00   25  21.0\n",
       "2018-04-10 09:00:00   66  21.0\n",
       "2018-04-10 09:30:00   67  21.0\n",
       "2018-04-10 10:00:00   68  21.0\n",
       "2018-04-10 10:30:00   69  69.0\n",
       "2018-04-10 11:00:00   70  69.0\n",
       "2018-04-10 11:30:00   71  69.0\n",
       "2018-04-10 12:00:00   72  69.0\n",
       "2018-04-10 12:30:00   73  69.0"
      ]
     },
     "execution_count": 85,
     "metadata": {},
     "output_type": "execute_result"
    }
   ],
   "source": [
    "merge.between_time('09:00', '12:30')"
   ]
  },
  {
   "cell_type": "code",
   "execution_count": 89,
   "metadata": {},
   "outputs": [
    {
     "data": {
      "text/html": [
       "<div>\n",
       "<style scoped>\n",
       "    .dataframe tbody tr th:only-of-type {\n",
       "        vertical-align: middle;\n",
       "    }\n",
       "\n",
       "    .dataframe tbody tr th {\n",
       "        vertical-align: top;\n",
       "    }\n",
       "\n",
       "    .dataframe thead th {\n",
       "        text-align: right;\n",
       "    }\n",
       "</style>\n",
       "<table border=\"1\" class=\"dataframe\">\n",
       "  <thead>\n",
       "    <tr style=\"text-align: right;\">\n",
       "      <th></th>\n",
       "      <th>open</th>\n",
       "      <th>high</th>\n",
       "      <th>low</th>\n",
       "      <th>close</th>\n",
       "    </tr>\n",
       "  </thead>\n",
       "  <tbody>\n",
       "    <tr>\n",
       "      <th>20180402 09:08</th>\n",
       "      <td>24235.7</td>\n",
       "      <td>24235.7</td>\n",
       "      <td>24235.7</td>\n",
       "      <td>24235.7</td>\n",
       "    </tr>\n",
       "    <tr>\n",
       "      <th>20180402 09:16</th>\n",
       "      <td>24268.0</td>\n",
       "      <td>24300.6</td>\n",
       "      <td>24243.7</td>\n",
       "      <td>24253.1</td>\n",
       "    </tr>\n",
       "    <tr>\n",
       "      <th>20180402 09:17</th>\n",
       "      <td>24257.4</td>\n",
       "      <td>24286.1</td>\n",
       "      <td>24219.3</td>\n",
       "      <td>24221.4</td>\n",
       "    </tr>\n",
       "    <tr>\n",
       "      <th>20180402 09:18</th>\n",
       "      <td>24222.6</td>\n",
       "      <td>24224.4</td>\n",
       "      <td>24204.0</td>\n",
       "      <td>24220.7</td>\n",
       "    </tr>\n",
       "    <tr>\n",
       "      <th>20180402 09:19</th>\n",
       "      <td>24218.7</td>\n",
       "      <td>24247.1</td>\n",
       "      <td>24218.7</td>\n",
       "      <td>24229.4</td>\n",
       "    </tr>\n",
       "  </tbody>\n",
       "</table>\n",
       "</div>"
      ],
      "text/plain": [
       "                   open     high      low    close\n",
       "20180402 09:08  24235.7  24235.7  24235.7  24235.7\n",
       "20180402 09:16  24268.0  24300.6  24243.7  24253.1\n",
       "20180402 09:17  24257.4  24286.1  24219.3  24221.4\n",
       "20180402 09:18  24222.6  24224.4  24204.0  24220.7\n",
       "20180402 09:19  24218.7  24247.1  24218.7  24229.4"
      ]
     },
     "execution_count": 89,
     "metadata": {},
     "output_type": "execute_result"
    }
   ],
   "source": [
    "base_df.head()"
   ]
  },
  {
   "cell_type": "code",
   "execution_count": 92,
   "metadata": {},
   "outputs": [
    {
     "data": {
      "text/plain": [
       "2010-03-02 10:30:00     82.70\n",
       "2010-03-03 10:30:00    101.85\n",
       "2010-03-04 10:30:00     53.90\n",
       "2010-03-05 10:30:00     82.45\n",
       "2010-03-06 10:30:00       NaN\n",
       "                        ...  \n",
       "2022-01-09 10:30:00       NaN\n",
       "2022-01-10 10:30:00    332.25\n",
       "2022-01-11 10:30:00    453.00\n",
       "2022-01-12 10:30:00    246.85\n",
       "2022-01-13 10:30:00    301.50\n",
       "Freq: D, Length: 4336, dtype: float64"
      ]
     },
     "execution_count": 92,
     "metadata": {},
     "output_type": "execute_result"
    }
   ],
   "source": [
    "base_df.index = pd.to_datetime(base_df.index)\n",
    "base_df = base_df.sort_index()\n",
    "base_df = base_df[~base_df.index.duplicated(keep='first')]  \n",
    "s1 = base_df['high'].between_time('09:00', '10:30').groupby(pd.Grouper(freq='d')).max() - base_df['low'].between_time('09:00', '10:30').groupby(pd.Grouper(freq='d')).min()\n",
    "#s1 = ts['A'].between_time('09:00', '10:30').groupby(pd.Grouper(freq='d')).max() \n",
    "#s1.index  =str(s1.index) + '10:30:00'\t\n",
    "s1.index = pd.to_datetime(s1.index) \n",
    "s1 = s1.sort_index()\n",
    "c = [int(i) for i in x.split(':')]\n",
    "s1.index = s1.index + pd.DateOffset(minutes=c[0]*60 + c[1])\n",
    "pd.DataFrame(s1)"
   ]
  },
  {
   "cell_type": "code",
   "execution_count": 98,
   "metadata": {},
   "outputs": [],
   "source": [
    "s1 = pd.DataFrame(s1,columns=['range_1030'])"
   ]
  },
  {
   "cell_type": "code",
   "execution_count": 100,
   "metadata": {},
   "outputs": [],
   "source": [
    "pd.options.display.max_rows = 100"
   ]
  },
  {
   "cell_type": "code",
   "execution_count": 106,
   "metadata": {},
   "outputs": [
    {
     "data": {
      "text/html": [
       "<div>\n",
       "<style scoped>\n",
       "    .dataframe tbody tr th:only-of-type {\n",
       "        vertical-align: middle;\n",
       "    }\n",
       "\n",
       "    .dataframe tbody tr th {\n",
       "        vertical-align: top;\n",
       "    }\n",
       "\n",
       "    .dataframe thead th {\n",
       "        text-align: right;\n",
       "    }\n",
       "</style>\n",
       "<table border=\"1\" class=\"dataframe\">\n",
       "  <thead>\n",
       "    <tr style=\"text-align: right;\">\n",
       "      <th></th>\n",
       "      <th>open</th>\n",
       "      <th>high</th>\n",
       "      <th>low</th>\n",
       "      <th>close</th>\n",
       "      <th>range_1030</th>\n",
       "    </tr>\n",
       "  </thead>\n",
       "  <tbody>\n",
       "    <tr>\n",
       "      <th>2010-03-02 09:01:00</th>\n",
       "      <td>8826.90</td>\n",
       "      <td>8856.95</td>\n",
       "      <td>8826.90</td>\n",
       "      <td>8839.80</td>\n",
       "      <td>NaN</td>\n",
       "    </tr>\n",
       "    <tr>\n",
       "      <th>2010-03-02 09:02:00</th>\n",
       "      <td>8840.75</td>\n",
       "      <td>8853.90</td>\n",
       "      <td>8832.80</td>\n",
       "      <td>8852.30</td>\n",
       "      <td>NaN</td>\n",
       "    </tr>\n",
       "    <tr>\n",
       "      <th>2010-03-02 09:03:00</th>\n",
       "      <td>8855.70</td>\n",
       "      <td>8855.70</td>\n",
       "      <td>8844.65</td>\n",
       "      <td>8846.65</td>\n",
       "      <td>NaN</td>\n",
       "    </tr>\n",
       "    <tr>\n",
       "      <th>2010-03-02 09:04:00</th>\n",
       "      <td>8843.85</td>\n",
       "      <td>8850.70</td>\n",
       "      <td>8843.75</td>\n",
       "      <td>8846.70</td>\n",
       "      <td>NaN</td>\n",
       "    </tr>\n",
       "    <tr>\n",
       "      <th>2010-03-02 09:05:00</th>\n",
       "      <td>8846.40</td>\n",
       "      <td>8846.40</td>\n",
       "      <td>8837.75</td>\n",
       "      <td>8841.60</td>\n",
       "      <td>NaN</td>\n",
       "    </tr>\n",
       "    <tr>\n",
       "      <th>...</th>\n",
       "      <td>...</td>\n",
       "      <td>...</td>\n",
       "      <td>...</td>\n",
       "      <td>...</td>\n",
       "      <td>...</td>\n",
       "    </tr>\n",
       "    <tr>\n",
       "      <th>2022-01-13 15:28:00</th>\n",
       "      <td>38464.35</td>\n",
       "      <td>38469.15</td>\n",
       "      <td>38459.45</td>\n",
       "      <td>38467.20</td>\n",
       "      <td>301.5</td>\n",
       "    </tr>\n",
       "    <tr>\n",
       "      <th>2022-01-13 15:29:00</th>\n",
       "      <td>38469.00</td>\n",
       "      <td>38479.85</td>\n",
       "      <td>38456.65</td>\n",
       "      <td>38456.65</td>\n",
       "      <td>301.5</td>\n",
       "    </tr>\n",
       "    <tr>\n",
       "      <th>2022-01-13 15:30:00</th>\n",
       "      <td>38464.05</td>\n",
       "      <td>38471.55</td>\n",
       "      <td>38455.15</td>\n",
       "      <td>38465.70</td>\n",
       "      <td>301.5</td>\n",
       "    </tr>\n",
       "    <tr>\n",
       "      <th>2022-01-13 15:31:00</th>\n",
       "      <td>38466.05</td>\n",
       "      <td>38466.05</td>\n",
       "      <td>38466.05</td>\n",
       "      <td>38466.05</td>\n",
       "      <td>301.5</td>\n",
       "    </tr>\n",
       "    <tr>\n",
       "      <th>2022-01-13 15:32:00</th>\n",
       "      <td>38469.95</td>\n",
       "      <td>38469.95</td>\n",
       "      <td>38469.95</td>\n",
       "      <td>38469.95</td>\n",
       "      <td>301.5</td>\n",
       "    </tr>\n",
       "  </tbody>\n",
       "</table>\n",
       "<p>1106630 rows × 5 columns</p>\n",
       "</div>"
      ],
      "text/plain": [
       "                         open      high       low     close  range_1030\n",
       "2010-03-02 09:01:00   8826.90   8856.95   8826.90   8839.80         NaN\n",
       "2010-03-02 09:02:00   8840.75   8853.90   8832.80   8852.30         NaN\n",
       "2010-03-02 09:03:00   8855.70   8855.70   8844.65   8846.65         NaN\n",
       "2010-03-02 09:04:00   8843.85   8850.70   8843.75   8846.70         NaN\n",
       "2010-03-02 09:05:00   8846.40   8846.40   8837.75   8841.60         NaN\n",
       "...                       ...       ...       ...       ...         ...\n",
       "2022-01-13 15:28:00  38464.35  38469.15  38459.45  38467.20       301.5\n",
       "2022-01-13 15:29:00  38469.00  38479.85  38456.65  38456.65       301.5\n",
       "2022-01-13 15:30:00  38464.05  38471.55  38455.15  38465.70       301.5\n",
       "2022-01-13 15:31:00  38466.05  38466.05  38466.05  38466.05       301.5\n",
       "2022-01-13 15:32:00  38469.95  38469.95  38469.95  38469.95       301.5\n",
       "\n",
       "[1106630 rows x 5 columns]"
      ]
     },
     "execution_count": 106,
     "metadata": {},
     "output_type": "execute_result"
    }
   ],
   "source": [
    "merge=pd.merge(base_df,s1, how='outer', left_index=True, right_index=True)\n",
    "merge['range_1030'] = merge['range_1030'].fillna(method='ffill')\n",
    "merge"
   ]
  },
  {
   "cell_type": "code",
   "execution_count": 108,
   "metadata": {},
   "outputs": [
    {
     "data": {
      "text/html": [
       "<div>\n",
       "<style scoped>\n",
       "    .dataframe tbody tr th:only-of-type {\n",
       "        vertical-align: middle;\n",
       "    }\n",
       "\n",
       "    .dataframe tbody tr th {\n",
       "        vertical-align: top;\n",
       "    }\n",
       "\n",
       "    .dataframe thead th {\n",
       "        text-align: right;\n",
       "    }\n",
       "</style>\n",
       "<table border=\"1\" class=\"dataframe\">\n",
       "  <thead>\n",
       "    <tr style=\"text-align: right;\">\n",
       "      <th></th>\n",
       "      <th>open</th>\n",
       "      <th>high</th>\n",
       "      <th>low</th>\n",
       "      <th>close</th>\n",
       "      <th>range_1030</th>\n",
       "    </tr>\n",
       "  </thead>\n",
       "  <tbody>\n",
       "    <tr>\n",
       "      <th>2010-03-02 10:29:00</th>\n",
       "      <td>8864.05</td>\n",
       "      <td>8868.35</td>\n",
       "      <td>8863.60</td>\n",
       "      <td>8867.20</td>\n",
       "      <td>NaN</td>\n",
       "    </tr>\n",
       "    <tr>\n",
       "      <th>2010-03-02 10:30:00</th>\n",
       "      <td>8865.05</td>\n",
       "      <td>8868.80</td>\n",
       "      <td>8865.05</td>\n",
       "      <td>8868.25</td>\n",
       "      <td>82.70</td>\n",
       "    </tr>\n",
       "    <tr>\n",
       "      <th>2010-03-02 10:31:00</th>\n",
       "      <td>8867.70</td>\n",
       "      <td>8870.95</td>\n",
       "      <td>8867.70</td>\n",
       "      <td>8869.30</td>\n",
       "      <td>82.70</td>\n",
       "    </tr>\n",
       "    <tr>\n",
       "      <th>2010-03-03 10:29:00</th>\n",
       "      <td>9020.85</td>\n",
       "      <td>9020.85</td>\n",
       "      <td>9017.75</td>\n",
       "      <td>9018.55</td>\n",
       "      <td>82.70</td>\n",
       "    </tr>\n",
       "    <tr>\n",
       "      <th>2010-03-03 10:30:00</th>\n",
       "      <td>9020.10</td>\n",
       "      <td>9021.00</td>\n",
       "      <td>9019.05</td>\n",
       "      <td>9020.50</td>\n",
       "      <td>101.85</td>\n",
       "    </tr>\n",
       "    <tr>\n",
       "      <th>...</th>\n",
       "      <td>...</td>\n",
       "      <td>...</td>\n",
       "      <td>...</td>\n",
       "      <td>...</td>\n",
       "      <td>...</td>\n",
       "    </tr>\n",
       "    <tr>\n",
       "      <th>2022-01-12 10:30:00</th>\n",
       "      <td>38835.50</td>\n",
       "      <td>38841.40</td>\n",
       "      <td>38828.80</td>\n",
       "      <td>38840.60</td>\n",
       "      <td>246.85</td>\n",
       "    </tr>\n",
       "    <tr>\n",
       "      <th>2022-01-12 10:31:00</th>\n",
       "      <td>38838.20</td>\n",
       "      <td>38840.65</td>\n",
       "      <td>38818.35</td>\n",
       "      <td>38828.90</td>\n",
       "      <td>246.85</td>\n",
       "    </tr>\n",
       "    <tr>\n",
       "      <th>2022-01-13 10:29:00</th>\n",
       "      <td>38475.45</td>\n",
       "      <td>38478.15</td>\n",
       "      <td>38459.95</td>\n",
       "      <td>38464.00</td>\n",
       "      <td>246.85</td>\n",
       "    </tr>\n",
       "    <tr>\n",
       "      <th>2022-01-13 10:30:00</th>\n",
       "      <td>38461.60</td>\n",
       "      <td>38465.05</td>\n",
       "      <td>38455.30</td>\n",
       "      <td>38458.15</td>\n",
       "      <td>301.50</td>\n",
       "    </tr>\n",
       "    <tr>\n",
       "      <th>2022-01-13 10:31:00</th>\n",
       "      <td>38457.95</td>\n",
       "      <td>38458.90</td>\n",
       "      <td>38439.65</td>\n",
       "      <td>38442.30</td>\n",
       "      <td>301.50</td>\n",
       "    </tr>\n",
       "  </tbody>\n",
       "</table>\n",
       "<p>10188 rows × 5 columns</p>\n",
       "</div>"
      ],
      "text/plain": [
       "                         open      high       low     close  range_1030\n",
       "2010-03-02 10:29:00   8864.05   8868.35   8863.60   8867.20         NaN\n",
       "2010-03-02 10:30:00   8865.05   8868.80   8865.05   8868.25       82.70\n",
       "2010-03-02 10:31:00   8867.70   8870.95   8867.70   8869.30       82.70\n",
       "2010-03-03 10:29:00   9020.85   9020.85   9017.75   9018.55       82.70\n",
       "2010-03-03 10:30:00   9020.10   9021.00   9019.05   9020.50      101.85\n",
       "...                       ...       ...       ...       ...         ...\n",
       "2022-01-12 10:30:00  38835.50  38841.40  38828.80  38840.60      246.85\n",
       "2022-01-12 10:31:00  38838.20  38840.65  38818.35  38828.90      246.85\n",
       "2022-01-13 10:29:00  38475.45  38478.15  38459.95  38464.00      246.85\n",
       "2022-01-13 10:30:00  38461.60  38465.05  38455.30  38458.15      301.50\n",
       "2022-01-13 10:31:00  38457.95  38458.90  38439.65  38442.30      301.50\n",
       "\n",
       "[10188 rows x 5 columns]"
      ]
     },
     "execution_count": 108,
     "metadata": {},
     "output_type": "execute_result"
    }
   ],
   "source": [
    "merge.between_time('10:29', '10:31')"
   ]
  },
  {
   "cell_type": "code",
   "execution_count": 109,
   "metadata": {},
   "outputs": [
    {
     "name": "stdout",
     "output_type": "stream",
     "text": [
      "5.6001666666666665\n"
     ]
    }
   ],
   "source": [
    "import datetime as DT\n",
    "t1 = DT.datetime.strptime('00:05:36.0100000', '%H:%M:%S.%f0')\n",
    "t2 = DT.datetime(1900,1,1)\n",
    "\n",
    "print((t1-t2).total_seconds() / 60.0)"
   ]
  },
  {
   "cell_type": "code",
   "execution_count": 122,
   "metadata": {},
   "outputs": [],
   "source": [
    "x = '10:30'\n",
    "c = [int(i) for i in x.split(':')]"
   ]
  },
  {
   "cell_type": "code",
   "execution_count": 124,
   "metadata": {},
   "outputs": [
    {
     "data": {
      "text/plain": [
       "630"
      ]
     },
     "execution_count": 124,
     "metadata": {},
     "output_type": "execute_result"
    }
   ],
   "source": [
    "c[0]*60 + c[1]"
   ]
  },
  {
   "cell_type": "code",
   "execution_count": 121,
   "metadata": {},
   "outputs": [
    {
     "data": {
      "text/plain": [
       "['10', '30']"
      ]
     },
     "execution_count": 121,
     "metadata": {},
     "output_type": "execute_result"
    }
   ],
   "source": [
    "x.split(':')"
   ]
  },
  {
   "cell_type": "code",
   "execution_count": null,
   "metadata": {},
   "outputs": [],
   "source": []
  }
 ],
 "metadata": {
  "interpreter": {
   "hash": "1e92f48e6e16365956fe991a3d3819e55758e7f63490978670c35b75b73e1f24"
  },
  "kernelspec": {
   "display_name": "Python 3.8.2 64-bit ('ee': conda)",
   "language": "python",
   "name": "python3"
  },
  "language_info": {
   "codemirror_mode": {
    "name": "ipython",
    "version": 3
   },
   "file_extension": ".py",
   "mimetype": "text/x-python",
   "name": "python",
   "nbconvert_exporter": "python",
   "pygments_lexer": "ipython3",
   "version": "3.8.2"
  },
  "orig_nbformat": 4
 },
 "nbformat": 4,
 "nbformat_minor": 2
}
