{
 "cells": [
  {
   "cell_type": "code",
   "execution_count": 1,
   "metadata": {},
   "outputs": [],
   "source": [
    "import data_engine as de\n",
    "import pandas as pd\n",
    "from feature_engine.discretisation import EqualWidthDiscretiser\n",
    "from feature_engine.imputation import MeanMedianImputer,CategoricalImputer"
   ]
  },
  {
   "cell_type": "code",
   "execution_count": 2,
   "metadata": {},
   "outputs": [],
   "source": [
    "data_save_path = './data/'\n",
    "root_path = r'C:\\\\Users\\\\8prab\\\\Documents\\\\NSE_Equity_Futures_iEOD\\\\'\n",
    "pattern = '*BANKNIFTY.txt'\n",
    "data_name = 'banknifty'\n",
    "#base_df= de.create_dataset(root_path,pattern,data_save_path,data_name)\n",
    "base_df = pd.read_csv(r'C:\\Users\\8prab\\Google Drive\\Work\\trading\\data\\banknifty\\banknifty.csv')"
   ]
  },
  {
   "cell_type": "code",
   "execution_count": 3,
   "metadata": {},
   "outputs": [
    {
     "data": {
      "text/plain": [
       "(1170729, 4)"
      ]
     },
     "execution_count": 3,
     "metadata": {},
     "output_type": "execute_result"
    }
   ],
   "source": [
    "base_df.shape"
   ]
  },
  {
   "cell_type": "code",
   "execution_count": 4,
   "metadata": {},
   "outputs": [],
   "source": [
    "from sklearn.pipeline import Pipeline\n",
    "pipe = Pipeline([('labelgenerator_1', de.LabelCreator(freq='1min',shift=-15,shift_column='close')),('labelgenerator_2', de.LabelCreator(freq='1min',shift=-30,shift_column='close')),('mean_imputer', MeanMedianImputer()),('cat_imputer', CategoricalImputer())])\n",
    "base_df = pipe.fit(base_df).transform(base_df)"
   ]
  },
  {
   "cell_type": "code",
   "execution_count": 5,
   "metadata": {},
   "outputs": [
    {
     "data": {
      "text/html": [
       "<div>\n",
       "<style scoped>\n",
       "    .dataframe tbody tr th:only-of-type {\n",
       "        vertical-align: middle;\n",
       "    }\n",
       "\n",
       "    .dataframe tbody tr th {\n",
       "        vertical-align: top;\n",
       "    }\n",
       "\n",
       "    .dataframe thead th {\n",
       "        text-align: right;\n",
       "    }\n",
       "</style>\n",
       "<table border=\"1\" class=\"dataframe\">\n",
       "  <thead>\n",
       "    <tr style=\"text-align: right;\">\n",
       "      <th></th>\n",
       "      <th>open</th>\n",
       "      <th>high</th>\n",
       "      <th>low</th>\n",
       "      <th>close</th>\n",
       "      <th>label_-15_1min_close</th>\n",
       "      <th>label_-30_1min_close</th>\n",
       "    </tr>\n",
       "  </thead>\n",
       "  <tbody>\n",
       "    <tr>\n",
       "      <th>2010-03-02 09:01:00</th>\n",
       "      <td>8826.90</td>\n",
       "      <td>8856.95</td>\n",
       "      <td>8826.90</td>\n",
       "      <td>8839.80</td>\n",
       "      <td>40to60</td>\n",
       "      <td>40to60</td>\n",
       "    </tr>\n",
       "    <tr>\n",
       "      <th>2010-03-02 09:02:00</th>\n",
       "      <td>8840.75</td>\n",
       "      <td>8853.90</td>\n",
       "      <td>8832.80</td>\n",
       "      <td>8852.30</td>\n",
       "      <td>40to60</td>\n",
       "      <td>20to40</td>\n",
       "    </tr>\n",
       "    <tr>\n",
       "      <th>2010-03-02 09:03:00</th>\n",
       "      <td>8855.70</td>\n",
       "      <td>8855.70</td>\n",
       "      <td>8844.65</td>\n",
       "      <td>8846.65</td>\n",
       "      <td>40to60</td>\n",
       "      <td>40to60</td>\n",
       "    </tr>\n",
       "    <tr>\n",
       "      <th>2010-03-02 09:04:00</th>\n",
       "      <td>8843.85</td>\n",
       "      <td>8850.70</td>\n",
       "      <td>8843.75</td>\n",
       "      <td>8846.70</td>\n",
       "      <td>40to60</td>\n",
       "      <td>20to40</td>\n",
       "    </tr>\n",
       "    <tr>\n",
       "      <th>2010-03-02 09:05:00</th>\n",
       "      <td>8846.40</td>\n",
       "      <td>8846.40</td>\n",
       "      <td>8837.75</td>\n",
       "      <td>8841.60</td>\n",
       "      <td>60to80</td>\n",
       "      <td>40to60</td>\n",
       "    </tr>\n",
       "  </tbody>\n",
       "</table>\n",
       "</div>"
      ],
      "text/plain": [
       "                        open     high      low    close label_-15_1min_close  \\\n",
       "2010-03-02 09:01:00  8826.90  8856.95  8826.90  8839.80               40to60   \n",
       "2010-03-02 09:02:00  8840.75  8853.90  8832.80  8852.30               40to60   \n",
       "2010-03-02 09:03:00  8855.70  8855.70  8844.65  8846.65               40to60   \n",
       "2010-03-02 09:04:00  8843.85  8850.70  8843.75  8846.70               40to60   \n",
       "2010-03-02 09:05:00  8846.40  8846.40  8837.75  8841.60               60to80   \n",
       "\n",
       "                    label_-30_1min_close  \n",
       "2010-03-02 09:01:00               40to60  \n",
       "2010-03-02 09:02:00               20to40  \n",
       "2010-03-02 09:03:00               40to60  \n",
       "2010-03-02 09:04:00               20to40  \n",
       "2010-03-02 09:05:00               40to60  "
      ]
     },
     "execution_count": 5,
     "metadata": {},
     "output_type": "execute_result"
    }
   ],
   "source": [
    "base_df.head()"
   ]
  },
  {
   "cell_type": "code",
   "execution_count": 9,
   "metadata": {},
   "outputs": [
    {
     "data": {
      "text/html": [
       "<div>\n",
       "<style scoped>\n",
       "    .dataframe tbody tr th:only-of-type {\n",
       "        vertical-align: middle;\n",
       "    }\n",
       "\n",
       "    .dataframe tbody tr th {\n",
       "        vertical-align: top;\n",
       "    }\n",
       "\n",
       "    .dataframe thead th {\n",
       "        text-align: right;\n",
       "    }\n",
       "</style>\n",
       "<table border=\"1\" class=\"dataframe\">\n",
       "  <thead>\n",
       "    <tr style=\"text-align: right;\">\n",
       "      <th></th>\n",
       "      <th>open</th>\n",
       "      <th>high</th>\n",
       "      <th>low</th>\n",
       "      <th>close</th>\n",
       "      <th>label_-15_1min_close</th>\n",
       "      <th>label_-30_1min_close</th>\n",
       "    </tr>\n",
       "  </thead>\n",
       "  <tbody>\n",
       "    <tr>\n",
       "      <th>2010-03-02 09:01:00</th>\n",
       "      <td>1</td>\n",
       "      <td>8856.95</td>\n",
       "      <td>8826.90</td>\n",
       "      <td>8839.80</td>\n",
       "      <td>40to60</td>\n",
       "      <td>40to60</td>\n",
       "    </tr>\n",
       "    <tr>\n",
       "      <th>2010-03-02 09:02:00</th>\n",
       "      <td>1</td>\n",
       "      <td>8853.90</td>\n",
       "      <td>8832.80</td>\n",
       "      <td>8852.30</td>\n",
       "      <td>40to60</td>\n",
       "      <td>20to40</td>\n",
       "    </tr>\n",
       "    <tr>\n",
       "      <th>2010-03-02 09:03:00</th>\n",
       "      <td>1</td>\n",
       "      <td>8855.70</td>\n",
       "      <td>8844.65</td>\n",
       "      <td>8846.65</td>\n",
       "      <td>40to60</td>\n",
       "      <td>40to60</td>\n",
       "    </tr>\n",
       "    <tr>\n",
       "      <th>2010-03-02 09:04:00</th>\n",
       "      <td>1</td>\n",
       "      <td>8850.70</td>\n",
       "      <td>8843.75</td>\n",
       "      <td>8846.70</td>\n",
       "      <td>40to60</td>\n",
       "      <td>20to40</td>\n",
       "    </tr>\n",
       "    <tr>\n",
       "      <th>2010-03-02 09:05:00</th>\n",
       "      <td>1</td>\n",
       "      <td>8846.40</td>\n",
       "      <td>8837.75</td>\n",
       "      <td>8841.60</td>\n",
       "      <td>60to80</td>\n",
       "      <td>40to60</td>\n",
       "    </tr>\n",
       "    <tr>\n",
       "      <th>...</th>\n",
       "      <td>...</td>\n",
       "      <td>...</td>\n",
       "      <td>...</td>\n",
       "      <td>...</td>\n",
       "      <td>...</td>\n",
       "      <td>...</td>\n",
       "    </tr>\n",
       "    <tr>\n",
       "      <th>2022-01-13 15:28:00</th>\n",
       "      <td>9</td>\n",
       "      <td>38469.15</td>\n",
       "      <td>38459.45</td>\n",
       "      <td>38467.20</td>\n",
       "      <td>unknown</td>\n",
       "      <td>unknown</td>\n",
       "    </tr>\n",
       "    <tr>\n",
       "      <th>2022-01-13 15:29:00</th>\n",
       "      <td>9</td>\n",
       "      <td>38479.85</td>\n",
       "      <td>38456.65</td>\n",
       "      <td>38456.65</td>\n",
       "      <td>unknown</td>\n",
       "      <td>unknown</td>\n",
       "    </tr>\n",
       "    <tr>\n",
       "      <th>2022-01-13 15:30:00</th>\n",
       "      <td>9</td>\n",
       "      <td>38471.55</td>\n",
       "      <td>38455.15</td>\n",
       "      <td>38465.70</td>\n",
       "      <td>unknown</td>\n",
       "      <td>unknown</td>\n",
       "    </tr>\n",
       "    <tr>\n",
       "      <th>2022-01-13 15:31:00</th>\n",
       "      <td>9</td>\n",
       "      <td>38466.05</td>\n",
       "      <td>38466.05</td>\n",
       "      <td>38466.05</td>\n",
       "      <td>unknown</td>\n",
       "      <td>unknown</td>\n",
       "    </tr>\n",
       "    <tr>\n",
       "      <th>2022-01-13 15:32:00</th>\n",
       "      <td>9</td>\n",
       "      <td>38469.95</td>\n",
       "      <td>38469.95</td>\n",
       "      <td>38469.95</td>\n",
       "      <td>unknown</td>\n",
       "      <td>unknown</td>\n",
       "    </tr>\n",
       "  </tbody>\n",
       "</table>\n",
       "<p>1105219 rows × 6 columns</p>\n",
       "</div>"
      ],
      "text/plain": [
       "                     open      high       low     close label_-15_1min_close  \\\n",
       "2010-03-02 09:01:00     1   8856.95   8826.90   8839.80               40to60   \n",
       "2010-03-02 09:02:00     1   8853.90   8832.80   8852.30               40to60   \n",
       "2010-03-02 09:03:00     1   8855.70   8844.65   8846.65               40to60   \n",
       "2010-03-02 09:04:00     1   8850.70   8843.75   8846.70               40to60   \n",
       "2010-03-02 09:05:00     1   8846.40   8837.75   8841.60               60to80   \n",
       "...                   ...       ...       ...       ...                  ...   \n",
       "2022-01-13 15:28:00     9  38469.15  38459.45  38467.20              unknown   \n",
       "2022-01-13 15:29:00     9  38479.85  38456.65  38456.65              unknown   \n",
       "2022-01-13 15:30:00     9  38471.55  38455.15  38465.70              unknown   \n",
       "2022-01-13 15:31:00     9  38466.05  38466.05  38466.05              unknown   \n",
       "2022-01-13 15:32:00     9  38469.95  38469.95  38469.95              unknown   \n",
       "\n",
       "                    label_-30_1min_close  \n",
       "2010-03-02 09:01:00               40to60  \n",
       "2010-03-02 09:02:00               20to40  \n",
       "2010-03-02 09:03:00               40to60  \n",
       "2010-03-02 09:04:00               20to40  \n",
       "2010-03-02 09:05:00               40to60  \n",
       "...                                  ...  \n",
       "2022-01-13 15:28:00              unknown  \n",
       "2022-01-13 15:29:00              unknown  \n",
       "2022-01-13 15:30:00              unknown  \n",
       "2022-01-13 15:31:00              unknown  \n",
       "2022-01-13 15:32:00              unknown  \n",
       "\n",
       "[1105219 rows x 6 columns]"
      ]
     },
     "execution_count": 9,
     "metadata": {},
     "output_type": "execute_result"
    }
   ],
   "source": [
    "obj = EqualWidthDiscretiser(variables=['open'], bins=10, return_object=False, return_boundaries=False)\n",
    "obj.fit(base_df.fillna(0)).transform(base_df)"
   ]
  },
  {
   "cell_type": "code",
   "execution_count": 8,
   "metadata": {},
   "outputs": [
    {
     "data": {
      "text/plain": [
       "{'memory': None,\n",
       " 'steps': [('labelgenerator_1', LabelCreator()),\n",
       "  ('labelgenerator_2', LabelCreator(shift=-30)),\n",
       "  ('technical', TechnicalIndicator())],\n",
       " 'verbose': False,\n",
       " 'labelgenerator_1': LabelCreator(),\n",
       " 'labelgenerator_2': LabelCreator(shift=-30),\n",
       " 'technical': TechnicalIndicator(),\n",
       " 'labelgenerator_1__freq': '1min',\n",
       " 'labelgenerator_1__shift': -15,\n",
       " 'labelgenerator_1__shift_column': 'close',\n",
       " 'labelgenerator_2__freq': '1min',\n",
       " 'labelgenerator_2__shift': -30,\n",
       " 'labelgenerator_2__shift_column': 'close'}"
      ]
     },
     "execution_count": 8,
     "metadata": {},
     "output_type": "execute_result"
    }
   ],
   "source": [
    "pipe.get_params()"
   ]
  },
  {
   "cell_type": "code",
   "execution_count": 9,
   "metadata": {},
   "outputs": [
    {
     "data": {
      "text/plain": [
       "Pipeline(steps=[('labelgenerator_1', LabelCreator()),\n",
       "                ('labelgenerator_2', LabelCreator(shift=-30)),\n",
       "                ('technical', TechnicalIndicator())])"
      ]
     },
     "execution_count": 9,
     "metadata": {},
     "output_type": "execute_result"
    }
   ],
   "source": [
    "pipe.set_params()"
   ]
  },
  {
   "cell_type": "code",
   "execution_count": 10,
   "metadata": {},
   "outputs": [],
   "source": [
    "from feature_engine.discretisation import EqualWidthDiscretiser\n",
    "from feature_engine.imputation import MeanMedianImputer"
   ]
  },
  {
   "cell_type": "code",
   "execution_count": 11,
   "metadata": {},
   "outputs": [
    {
     "data": {
      "text/plain": [
       "Index(['open', 'high', 'low', 'close', 'label_-15_1min_close',\n",
       "       'label_-30_1min_close', 'momentum_ADX', 'momentum_ADXR', 'momentum_APO',\n",
       "       'momentum_BOP',\n",
       "       ...\n",
       "       'overlap_double_exp_moving_avg', 'overlap_exp_moving_avg',\n",
       "       'overlap_hilbert_transform', 'overlap_kaufman_adaptive_moving_avg',\n",
       "       'overlap_moving_avg', 'overlap_midpoint', 'overlap_midpoint_price',\n",
       "       'overlap_simple_moving_avg', 'overlap_triangular_moving_average',\n",
       "       'overlap_weighted_moving_average'],\n",
       "      dtype='object', length=141)"
      ]
     },
     "execution_count": 11,
     "metadata": {},
     "output_type": "execute_result"
    }
   ],
   "source": [
    "base_df.columns"
   ]
  },
  {
   "cell_type": "code",
   "execution_count": 12,
   "metadata": {},
   "outputs": [
    {
     "ename": "ValueError",
     "evalue": "Some of the variables to transform contain inf values. Check and remove those before using this transformer.",
     "output_type": "error",
     "traceback": [
      "\u001b[1;31m---------------------------------------------------------------------------\u001b[0m",
      "\u001b[1;31mValueError\u001b[0m                                Traceback (most recent call last)",
      "\u001b[1;32m<ipython-input-12-ce9485cf70e6>\u001b[0m in \u001b[0;36m<module>\u001b[1;34m\u001b[0m\n\u001b[0;32m      1\u001b[0m \u001b[0mobj\u001b[0m \u001b[1;33m=\u001b[0m \u001b[0mEqualWidthDiscretiser\u001b[0m\u001b[1;33m(\u001b[0m\u001b[0mvariables\u001b[0m\u001b[1;33m=\u001b[0m\u001b[1;32mNone\u001b[0m\u001b[1;33m,\u001b[0m \u001b[0mbins\u001b[0m\u001b[1;33m=\u001b[0m\u001b[1;36m10\u001b[0m\u001b[1;33m,\u001b[0m \u001b[0mreturn_object\u001b[0m\u001b[1;33m=\u001b[0m\u001b[1;32mFalse\u001b[0m\u001b[1;33m,\u001b[0m \u001b[0mreturn_boundaries\u001b[0m\u001b[1;33m=\u001b[0m\u001b[1;32mFalse\u001b[0m\u001b[1;33m)\u001b[0m\u001b[1;33m\u001b[0m\u001b[1;33m\u001b[0m\u001b[0m\n\u001b[1;32m----> 2\u001b[1;33m \u001b[0mbase_df\u001b[0m\u001b[1;33m[\u001b[0m\u001b[1;34m'overlap_exp_moving_avg_1'\u001b[0m\u001b[1;33m]\u001b[0m \u001b[1;33m=\u001b[0m \u001b[0mobj\u001b[0m\u001b[1;33m.\u001b[0m\u001b[0mfit\u001b[0m\u001b[1;33m(\u001b[0m\u001b[0mbase_df\u001b[0m\u001b[1;33m.\u001b[0m\u001b[0mfillna\u001b[0m\u001b[1;33m(\u001b[0m\u001b[1;36m0\u001b[0m\u001b[1;33m)\u001b[0m\u001b[1;33m)\u001b[0m\u001b[1;33m.\u001b[0m\u001b[0mtransform\u001b[0m\u001b[1;33m(\u001b[0m\u001b[0mbase_df\u001b[0m\u001b[1;33m[\u001b[0m\u001b[1;34m'overlap_exp_moving_avg'\u001b[0m\u001b[1;33m]\u001b[0m\u001b[1;33m)\u001b[0m\u001b[1;33m\u001b[0m\u001b[1;33m\u001b[0m\u001b[0m\n\u001b[0m",
      "\u001b[1;32m~\\.conda\\envs\\ee\\lib\\site-packages\\feature_engine\\discretisation\\equal_width.py\u001b[0m in \u001b[0;36mfit\u001b[1;34m(self, X, y)\u001b[0m\n\u001b[0;32m    118\u001b[0m \u001b[1;33m\u001b[0m\u001b[0m\n\u001b[0;32m    119\u001b[0m         \u001b[1;31m# check input dataframe\u001b[0m\u001b[1;33m\u001b[0m\u001b[1;33m\u001b[0m\u001b[1;33m\u001b[0m\u001b[0m\n\u001b[1;32m--> 120\u001b[1;33m         \u001b[0mX\u001b[0m \u001b[1;33m=\u001b[0m \u001b[0msuper\u001b[0m\u001b[1;33m(\u001b[0m\u001b[1;33m)\u001b[0m\u001b[1;33m.\u001b[0m\u001b[0mfit\u001b[0m\u001b[1;33m(\u001b[0m\u001b[0mX\u001b[0m\u001b[1;33m,\u001b[0m \u001b[0my\u001b[0m\u001b[1;33m)\u001b[0m\u001b[1;33m\u001b[0m\u001b[1;33m\u001b[0m\u001b[0m\n\u001b[0m\u001b[0;32m    121\u001b[0m \u001b[1;33m\u001b[0m\u001b[0m\n\u001b[0;32m    122\u001b[0m         \u001b[1;31m# fit\u001b[0m\u001b[1;33m\u001b[0m\u001b[1;33m\u001b[0m\u001b[1;33m\u001b[0m\u001b[0m\n",
      "\u001b[1;32m~\\.conda\\envs\\ee\\lib\\site-packages\\feature_engine\\base_transformers.py\u001b[0m in \u001b[0;36mfit\u001b[1;34m(self, X, y)\u001b[0m\n\u001b[0;32m    100\u001b[0m         \u001b[1;31m# check if dataset contains na or inf\u001b[0m\u001b[1;33m\u001b[0m\u001b[1;33m\u001b[0m\u001b[1;33m\u001b[0m\u001b[0m\n\u001b[0;32m    101\u001b[0m         \u001b[0m_check_contains_na\u001b[0m\u001b[1;33m(\u001b[0m\u001b[0mX\u001b[0m\u001b[1;33m,\u001b[0m \u001b[0mself\u001b[0m\u001b[1;33m.\u001b[0m\u001b[0mvariables_\u001b[0m\u001b[1;33m)\u001b[0m\u001b[1;33m\u001b[0m\u001b[1;33m\u001b[0m\u001b[0m\n\u001b[1;32m--> 102\u001b[1;33m         \u001b[0m_check_contains_inf\u001b[0m\u001b[1;33m(\u001b[0m\u001b[0mX\u001b[0m\u001b[1;33m,\u001b[0m \u001b[0mself\u001b[0m\u001b[1;33m.\u001b[0m\u001b[0mvariables_\u001b[0m\u001b[1;33m)\u001b[0m\u001b[1;33m\u001b[0m\u001b[1;33m\u001b[0m\u001b[0m\n\u001b[0m\u001b[0;32m    103\u001b[0m \u001b[1;33m\u001b[0m\u001b[0m\n\u001b[0;32m    104\u001b[0m         \u001b[1;32mreturn\u001b[0m \u001b[0mX\u001b[0m\u001b[1;33m\u001b[0m\u001b[1;33m\u001b[0m\u001b[0m\n",
      "\u001b[1;32m~\\.conda\\envs\\ee\\lib\\site-packages\\feature_engine\\dataframe_checks.py\u001b[0m in \u001b[0;36m_check_contains_inf\u001b[1;34m(X, variables)\u001b[0m\n\u001b[0;32m    126\u001b[0m \u001b[1;33m\u001b[0m\u001b[0m\n\u001b[0;32m    127\u001b[0m     \u001b[1;32mif\u001b[0m \u001b[0mnp\u001b[0m\u001b[1;33m.\u001b[0m\u001b[0misinf\u001b[0m\u001b[1;33m(\u001b[0m\u001b[0mX\u001b[0m\u001b[1;33m[\u001b[0m\u001b[0mvariables\u001b[0m\u001b[1;33m]\u001b[0m\u001b[1;33m)\u001b[0m\u001b[1;33m.\u001b[0m\u001b[0mvalues\u001b[0m\u001b[1;33m.\u001b[0m\u001b[0many\u001b[0m\u001b[1;33m(\u001b[0m\u001b[1;33m)\u001b[0m\u001b[1;33m:\u001b[0m\u001b[1;33m\u001b[0m\u001b[1;33m\u001b[0m\u001b[0m\n\u001b[1;32m--> 128\u001b[1;33m         raise ValueError(\n\u001b[0m\u001b[0;32m    129\u001b[0m             \u001b[1;34m\"Some of the variables to transform contain inf values. Check and \"\u001b[0m\u001b[1;33m\u001b[0m\u001b[1;33m\u001b[0m\u001b[0m\n\u001b[0;32m    130\u001b[0m             \u001b[1;34m\"remove those before using this transformer.\"\u001b[0m\u001b[1;33m\u001b[0m\u001b[1;33m\u001b[0m\u001b[0m\n",
      "\u001b[1;31mValueError\u001b[0m: Some of the variables to transform contain inf values. Check and remove those before using this transformer."
     ]
    }
   ],
   "source": []
  },
  {
   "cell_type": "code",
   "execution_count": 29,
   "metadata": {},
   "outputs": [
    {
     "name": "stderr",
     "output_type": "stream",
     "text": [
      "<ipython-input-29-402c5888b12e>:10: RuntimeWarning: invalid value encountered in greater\n",
      "  base_df['new'] = (arr[:, :-1] > arr[:, [-1]]).sum(axis=1)\n"
     ]
    }
   ],
   "source": [
    "n = 2\n",
    "x = np.concatenate([[np.nan] * (n), base_df['close'].values])\n",
    "\n",
    "def rolling_window(a, window):\n",
    "    shape = a.shape[:-1] + (a.shape[-1] - window + 1, window)\n",
    "    strides = a.strides + (a.strides[-1],)\n",
    "    return np.lib.stride_tricks.as_strided(a, shape=shape, strides=strides)\n",
    "arr = rolling_window(x, n + 1)\n",
    "\n",
    "base_df['new'] = (arr[:, :-1] > arr[:, [-1]]).sum(axis=1)"
   ]
  },
  {
   "cell_type": "code",
   "execution_count": 30,
   "metadata": {},
   "outputs": [
    {
     "data": {
      "text/html": [
       "<div>\n",
       "<style scoped>\n",
       "    .dataframe tbody tr th:only-of-type {\n",
       "        vertical-align: middle;\n",
       "    }\n",
       "\n",
       "    .dataframe tbody tr th {\n",
       "        vertical-align: top;\n",
       "    }\n",
       "\n",
       "    .dataframe thead th {\n",
       "        text-align: right;\n",
       "    }\n",
       "</style>\n",
       "<table border=\"1\" class=\"dataframe\">\n",
       "  <thead>\n",
       "    <tr style=\"text-align: right;\">\n",
       "      <th></th>\n",
       "      <th>open</th>\n",
       "      <th>high</th>\n",
       "      <th>low</th>\n",
       "      <th>close</th>\n",
       "      <th>label_-15_1min_close</th>\n",
       "      <th>label_-30_1min_close</th>\n",
       "      <th>new</th>\n",
       "    </tr>\n",
       "  </thead>\n",
       "  <tbody>\n",
       "    <tr>\n",
       "      <th>2010-03-02 09:01:00</th>\n",
       "      <td>8826.90</td>\n",
       "      <td>8856.95</td>\n",
       "      <td>8826.90</td>\n",
       "      <td>8839.80</td>\n",
       "      <td>40to60</td>\n",
       "      <td>40to60</td>\n",
       "      <td>0</td>\n",
       "    </tr>\n",
       "    <tr>\n",
       "      <th>2010-03-02 09:02:00</th>\n",
       "      <td>8840.75</td>\n",
       "      <td>8853.90</td>\n",
       "      <td>8832.80</td>\n",
       "      <td>8852.30</td>\n",
       "      <td>40to60</td>\n",
       "      <td>20to40</td>\n",
       "      <td>0</td>\n",
       "    </tr>\n",
       "    <tr>\n",
       "      <th>2010-03-02 09:03:00</th>\n",
       "      <td>8855.70</td>\n",
       "      <td>8855.70</td>\n",
       "      <td>8844.65</td>\n",
       "      <td>8846.65</td>\n",
       "      <td>40to60</td>\n",
       "      <td>40to60</td>\n",
       "      <td>1</td>\n",
       "    </tr>\n",
       "    <tr>\n",
       "      <th>2010-03-02 09:04:00</th>\n",
       "      <td>8843.85</td>\n",
       "      <td>8850.70</td>\n",
       "      <td>8843.75</td>\n",
       "      <td>8846.70</td>\n",
       "      <td>40to60</td>\n",
       "      <td>20to40</td>\n",
       "      <td>1</td>\n",
       "    </tr>\n",
       "    <tr>\n",
       "      <th>2010-03-02 09:05:00</th>\n",
       "      <td>8846.40</td>\n",
       "      <td>8846.40</td>\n",
       "      <td>8837.75</td>\n",
       "      <td>8841.60</td>\n",
       "      <td>60to80</td>\n",
       "      <td>40to60</td>\n",
       "      <td>2</td>\n",
       "    </tr>\n",
       "    <tr>\n",
       "      <th>...</th>\n",
       "      <td>...</td>\n",
       "      <td>...</td>\n",
       "      <td>...</td>\n",
       "      <td>...</td>\n",
       "      <td>...</td>\n",
       "      <td>...</td>\n",
       "      <td>...</td>\n",
       "    </tr>\n",
       "    <tr>\n",
       "      <th>2022-01-13 15:28:00</th>\n",
       "      <td>38464.35</td>\n",
       "      <td>38469.15</td>\n",
       "      <td>38459.45</td>\n",
       "      <td>38467.20</td>\n",
       "      <td>unknown</td>\n",
       "      <td>unknown</td>\n",
       "      <td>1</td>\n",
       "    </tr>\n",
       "    <tr>\n",
       "      <th>2022-01-13 15:29:00</th>\n",
       "      <td>38469.00</td>\n",
       "      <td>38479.85</td>\n",
       "      <td>38456.65</td>\n",
       "      <td>38456.65</td>\n",
       "      <td>unknown</td>\n",
       "      <td>unknown</td>\n",
       "      <td>2</td>\n",
       "    </tr>\n",
       "    <tr>\n",
       "      <th>2022-01-13 15:30:00</th>\n",
       "      <td>38464.05</td>\n",
       "      <td>38471.55</td>\n",
       "      <td>38455.15</td>\n",
       "      <td>38465.70</td>\n",
       "      <td>unknown</td>\n",
       "      <td>unknown</td>\n",
       "      <td>1</td>\n",
       "    </tr>\n",
       "    <tr>\n",
       "      <th>2022-01-13 15:31:00</th>\n",
       "      <td>38466.05</td>\n",
       "      <td>38466.05</td>\n",
       "      <td>38466.05</td>\n",
       "      <td>38466.05</td>\n",
       "      <td>unknown</td>\n",
       "      <td>unknown</td>\n",
       "      <td>0</td>\n",
       "    </tr>\n",
       "    <tr>\n",
       "      <th>2022-01-13 15:32:00</th>\n",
       "      <td>38469.95</td>\n",
       "      <td>38469.95</td>\n",
       "      <td>38469.95</td>\n",
       "      <td>38469.95</td>\n",
       "      <td>unknown</td>\n",
       "      <td>unknown</td>\n",
       "      <td>0</td>\n",
       "    </tr>\n",
       "  </tbody>\n",
       "</table>\n",
       "<p>1105219 rows × 7 columns</p>\n",
       "</div>"
      ],
      "text/plain": [
       "                         open      high       low     close  \\\n",
       "2010-03-02 09:01:00   8826.90   8856.95   8826.90   8839.80   \n",
       "2010-03-02 09:02:00   8840.75   8853.90   8832.80   8852.30   \n",
       "2010-03-02 09:03:00   8855.70   8855.70   8844.65   8846.65   \n",
       "2010-03-02 09:04:00   8843.85   8850.70   8843.75   8846.70   \n",
       "2010-03-02 09:05:00   8846.40   8846.40   8837.75   8841.60   \n",
       "...                       ...       ...       ...       ...   \n",
       "2022-01-13 15:28:00  38464.35  38469.15  38459.45  38467.20   \n",
       "2022-01-13 15:29:00  38469.00  38479.85  38456.65  38456.65   \n",
       "2022-01-13 15:30:00  38464.05  38471.55  38455.15  38465.70   \n",
       "2022-01-13 15:31:00  38466.05  38466.05  38466.05  38466.05   \n",
       "2022-01-13 15:32:00  38469.95  38469.95  38469.95  38469.95   \n",
       "\n",
       "                    label_-15_1min_close label_-30_1min_close  new  \n",
       "2010-03-02 09:01:00               40to60               40to60    0  \n",
       "2010-03-02 09:02:00               40to60               20to40    0  \n",
       "2010-03-02 09:03:00               40to60               40to60    1  \n",
       "2010-03-02 09:04:00               40to60               20to40    1  \n",
       "2010-03-02 09:05:00               60to80               40to60    2  \n",
       "...                                  ...                  ...  ...  \n",
       "2022-01-13 15:28:00              unknown              unknown    1  \n",
       "2022-01-13 15:29:00              unknown              unknown    2  \n",
       "2022-01-13 15:30:00              unknown              unknown    1  \n",
       "2022-01-13 15:31:00              unknown              unknown    0  \n",
       "2022-01-13 15:32:00              unknown              unknown    0  \n",
       "\n",
       "[1105219 rows x 7 columns]"
      ]
     },
     "execution_count": 30,
     "metadata": {},
     "output_type": "execute_result"
    }
   ],
   "source": [
    "base_df"
   ]
  },
  {
   "cell_type": "code",
   "execution_count": 25,
   "metadata": {},
   "outputs": [
    {
     "ename": "TypeError",
     "evalue": "cannot convert the series to <class 'float'>",
     "output_type": "error",
     "traceback": [
      "\u001b[1;31m---------------------------------------------------------------------------\u001b[0m",
      "\u001b[1;31mTypeError\u001b[0m                                 Traceback (most recent call last)",
      "\u001b[1;32m<ipython-input-25-3e22c861c1eb>\u001b[0m in \u001b[0;36m<module>\u001b[1;34m\u001b[0m\n\u001b[0;32m     12\u001b[0m     \u001b[1;32mreturn\u001b[0m \u001b[0mpd\u001b[0m\u001b[1;33m.\u001b[0m\u001b[0mcut\u001b[0m\u001b[1;33m(\u001b[0m\u001b[0mx\u001b[0m\u001b[1;33m=\u001b[0m\u001b[0ms\u001b[0m\u001b[1;33m,\u001b[0m \u001b[0mbins\u001b[0m\u001b[1;33m=\u001b[0m\u001b[0mbins\u001b[0m\u001b[1;33m,\u001b[0m \u001b[0mlabels\u001b[0m\u001b[1;33m=\u001b[0m\u001b[1;32mFalse\u001b[0m\u001b[1;33m)\u001b[0m\u001b[1;33m\u001b[0m\u001b[1;33m\u001b[0m\u001b[0m\n\u001b[0;32m     13\u001b[0m \u001b[1;33m\u001b[0m\u001b[0m\n\u001b[1;32m---> 14\u001b[1;33m \u001b[0mdf\u001b[0m\u001b[1;33m[\u001b[0m\u001b[1;34m\"a\"\u001b[0m\u001b[1;33m]\u001b[0m\u001b[1;33m.\u001b[0m\u001b[0mrolling\u001b[0m\u001b[1;33m(\u001b[0m\u001b[1;36m10\u001b[0m\u001b[1;33m)\u001b[0m\u001b[1;33m.\u001b[0m\u001b[0mapply\u001b[0m\u001b[1;33m(\u001b[0m\u001b[0mf\u001b[0m\u001b[1;33m)\u001b[0m\u001b[1;33m\u001b[0m\u001b[1;33m\u001b[0m\u001b[0m\n\u001b[0m",
      "\u001b[1;32m~\\.conda\\envs\\ee\\lib\\site-packages\\pandas\\core\\window\\rolling.py\u001b[0m in \u001b[0;36mapply\u001b[1;34m(self, func, raw, engine, engine_kwargs, args, kwargs)\u001b[0m\n\u001b[0;32m   1983\u001b[0m         \u001b[0mkwargs\u001b[0m\u001b[1;33m=\u001b[0m\u001b[1;32mNone\u001b[0m\u001b[1;33m,\u001b[0m\u001b[1;33m\u001b[0m\u001b[1;33m\u001b[0m\u001b[0m\n\u001b[0;32m   1984\u001b[0m     ):\n\u001b[1;32m-> 1985\u001b[1;33m         return super().apply(\n\u001b[0m\u001b[0;32m   1986\u001b[0m             \u001b[0mfunc\u001b[0m\u001b[1;33m,\u001b[0m\u001b[1;33m\u001b[0m\u001b[1;33m\u001b[0m\u001b[0m\n\u001b[0;32m   1987\u001b[0m             \u001b[0mraw\u001b[0m\u001b[1;33m=\u001b[0m\u001b[0mraw\u001b[0m\u001b[1;33m,\u001b[0m\u001b[1;33m\u001b[0m\u001b[1;33m\u001b[0m\u001b[0m\n",
      "\u001b[1;32m~\\.conda\\envs\\ee\\lib\\site-packages\\pandas\\core\\window\\rolling.py\u001b[0m in \u001b[0;36mapply\u001b[1;34m(self, func, raw, engine, engine_kwargs, args, kwargs)\u001b[0m\n\u001b[0;32m   1298\u001b[0m         \u001b[1;31m# TODO: Why do we always pass center=False?\u001b[0m\u001b[1;33m\u001b[0m\u001b[1;33m\u001b[0m\u001b[1;33m\u001b[0m\u001b[0m\n\u001b[0;32m   1299\u001b[0m         \u001b[1;31m# name=func & raw=raw for WindowGroupByMixin._apply\u001b[0m\u001b[1;33m\u001b[0m\u001b[1;33m\u001b[0m\u001b[1;33m\u001b[0m\u001b[0m\n\u001b[1;32m-> 1300\u001b[1;33m         return self._apply(\n\u001b[0m\u001b[0;32m   1301\u001b[0m             \u001b[0mapply_func\u001b[0m\u001b[1;33m,\u001b[0m\u001b[1;33m\u001b[0m\u001b[1;33m\u001b[0m\u001b[0m\n\u001b[0;32m   1302\u001b[0m             \u001b[0mcenter\u001b[0m\u001b[1;33m=\u001b[0m\u001b[1;32mFalse\u001b[0m\u001b[1;33m,\u001b[0m\u001b[1;33m\u001b[0m\u001b[1;33m\u001b[0m\u001b[0m\n",
      "\u001b[1;32m~\\.conda\\envs\\ee\\lib\\site-packages\\pandas\\core\\window\\rolling.py\u001b[0m in \u001b[0;36m_apply\u001b[1;34m(self, func, center, require_min_periods, floor, is_weighted, name, use_numba_cache, **kwargs)\u001b[0m\n\u001b[0;32m    505\u001b[0m                     \u001b[0mresult\u001b[0m \u001b[1;33m=\u001b[0m \u001b[0mnp\u001b[0m\u001b[1;33m.\u001b[0m\u001b[0mapply_along_axis\u001b[0m\u001b[1;33m(\u001b[0m\u001b[0mcalc\u001b[0m\u001b[1;33m,\u001b[0m \u001b[0mself\u001b[0m\u001b[1;33m.\u001b[0m\u001b[0maxis\u001b[0m\u001b[1;33m,\u001b[0m \u001b[0mvalues\u001b[0m\u001b[1;33m)\u001b[0m\u001b[1;33m\u001b[0m\u001b[1;33m\u001b[0m\u001b[0m\n\u001b[0;32m    506\u001b[0m                 \u001b[1;32melse\u001b[0m\u001b[1;33m:\u001b[0m\u001b[1;33m\u001b[0m\u001b[1;33m\u001b[0m\u001b[0m\n\u001b[1;32m--> 507\u001b[1;33m                     \u001b[0mresult\u001b[0m \u001b[1;33m=\u001b[0m \u001b[0mcalc\u001b[0m\u001b[1;33m(\u001b[0m\u001b[0mvalues\u001b[0m\u001b[1;33m)\u001b[0m\u001b[1;33m\u001b[0m\u001b[1;33m\u001b[0m\u001b[0m\n\u001b[0m\u001b[0;32m    508\u001b[0m                     \u001b[0mresult\u001b[0m \u001b[1;33m=\u001b[0m \u001b[0mnp\u001b[0m\u001b[1;33m.\u001b[0m\u001b[0masarray\u001b[0m\u001b[1;33m(\u001b[0m\u001b[0mresult\u001b[0m\u001b[1;33m)\u001b[0m\u001b[1;33m\u001b[0m\u001b[1;33m\u001b[0m\u001b[0m\n\u001b[0;32m    509\u001b[0m \u001b[1;33m\u001b[0m\u001b[0m\n",
      "\u001b[1;32m~\\.conda\\envs\\ee\\lib\\site-packages\\pandas\\core\\window\\rolling.py\u001b[0m in \u001b[0;36mcalc\u001b[1;34m(x)\u001b[0m\n\u001b[0;32m    493\u001b[0m                         \u001b[0mclosed\u001b[0m\u001b[1;33m=\u001b[0m\u001b[0mself\u001b[0m\u001b[1;33m.\u001b[0m\u001b[0mclosed\u001b[0m\u001b[1;33m,\u001b[0m\u001b[1;33m\u001b[0m\u001b[1;33m\u001b[0m\u001b[0m\n\u001b[0;32m    494\u001b[0m                     )\n\u001b[1;32m--> 495\u001b[1;33m                     \u001b[1;32mreturn\u001b[0m \u001b[0mfunc\u001b[0m\u001b[1;33m(\u001b[0m\u001b[0mx\u001b[0m\u001b[1;33m,\u001b[0m \u001b[0mstart\u001b[0m\u001b[1;33m,\u001b[0m \u001b[0mend\u001b[0m\u001b[1;33m,\u001b[0m \u001b[0mmin_periods\u001b[0m\u001b[1;33m)\u001b[0m\u001b[1;33m\u001b[0m\u001b[1;33m\u001b[0m\u001b[0m\n\u001b[0m\u001b[0;32m    496\u001b[0m \u001b[1;33m\u001b[0m\u001b[0m\n\u001b[0;32m    497\u001b[0m             \u001b[1;32melse\u001b[0m\u001b[1;33m:\u001b[0m\u001b[1;33m\u001b[0m\u001b[1;33m\u001b[0m\u001b[0m\n",
      "\u001b[1;32m~\\.conda\\envs\\ee\\lib\\site-packages\\pandas\\core\\window\\rolling.py\u001b[0m in \u001b[0;36mapply_func\u001b[1;34m(values, begin, end, min_periods, raw)\u001b[0m\n\u001b[0;32m   1322\u001b[0m             \u001b[1;32mif\u001b[0m \u001b[1;32mnot\u001b[0m \u001b[0mraw\u001b[0m\u001b[1;33m:\u001b[0m\u001b[1;33m\u001b[0m\u001b[1;33m\u001b[0m\u001b[0m\n\u001b[0;32m   1323\u001b[0m                 \u001b[0mvalues\u001b[0m \u001b[1;33m=\u001b[0m \u001b[0mSeries\u001b[0m\u001b[1;33m(\u001b[0m\u001b[0mvalues\u001b[0m\u001b[1;33m,\u001b[0m \u001b[0mindex\u001b[0m\u001b[1;33m=\u001b[0m\u001b[0mself\u001b[0m\u001b[1;33m.\u001b[0m\u001b[0mobj\u001b[0m\u001b[1;33m.\u001b[0m\u001b[0mindex\u001b[0m\u001b[1;33m)\u001b[0m\u001b[1;33m\u001b[0m\u001b[1;33m\u001b[0m\u001b[0m\n\u001b[1;32m-> 1324\u001b[1;33m             \u001b[1;32mreturn\u001b[0m \u001b[0mwindow_func\u001b[0m\u001b[1;33m(\u001b[0m\u001b[0mvalues\u001b[0m\u001b[1;33m,\u001b[0m \u001b[0mbegin\u001b[0m\u001b[1;33m,\u001b[0m \u001b[0mend\u001b[0m\u001b[1;33m,\u001b[0m \u001b[0mmin_periods\u001b[0m\u001b[1;33m)\u001b[0m\u001b[1;33m\u001b[0m\u001b[1;33m\u001b[0m\u001b[0m\n\u001b[0m\u001b[0;32m   1325\u001b[0m \u001b[1;33m\u001b[0m\u001b[0m\n\u001b[0;32m   1326\u001b[0m         \u001b[1;32mreturn\u001b[0m \u001b[0mapply_func\u001b[0m\u001b[1;33m\u001b[0m\u001b[1;33m\u001b[0m\u001b[0m\n",
      "\u001b[1;32mpandas\\_libs\\window\\aggregations.pyx\u001b[0m in \u001b[0;36mpandas._libs.window.aggregations.roll_generic_fixed\u001b[1;34m()\u001b[0m\n",
      "\u001b[1;32m~\\.conda\\envs\\ee\\lib\\site-packages\\pandas\\core\\series.py\u001b[0m in \u001b[0;36mwrapper\u001b[1;34m(self)\u001b[0m\n\u001b[0;32m    110\u001b[0m         \u001b[1;32mif\u001b[0m \u001b[0mlen\u001b[0m\u001b[1;33m(\u001b[0m\u001b[0mself\u001b[0m\u001b[1;33m)\u001b[0m \u001b[1;33m==\u001b[0m \u001b[1;36m1\u001b[0m\u001b[1;33m:\u001b[0m\u001b[1;33m\u001b[0m\u001b[1;33m\u001b[0m\u001b[0m\n\u001b[0;32m    111\u001b[0m             \u001b[1;32mreturn\u001b[0m \u001b[0mconverter\u001b[0m\u001b[1;33m(\u001b[0m\u001b[0mself\u001b[0m\u001b[1;33m.\u001b[0m\u001b[0miloc\u001b[0m\u001b[1;33m[\u001b[0m\u001b[1;36m0\u001b[0m\u001b[1;33m]\u001b[0m\u001b[1;33m)\u001b[0m\u001b[1;33m\u001b[0m\u001b[1;33m\u001b[0m\u001b[0m\n\u001b[1;32m--> 112\u001b[1;33m         \u001b[1;32mraise\u001b[0m \u001b[0mTypeError\u001b[0m\u001b[1;33m(\u001b[0m\u001b[1;34mf\"cannot convert the series to {converter}\"\u001b[0m\u001b[1;33m)\u001b[0m\u001b[1;33m\u001b[0m\u001b[1;33m\u001b[0m\u001b[0m\n\u001b[0m\u001b[0;32m    113\u001b[0m \u001b[1;33m\u001b[0m\u001b[0m\n\u001b[0;32m    114\u001b[0m     \u001b[0mwrapper\u001b[0m\u001b[1;33m.\u001b[0m\u001b[0m__name__\u001b[0m \u001b[1;33m=\u001b[0m \u001b[1;34mf\"__{converter.__name__}__\"\u001b[0m\u001b[1;33m\u001b[0m\u001b[1;33m\u001b[0m\u001b[0m\n",
      "\u001b[1;31mTypeError\u001b[0m: cannot convert the series to <class 'float'>"
     ]
    }
   ],
   "source": [
    "import numpy as np\n",
    "df = pd.DataFrame({\"a\": np.random.randint(1, high=10, size=50)})\n",
    "#print(df)\n",
    "def f(s):\n",
    "    #d = s.to_frame().groupby(pd.cut(s, np.arange(s.min(), s.max()*1.01, 1), include_lowest=True)).transform(\"count\")\n",
    "    tmp, bins = pd.cut(\n",
    "                x=s, bins=3, retbins=True, duplicates=\"drop\"\n",
    "            )\n",
    "    bins = list(bins)\n",
    "    bins[0] = float(\"-inf\")\n",
    "    bins[len(bins) - 1] = float(\"inf\")\n",
    "    return pd.cut(x=s, bins=bins, labels=False)\n",
    "\n",
    "df[\"a\"].rolling(10).apply(f)"
   ]
  },
  {
   "cell_type": "code",
   "execution_count": 21,
   "metadata": {},
   "outputs": [
    {
     "data": {
      "text/plain": [
       "array([0.992     , 3.66666667, 6.33333333, 9.        ])"
      ]
     },
     "execution_count": 21,
     "metadata": {},
     "output_type": "execute_result"
    }
   ],
   "source": [
    "tmp, bins = pd.cut(\n",
    "                x=df['a'], bins=3, retbins=True, duplicates=\"drop\"\n",
    "            )\n",
    "bins"
   ]
  },
  {
   "cell_type": "code",
   "execution_count": 22,
   "metadata": {},
   "outputs": [
    {
     "data": {
      "text/plain": [
       "[-inf, 3.6666666666666665, 6.333333333333333, inf]"
      ]
     },
     "execution_count": 22,
     "metadata": {},
     "output_type": "execute_result"
    }
   ],
   "source": [
    "bins = list(bins)\n",
    "bins[0] = float(\"-inf\")\n",
    "bins[len(bins) - 1] = float(\"inf\")\n",
    "bins"
   ]
  },
  {
   "cell_type": "code",
   "execution_count": 24,
   "metadata": {},
   "outputs": [
    {
     "data": {
      "text/plain": [
       "0     0\n",
       "1     2\n",
       "2     2\n",
       "3     2\n",
       "4     0\n",
       "5     1\n",
       "6     2\n",
       "7     2\n",
       "8     1\n",
       "9     2\n",
       "10    0\n",
       "11    0\n",
       "12    2\n",
       "13    2\n",
       "14    0\n",
       "15    1\n",
       "16    1\n",
       "17    1\n",
       "18    1\n",
       "19    0\n",
       "20    1\n",
       "21    0\n",
       "22    0\n",
       "23    2\n",
       "24    1\n",
       "25    1\n",
       "26    2\n",
       "27    2\n",
       "28    1\n",
       "29    1\n",
       "30    2\n",
       "31    0\n",
       "32    0\n",
       "33    2\n",
       "34    2\n",
       "35    1\n",
       "36    0\n",
       "37    1\n",
       "38    2\n",
       "39    0\n",
       "40    1\n",
       "41    1\n",
       "42    0\n",
       "43    0\n",
       "44    1\n",
       "45    0\n",
       "46    1\n",
       "47    2\n",
       "48    1\n",
       "49    0\n",
       "Name: a, dtype: int64"
      ]
     },
     "execution_count": 24,
     "metadata": {},
     "output_type": "execute_result"
    }
   ],
   "source": [
    "t = pd.cut(x=df['a'], bins=bins, labels=False)\n",
    "t"
   ]
  },
  {
   "cell_type": "code",
   "execution_count": null,
   "metadata": {},
   "outputs": [],
   "source": []
  }
 ],
 "metadata": {
  "interpreter": {
   "hash": "1e92f48e6e16365956fe991a3d3819e55758e7f63490978670c35b75b73e1f24"
  },
  "kernelspec": {
   "display_name": "Python 3.8.2 64-bit ('ee': conda)",
   "language": "python",
   "name": "python3"
  },
  "language_info": {
   "codemirror_mode": {
    "name": "ipython",
    "version": 3
   },
   "file_extension": ".py",
   "mimetype": "text/x-python",
   "name": "python",
   "nbconvert_exporter": "python",
   "pygments_lexer": "ipython3",
   "version": "3.8.2"
  },
  "orig_nbformat": 4
 },
 "nbformat": 4,
 "nbformat_minor": 2
}
