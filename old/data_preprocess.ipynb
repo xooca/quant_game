{
 "cells": [
  {
   "cell_type": "code",
   "execution_count": 2,
   "metadata": {},
   "outputs": [],
   "source": [
    "import pandas as pd"
   ]
  },
  {
   "cell_type": "code",
   "execution_count": 3,
   "metadata": {},
   "outputs": [],
   "source": [
    "from signals import signals\n",
    "import data_creator as dc"
   ]
  },
  {
   "cell_type": "code",
   "execution_count": 4,
   "metadata": {},
   "outputs": [],
   "source": [
    "path = r\"C:\\Users\\8prab\\Google Drive\\Work\\trading\\NIFTY_data\\NIFTY_2008_2020.csv\"\n",
    "data = pd.read_csv(path)"
   ]
  },
  {
   "cell_type": "code",
   "execution_count": 5,
   "metadata": {},
   "outputs": [
    {
     "name": "stdout",
     "output_type": "stream",
     "text": [
      "Save at location ./NIFTY_data/data_3min.csv\n",
      "Save at location ./NIFTY_data/data_5min.csv\n",
      "Save at location ./NIFTY_data/data_10min.csv\n",
      "Save at location ./NIFTY_data/data_15min.csv\n",
      "Save at location ./NIFTY_data/data_30min.csv\n",
      "Save at location ./NIFTY_data/data_1hour.csv\n",
      "Save at location ./NIFTY_data/data_openinghr.csv\n",
      "Save at location ./NIFTY_data/data_lasthr.csv\n"
     ]
    }
   ],
   "source": [
    "time_frames = ['3min','5min','10min','15min','30min','1hour','openinghr','lasthr']\n",
    "saved_file_prefix = 'data'\n",
    "save_data = True\n",
    "base_location = './NIFTY_data/'\n",
    "time_col = 'Time'\n",
    "date_col = 'Date'\n",
    "date_fmt = \"%Y%m%d %H:%M\"\n",
    "saved_path,dfs_list = dc.create_timeframe_df(data,time_frames,date_fmt,date_col,time_col,base_location,saved_file_prefix,save_data)"
   ]
  },
  {
   "cell_type": "code",
   "execution_count": 6,
   "metadata": {},
   "outputs": [],
   "source": [
    "sig = signals(saved_path[0])"
   ]
  },
  {
   "cell_type": "code",
   "execution_count": 29,
   "metadata": {},
   "outputs": [],
   "source": [
    "from talib.abstract import *\n",
    "sig.df['x']=CDL3BLACKCROWS(sig.open, sig.high, sig.low, sig.close)"
   ]
  },
  {
   "cell_type": "code",
   "execution_count": 30,
   "metadata": {},
   "outputs": [
    {
     "data": {
      "text/plain": [
       "array([ 6127.95,  6121.9 ,  6123.85, ..., 12975.65, 12946.85, 12942.85])"
      ]
     },
     "execution_count": 30,
     "metadata": {},
     "output_type": "execute_result"
    }
   ],
   "source": [
    "sig.close"
   ]
  },
  {
   "cell_type": "code",
   "execution_count": 32,
   "metadata": {},
   "outputs": [],
   "source": [
    "sig.df['x']=CDL3BLACKCROWS(sig.open, sig.high, sig.low, sig.close)"
   ]
  },
  {
   "cell_type": "code",
   "execution_count": 33,
   "metadata": {},
   "outputs": [
    {
     "data": {
      "text/html": [
       "<div>\n",
       "<style scoped>\n",
       "    .dataframe tbody tr th:only-of-type {\n",
       "        vertical-align: middle;\n",
       "    }\n",
       "\n",
       "    .dataframe tbody tr th {\n",
       "        vertical-align: top;\n",
       "    }\n",
       "\n",
       "    .dataframe thead th {\n",
       "        text-align: right;\n",
       "    }\n",
       "</style>\n",
       "<table border=\"1\" class=\"dataframe\">\n",
       "  <thead>\n",
       "    <tr style=\"text-align: right;\">\n",
       "      <th></th>\n",
       "      <th>Date</th>\n",
       "      <th>Instrument</th>\n",
       "      <th>Open</th>\n",
       "      <th>High</th>\n",
       "      <th>Low</th>\n",
       "      <th>Close</th>\n",
       "      <th>pattern_inverted_hammer</th>\n",
       "      <th>momentum_ADX</th>\n",
       "      <th>pattern_3_outside_updown</th>\n",
       "      <th>x</th>\n",
       "    </tr>\n",
       "  </thead>\n",
       "  <tbody>\n",
       "    <tr>\n",
       "      <th>0</th>\n",
       "      <td>2008-01-01 09:57:00</td>\n",
       "      <td>NIFTY</td>\n",
       "      <td>6138.25</td>\n",
       "      <td>6138.25</td>\n",
       "      <td>6127.95</td>\n",
       "      <td>6127.95</td>\n",
       "      <td>0</td>\n",
       "      <td>NaN</td>\n",
       "      <td>0</td>\n",
       "      <td>0</td>\n",
       "    </tr>\n",
       "    <tr>\n",
       "      <th>1</th>\n",
       "      <td>2008-01-01 10:03:00</td>\n",
       "      <td>NIFTY</td>\n",
       "      <td>6124.85</td>\n",
       "      <td>6126.05</td>\n",
       "      <td>6121.90</td>\n",
       "      <td>6121.90</td>\n",
       "      <td>0</td>\n",
       "      <td>NaN</td>\n",
       "      <td>0</td>\n",
       "      <td>0</td>\n",
       "    </tr>\n",
       "    <tr>\n",
       "      <th>2</th>\n",
       "      <td>2008-01-01 10:06:00</td>\n",
       "      <td>NIFTY</td>\n",
       "      <td>6115.85</td>\n",
       "      <td>6123.85</td>\n",
       "      <td>6115.85</td>\n",
       "      <td>6123.85</td>\n",
       "      <td>0</td>\n",
       "      <td>NaN</td>\n",
       "      <td>0</td>\n",
       "      <td>0</td>\n",
       "    </tr>\n",
       "    <tr>\n",
       "      <th>3</th>\n",
       "      <td>2008-01-01 10:09:00</td>\n",
       "      <td>NIFTY</td>\n",
       "      <td>6128.50</td>\n",
       "      <td>6130.65</td>\n",
       "      <td>6128.50</td>\n",
       "      <td>6128.90</td>\n",
       "      <td>0</td>\n",
       "      <td>NaN</td>\n",
       "      <td>0</td>\n",
       "      <td>0</td>\n",
       "    </tr>\n",
       "    <tr>\n",
       "      <th>4</th>\n",
       "      <td>2008-01-01 10:12:00</td>\n",
       "      <td>NIFTY</td>\n",
       "      <td>6125.75</td>\n",
       "      <td>6125.75</td>\n",
       "      <td>6123.15</td>\n",
       "      <td>6123.60</td>\n",
       "      <td>0</td>\n",
       "      <td>NaN</td>\n",
       "      <td>0</td>\n",
       "      <td>0</td>\n",
       "    </tr>\n",
       "    <tr>\n",
       "      <th>...</th>\n",
       "      <td>...</td>\n",
       "      <td>...</td>\n",
       "      <td>...</td>\n",
       "      <td>...</td>\n",
       "      <td>...</td>\n",
       "      <td>...</td>\n",
       "      <td>...</td>\n",
       "      <td>...</td>\n",
       "      <td>...</td>\n",
       "      <td>...</td>\n",
       "    </tr>\n",
       "    <tr>\n",
       "      <th>373020</th>\n",
       "      <td>2020-11-27 15:18:00</td>\n",
       "      <td>NIFTY</td>\n",
       "      <td>12970.00</td>\n",
       "      <td>12972.70</td>\n",
       "      <td>12967.05</td>\n",
       "      <td>12967.10</td>\n",
       "      <td>0</td>\n",
       "      <td>10.090409</td>\n",
       "      <td>0</td>\n",
       "      <td>0</td>\n",
       "    </tr>\n",
       "    <tr>\n",
       "      <th>373021</th>\n",
       "      <td>2020-11-27 15:21:00</td>\n",
       "      <td>NIFTY</td>\n",
       "      <td>12972.15</td>\n",
       "      <td>12978.95</td>\n",
       "      <td>12971.35</td>\n",
       "      <td>12977.65</td>\n",
       "      <td>0</td>\n",
       "      <td>9.530219</td>\n",
       "      <td>0</td>\n",
       "      <td>0</td>\n",
       "    </tr>\n",
       "    <tr>\n",
       "      <th>373022</th>\n",
       "      <td>2020-11-27 15:24:00</td>\n",
       "      <td>NIFTY</td>\n",
       "      <td>12979.50</td>\n",
       "      <td>12979.65</td>\n",
       "      <td>12975.45</td>\n",
       "      <td>12975.65</td>\n",
       "      <td>0</td>\n",
       "      <td>9.053395</td>\n",
       "      <td>0</td>\n",
       "      <td>0</td>\n",
       "    </tr>\n",
       "    <tr>\n",
       "      <th>373023</th>\n",
       "      <td>2020-11-27 15:27:00</td>\n",
       "      <td>NIFTY</td>\n",
       "      <td>12960.05</td>\n",
       "      <td>12960.60</td>\n",
       "      <td>12946.35</td>\n",
       "      <td>12946.85</td>\n",
       "      <td>0</td>\n",
       "      <td>9.800813</td>\n",
       "      <td>0</td>\n",
       "      <td>0</td>\n",
       "    </tr>\n",
       "    <tr>\n",
       "      <th>373024</th>\n",
       "      <td>2020-11-27 15:30:00</td>\n",
       "      <td>NIFTY</td>\n",
       "      <td>12936.40</td>\n",
       "      <td>12948.60</td>\n",
       "      <td>12933.85</td>\n",
       "      <td>12942.85</td>\n",
       "      <td>0</td>\n",
       "      <td>11.020401</td>\n",
       "      <td>0</td>\n",
       "      <td>0</td>\n",
       "    </tr>\n",
       "  </tbody>\n",
       "</table>\n",
       "<p>373025 rows × 10 columns</p>\n",
       "</div>"
      ],
      "text/plain": [
       "                       Date Instrument      Open      High       Low  \\\n",
       "0       2008-01-01 09:57:00      NIFTY   6138.25   6138.25   6127.95   \n",
       "1       2008-01-01 10:03:00      NIFTY   6124.85   6126.05   6121.90   \n",
       "2       2008-01-01 10:06:00      NIFTY   6115.85   6123.85   6115.85   \n",
       "3       2008-01-01 10:09:00      NIFTY   6128.50   6130.65   6128.50   \n",
       "4       2008-01-01 10:12:00      NIFTY   6125.75   6125.75   6123.15   \n",
       "...                     ...        ...       ...       ...       ...   \n",
       "373020  2020-11-27 15:18:00      NIFTY  12970.00  12972.70  12967.05   \n",
       "373021  2020-11-27 15:21:00      NIFTY  12972.15  12978.95  12971.35   \n",
       "373022  2020-11-27 15:24:00      NIFTY  12979.50  12979.65  12975.45   \n",
       "373023  2020-11-27 15:27:00      NIFTY  12960.05  12960.60  12946.35   \n",
       "373024  2020-11-27 15:30:00      NIFTY  12936.40  12948.60  12933.85   \n",
       "\n",
       "           Close  pattern_inverted_hammer  momentum_ADX  \\\n",
       "0        6127.95                        0           NaN   \n",
       "1        6121.90                        0           NaN   \n",
       "2        6123.85                        0           NaN   \n",
       "3        6128.90                        0           NaN   \n",
       "4        6123.60                        0           NaN   \n",
       "...          ...                      ...           ...   \n",
       "373020  12967.10                        0     10.090409   \n",
       "373021  12977.65                        0      9.530219   \n",
       "373022  12975.65                        0      9.053395   \n",
       "373023  12946.85                        0      9.800813   \n",
       "373024  12942.85                        0     11.020401   \n",
       "\n",
       "        pattern_3_outside_updown  x  \n",
       "0                              0  0  \n",
       "1                              0  0  \n",
       "2                              0  0  \n",
       "3                              0  0  \n",
       "4                              0  0  \n",
       "...                          ... ..  \n",
       "373020                         0  0  \n",
       "373021                         0  0  \n",
       "373022                         0  0  \n",
       "373023                         0  0  \n",
       "373024                         0  0  \n",
       "\n",
       "[373025 rows x 10 columns]"
      ]
     },
     "execution_count": 33,
     "metadata": {},
     "output_type": "execute_result"
    }
   ],
   "source": [
    "sig.df"
   ]
  },
  {
   "cell_type": "code",
   "execution_count": 34,
   "metadata": {},
   "outputs": [
    {
     "data": {
      "text/html": [
       "<div>\n",
       "<style scoped>\n",
       "    .dataframe tbody tr th:only-of-type {\n",
       "        vertical-align: middle;\n",
       "    }\n",
       "\n",
       "    .dataframe tbody tr th {\n",
       "        vertical-align: top;\n",
       "    }\n",
       "\n",
       "    .dataframe thead th {\n",
       "        text-align: right;\n",
       "    }\n",
       "</style>\n",
       "<table border=\"1\" class=\"dataframe\">\n",
       "  <thead>\n",
       "    <tr style=\"text-align: right;\">\n",
       "      <th></th>\n",
       "      <th>Date</th>\n",
       "      <th>Instrument</th>\n",
       "      <th>Open</th>\n",
       "      <th>High</th>\n",
       "      <th>Low</th>\n",
       "      <th>Close</th>\n",
       "      <th>pattern_inverted_hammer</th>\n",
       "      <th>momentum_ADX</th>\n",
       "      <th>pattern_3_outside_updown</th>\n",
       "      <th>x</th>\n",
       "    </tr>\n",
       "  </thead>\n",
       "  <tbody>\n",
       "  </tbody>\n",
       "</table>\n",
       "</div>"
      ],
      "text/plain": [
       "Empty DataFrame\n",
       "Columns: [Date, Instrument, Open, High, Low, Close, pattern_inverted_hammer, momentum_ADX, pattern_3_outside_updown, x]\n",
       "Index: []"
      ]
     },
     "execution_count": 34,
     "metadata": {},
     "output_type": "execute_result"
    }
   ],
   "source": [
    "sig.df[sig.df['x']==1]"
   ]
  },
  {
   "cell_type": "code",
   "execution_count": null,
   "metadata": {},
   "outputs": [],
   "source": []
  }
 ],
 "metadata": {
  "interpreter": {
   "hash": "1e92f48e6e16365956fe991a3d3819e55758e7f63490978670c35b75b73e1f24"
  },
  "kernelspec": {
   "display_name": "Python 3.8.2 64-bit ('ee': conda)",
   "name": "python3"
  },
  "language_info": {
   "codemirror_mode": {
    "name": "ipython",
    "version": 3
   },
   "file_extension": ".py",
   "mimetype": "text/x-python",
   "name": "python",
   "nbconvert_exporter": "python",
   "pygments_lexer": "ipython3",
   "version": "3.8.2"
  },
  "orig_nbformat": 4
 },
 "nbformat": 4,
 "nbformat_minor": 2
}
